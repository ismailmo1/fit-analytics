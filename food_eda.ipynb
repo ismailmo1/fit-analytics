{
 "cells": [
  {
   "cell_type": "code",
   "execution_count": 1,
   "metadata": {},
   "outputs": [],
   "source": [
    "import pandas as pd\n",
    "from datetime import date"
   ]
  },
  {
   "cell_type": "code",
   "execution_count": 2,
   "metadata": {},
   "outputs": [],
   "source": [
    "food_df = pd.read_csv('myfitnesspal/mfp-extract-2021.csv',index_col=0)"
   ]
  },
  {
   "cell_type": "code",
   "execution_count": 3,
   "metadata": {},
   "outputs": [],
   "source": [
    "food_df.reset_index(drop=True, inplace=True)"
   ]
  },
  {
   "cell_type": "code",
   "execution_count": 4,
   "metadata": {},
   "outputs": [],
   "source": [
    "#drop all columns where column headers are repeated (i.e. where dataframe is appended)\n",
    "food_df.drop(food_df[food_df['food']=='food'].index, inplace=True)"
   ]
  },
  {
   "cell_type": "code",
   "execution_count": 5,
   "metadata": {},
   "outputs": [],
   "source": [
    "food_df['date'] = pd.to_datetime(food_df['date'])\n",
    "food_df['calories_kcal'] = pd.to_numeric(food_df['calories_kcal'])"
   ]
  },
  {
   "cell_type": "markdown",
   "metadata": {},
   "source": [
    "how many calories did i eat on 1st jan 2021?"
   ]
  },
  {
   "cell_type": "code",
   "execution_count": 6,
   "metadata": {},
   "outputs": [
    {
     "name": "stdout",
     "output_type": "stream",
     "text": [
      "I ate 2386 calories (target: 2000)\n"
     ]
    }
   ],
   "source": [
    "new_year_food = food_df[food_df['date'].apply(lambda x:x.date()==date(2021,1,1))]\n",
    "print(f\"I ate {new_year_food['calories_kcal'].sum()} calories (target: {int(new_year_food['goal_calories_kcal'][0])})\")"
   ]
  }
 ],
 "metadata": {
  "interpreter": {
   "hash": "9f71aa1aa37e13f4fa4ac14b638e32e5f3ffcd829defd36c0006bab9c5c3f18a"
  },
  "kernelspec": {
   "display_name": "Python 3.8.10 ('venv': venv)",
   "language": "python",
   "name": "python3"
  },
  "language_info": {
   "codemirror_mode": {
    "name": "ipython",
    "version": 3
   },
   "file_extension": ".py",
   "mimetype": "text/x-python",
   "name": "python",
   "nbconvert_exporter": "python",
   "pygments_lexer": "ipython3",
   "version": "3.8.10"
  },
  "orig_nbformat": 4
 },
 "nbformat": 4,
 "nbformat_minor": 2
}
