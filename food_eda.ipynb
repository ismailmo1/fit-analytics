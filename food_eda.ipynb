{
 "cells": [
  {
   "cell_type": "code",
   "execution_count": 2,
   "metadata": {},
   "outputs": [],
   "source": [
    "import pandas as pd\n",
    "from datetime import date\n",
    "import seaborn as sns"
   ]
  },
  {
   "cell_type": "code",
   "execution_count": 3,
   "metadata": {},
   "outputs": [
    {
     "data": {
      "text/html": [
       "<div>\n",
       "<style scoped>\n",
       "    .dataframe tbody tr th:only-of-type {\n",
       "        vertical-align: middle;\n",
       "    }\n",
       "\n",
       "    .dataframe tbody tr th {\n",
       "        vertical-align: top;\n",
       "    }\n",
       "\n",
       "    .dataframe thead th {\n",
       "        text-align: right;\n",
       "    }\n",
       "</style>\n",
       "<table border=\"1\" class=\"dataframe\">\n",
       "  <thead>\n",
       "    <tr style=\"text-align: right;\">\n",
       "      <th></th>\n",
       "      <th>food</th>\n",
       "      <th>calories_kcal</th>\n",
       "      <th>carbs_g</th>\n",
       "      <th>fat_g</th>\n",
       "      <th>protein_g</th>\n",
       "      <th>sugar_g</th>\n",
       "      <th>fiber_g</th>\n",
       "      <th>goal_food</th>\n",
       "      <th>goal_calories_kcal</th>\n",
       "      <th>goal_carbs_g</th>\n",
       "      <th>goal_fat_g</th>\n",
       "      <th>goal_protein_g</th>\n",
       "      <th>goal_sugar_g</th>\n",
       "      <th>goal_fiber_g</th>\n",
       "      <th>date</th>\n",
       "    </tr>\n",
       "  </thead>\n",
       "  <tbody>\n",
       "    <tr>\n",
       "      <th>0.0</th>\n",
       "      <td>Eggs - White only, raw, 3 large</td>\n",
       "      <td>51</td>\n",
       "      <td>1  6</td>\n",
       "      <td>0  3</td>\n",
       "      <td>11  91</td>\n",
       "      <td>1</td>\n",
       "      <td>0</td>\n",
       "      <td>Your Daily Goal</td>\n",
       "      <td>2000</td>\n",
       "      <td>225  45</td>\n",
       "      <td>56  25</td>\n",
       "      <td>150  30</td>\n",
       "      <td>99</td>\n",
       "      <td>38</td>\n",
       "      <td>2021-01-01</td>\n",
       "    </tr>\n",
       "    <tr>\n",
       "      <th>1.0</th>\n",
       "      <td>Eggs - Whole, raw, 3 medium</td>\n",
       "      <td>194</td>\n",
       "      <td>1  2</td>\n",
       "      <td>13  63</td>\n",
       "      <td>17  35</td>\n",
       "      <td>1</td>\n",
       "      <td>0</td>\n",
       "      <td>Your Daily Goal</td>\n",
       "      <td>2000</td>\n",
       "      <td>225  45</td>\n",
       "      <td>56  25</td>\n",
       "      <td>150  30</td>\n",
       "      <td>99</td>\n",
       "      <td>38</td>\n",
       "      <td>2021-01-01</td>\n",
       "    </tr>\n",
       "    <tr>\n",
       "      <th>2.0</th>\n",
       "      <td>Apples - Raw, with skin, 250 g</td>\n",
       "      <td>130</td>\n",
       "      <td>35  96</td>\n",
       "      <td>0  3</td>\n",
       "      <td>1  1</td>\n",
       "      <td>26</td>\n",
       "      <td>6</td>\n",
       "      <td>Your Daily Goal</td>\n",
       "      <td>2000</td>\n",
       "      <td>225  45</td>\n",
       "      <td>56  25</td>\n",
       "      <td>150  30</td>\n",
       "      <td>99</td>\n",
       "      <td>38</td>\n",
       "      <td>2021-01-01</td>\n",
       "    </tr>\n",
       "    <tr>\n",
       "      <th>3.0</th>\n",
       "      <td>The Cheese Emporium - Mature Lighter Cheese, 30 g</td>\n",
       "      <td>96</td>\n",
       "      <td>1  3</td>\n",
       "      <td>7  63</td>\n",
       "      <td>8  34</td>\n",
       "      <td>1</td>\n",
       "      <td>1</td>\n",
       "      <td>Your Daily Goal</td>\n",
       "      <td>2000</td>\n",
       "      <td>225  45</td>\n",
       "      <td>56  25</td>\n",
       "      <td>150  30</td>\n",
       "      <td>99</td>\n",
       "      <td>38</td>\n",
       "      <td>2021-01-01</td>\n",
       "    </tr>\n",
       "    <tr>\n",
       "      <th>4.0</th>\n",
       "      <td>Hovis - 50/50 Bread, 3 slice</td>\n",
       "      <td>273</td>\n",
       "      <td>48  75</td>\n",
       "      <td>2  6</td>\n",
       "      <td>12  19</td>\n",
       "      <td>4</td>\n",
       "      <td>6</td>\n",
       "      <td>Your Daily Goal</td>\n",
       "      <td>2000</td>\n",
       "      <td>225  45</td>\n",
       "      <td>56  25</td>\n",
       "      <td>150  30</td>\n",
       "      <td>99</td>\n",
       "      <td>38</td>\n",
       "      <td>2021-01-01</td>\n",
       "    </tr>\n",
       "  </tbody>\n",
       "</table>\n",
       "</div>"
      ],
      "text/plain": [
       "                                                  food calories_kcal carbs_g  \\\n",
       "0.0                    Eggs - White only, raw, 3 large            51    1  6   \n",
       "1.0                        Eggs - Whole, raw, 3 medium           194    1  2   \n",
       "2.0                     Apples - Raw, with skin, 250 g           130  35  96   \n",
       "3.0  The Cheese Emporium - Mature Lighter Cheese, 30 g            96    1  3   \n",
       "4.0                       Hovis - 50/50 Bread, 3 slice           273  48  75   \n",
       "\n",
       "      fat_g protein_g sugar_g fiber_g        goal_food goal_calories_kcal  \\\n",
       "0.0    0  3    11  91       1       0  Your Daily Goal               2000   \n",
       "1.0  13  63    17  35       1       0  Your Daily Goal               2000   \n",
       "2.0    0  3      1  1      26       6  Your Daily Goal               2000   \n",
       "3.0   7  63     8  34       1       1  Your Daily Goal               2000   \n",
       "4.0    2  6    12  19       4       6  Your Daily Goal               2000   \n",
       "\n",
       "    goal_carbs_g goal_fat_g goal_protein_g goal_sugar_g goal_fiber_g  \\\n",
       "0.0      225  45     56  25        150  30           99           38   \n",
       "1.0      225  45     56  25        150  30           99           38   \n",
       "2.0      225  45     56  25        150  30           99           38   \n",
       "3.0      225  45     56  25        150  30           99           38   \n",
       "4.0      225  45     56  25        150  30           99           38   \n",
       "\n",
       "           date  \n",
       "0.0  2021-01-01  \n",
       "1.0  2021-01-01  \n",
       "2.0  2021-01-01  \n",
       "3.0  2021-01-01  \n",
       "4.0  2021-01-01  "
      ]
     },
     "execution_count": 3,
     "metadata": {},
     "output_type": "execute_result"
    }
   ],
   "source": [
    "food_df = pd.read_csv('myfitnesspal/mfp-extract-2021.csv',index_col=0)\n",
    "food_df.head()"
   ]
  },
  {
   "cell_type": "code",
   "execution_count": 4,
   "metadata": {},
   "outputs": [],
   "source": [
    "#reset index so each line has unique index (i.e. indices not restarted from 0 for each new day)\n",
    "food_df.reset_index(drop=True, inplace=True)"
   ]
  },
  {
   "cell_type": "code",
   "execution_count": 5,
   "metadata": {},
   "outputs": [],
   "source": [
    "#drop all rows containing column headers are repeated (i.e. where dataframe is appended)\n",
    "food_df.drop(food_df[food_df['food']=='food'].index, inplace=True)"
   ]
  },
  {
   "cell_type": "code",
   "execution_count": 6,
   "metadata": {},
   "outputs": [
    {
     "name": "stdout",
     "output_type": "stream",
     "text": [
      "<class 'pandas.core.frame.DataFrame'>\n",
      "Int64Index: 3191 entries, 0 to 3554\n",
      "Data columns (total 15 columns):\n",
      " #   Column              Non-Null Count  Dtype \n",
      "---  ------              --------------  ----- \n",
      " 0   food                3191 non-null   object\n",
      " 1   calories_kcal       3191 non-null   object\n",
      " 2   carbs_g             3191 non-null   object\n",
      " 3   fat_g               3191 non-null   object\n",
      " 4   protein_g           3191 non-null   object\n",
      " 5   sugar_g             3191 non-null   object\n",
      " 6   fiber_g             3191 non-null   object\n",
      " 7   goal_food           3191 non-null   object\n",
      " 8   goal_calories_kcal  3191 non-null   object\n",
      " 9   goal_carbs_g        3191 non-null   object\n",
      " 10  goal_fat_g          3191 non-null   object\n",
      " 11  goal_protein_g      3191 non-null   object\n",
      " 12  goal_sugar_g        3191 non-null   object\n",
      " 13  goal_fiber_g        3191 non-null   object\n",
      " 14  date                3191 non-null   object\n",
      "dtypes: object(15)\n",
      "memory usage: 398.9+ KB\n"
     ]
    }
   ],
   "source": [
    "#check column data types\n",
    "food_df.info()"
   ]
  },
  {
   "cell_type": "markdown",
   "metadata": {},
   "source": [
    "all columns should be numeric except for 'date' (datetime) and 'food' (str) - but the columns for macronutrients (fats, carbs and protein) have two numbers separated by a space so it needs to be sorted before we try convert to a numeric datatype"
   ]
  },
  {
   "cell_type": "code",
   "execution_count": 7,
   "metadata": {},
   "outputs": [
    {
     "data": {
      "text/html": [
       "<div>\n",
       "<style scoped>\n",
       "    .dataframe tbody tr th:only-of-type {\n",
       "        vertical-align: middle;\n",
       "    }\n",
       "\n",
       "    .dataframe tbody tr th {\n",
       "        vertical-align: top;\n",
       "    }\n",
       "\n",
       "    .dataframe thead th {\n",
       "        text-align: right;\n",
       "    }\n",
       "</style>\n",
       "<table border=\"1\" class=\"dataframe\">\n",
       "  <thead>\n",
       "    <tr style=\"text-align: right;\">\n",
       "      <th></th>\n",
       "      <th>carbs_g</th>\n",
       "      <th>fat_g</th>\n",
       "      <th>protein_g</th>\n",
       "      <th>goal_carbs_g</th>\n",
       "      <th>goal_fat_g</th>\n",
       "      <th>goal_protein_g</th>\n",
       "    </tr>\n",
       "  </thead>\n",
       "  <tbody>\n",
       "    <tr>\n",
       "      <th>0</th>\n",
       "      <td>1  6</td>\n",
       "      <td>0  3</td>\n",
       "      <td>11  91</td>\n",
       "      <td>225  45</td>\n",
       "      <td>56  25</td>\n",
       "      <td>150  30</td>\n",
       "    </tr>\n",
       "    <tr>\n",
       "      <th>1</th>\n",
       "      <td>1  2</td>\n",
       "      <td>13  63</td>\n",
       "      <td>17  35</td>\n",
       "      <td>225  45</td>\n",
       "      <td>56  25</td>\n",
       "      <td>150  30</td>\n",
       "    </tr>\n",
       "    <tr>\n",
       "      <th>2</th>\n",
       "      <td>35  96</td>\n",
       "      <td>0  3</td>\n",
       "      <td>1  1</td>\n",
       "      <td>225  45</td>\n",
       "      <td>56  25</td>\n",
       "      <td>150  30</td>\n",
       "    </tr>\n",
       "    <tr>\n",
       "      <th>3</th>\n",
       "      <td>1  3</td>\n",
       "      <td>7  63</td>\n",
       "      <td>8  34</td>\n",
       "      <td>225  45</td>\n",
       "      <td>56  25</td>\n",
       "      <td>150  30</td>\n",
       "    </tr>\n",
       "    <tr>\n",
       "      <th>4</th>\n",
       "      <td>48  75</td>\n",
       "      <td>2  6</td>\n",
       "      <td>12  19</td>\n",
       "      <td>225  45</td>\n",
       "      <td>56  25</td>\n",
       "      <td>150  30</td>\n",
       "    </tr>\n",
       "  </tbody>\n",
       "</table>\n",
       "</div>"
      ],
      "text/plain": [
       "  carbs_g   fat_g protein_g goal_carbs_g goal_fat_g goal_protein_g\n",
       "0    1  6    0  3    11  91      225  45     56  25        150  30\n",
       "1    1  2  13  63    17  35      225  45     56  25        150  30\n",
       "2  35  96    0  3      1  1      225  45     56  25        150  30\n",
       "3    1  3   7  63     8  34      225  45     56  25        150  30\n",
       "4  48  75    2  6    12  19      225  45     56  25        150  30"
      ]
     },
     "execution_count": 7,
     "metadata": {},
     "output_type": "execute_result"
    }
   ],
   "source": [
    "macro_cols = ['carbs_g', 'fat_g', 'protein_g', 'goal_carbs_g', 'goal_fat_g', 'goal_protein_g']\n",
    "food_df[macro_cols].head()"
   ]
  },
  {
   "cell_type": "markdown",
   "metadata": {},
   "source": [
    "The data was scraped from the myfitnesspal webpages (see scrape_mfp.py) so if we inspect the page source - we can see the macro percentage is stored in the same cell as the value with a css display property of none (which just hides the value from the user)\n",
    "\n",
    "The function used to read html tables into a dataframe: pd.read_html() ignores the span tags and renders all the text contents of the html cell into a single dataframe cell\n",
    "\n",
    "![mfp source code detective work](images/macro-perc-gotcha.png)\n",
    "\n",
    "![display is set to none via css](images/hidden-macro-perc.png)"
   ]
  },
  {
   "cell_type": "markdown",
   "metadata": {},
   "source": [
    "Since we're only interested in the macro value we can split the string on the whitespace (default) and take the first value"
   ]
  },
  {
   "cell_type": "code",
   "execution_count": 8,
   "metadata": {},
   "outputs": [
    {
     "name": "stdout",
     "output_type": "stream",
     "text": [
      "<class 'pandas.core.frame.DataFrame'>\n",
      "Int64Index: 3191 entries, 0 to 3554\n",
      "Data columns (total 15 columns):\n",
      " #   Column              Non-Null Count  Dtype         \n",
      "---  ------              --------------  -----         \n",
      " 0   food                3191 non-null   object        \n",
      " 1   calories_kcal       3191 non-null   int64         \n",
      " 2   carbs_g             3191 non-null   int64         \n",
      " 3   fat_g               3191 non-null   int64         \n",
      " 4   protein_g           3191 non-null   int64         \n",
      " 5   sugar_g             3191 non-null   int64         \n",
      " 6   fiber_g             3191 non-null   int64         \n",
      " 7   goal_food           3191 non-null   object        \n",
      " 8   goal_calories_kcal  3191 non-null   int64         \n",
      " 9   goal_carbs_g        3191 non-null   int64         \n",
      " 10  goal_fat_g          3191 non-null   int64         \n",
      " 11  goal_protein_g      3191 non-null   int64         \n",
      " 12  goal_sugar_g        3191 non-null   int64         \n",
      " 13  goal_fiber_g        3191 non-null   int64         \n",
      " 14  date                3191 non-null   datetime64[ns]\n",
      "dtypes: datetime64[ns](1), int64(12), object(2)\n",
      "memory usage: 398.9+ KB\n"
     ]
    }
   ],
   "source": [
    "food_df[macro_cols] = food_df[macro_cols].applymap(lambda x:x.split(\"  \")[0])\n",
    "\n",
    "#convert datatypes\n",
    "numeric_cols =[col for col in food_df.columns if '_g' in col or 'calories' in col]\n",
    "food_df[numeric_cols] = food_df[numeric_cols].apply(pd.to_numeric)\n",
    "food_df['date'] = pd.to_datetime(food_df['date'])\n",
    "\n",
    "#check datatypes again\n",
    "food_df.info()"
   ]
  },
  {
   "cell_type": "markdown",
   "metadata": {},
   "source": [
    "The 'food' column contains names of food items but it also has the quantities - can we extract more data out of this?"
   ]
  },
  {
   "cell_type": "code",
   "execution_count": 9,
   "metadata": {},
   "outputs": [
    {
     "data": {
      "text/plain": [
       "2    0.861799\n",
       "3    0.134754\n",
       "6    0.003134\n",
       "5    0.000313\n",
       "Name: list_size, dtype: float64"
      ]
     },
     "execution_count": 9,
     "metadata": {},
     "output_type": "execute_result"
    }
   ],
   "source": [
    "# can we use the comma as a consistent separator to return [food_name, food_qty]?\n",
    "food_list_df =  food_df['food'].agg({'list':lambda x:x.split(','), 'list_size':lambda x:len(x.split(','))}).unstack().transpose()\n",
    "\n",
    "food_list_df['list_size'].value_counts(normalize=True)"
   ]
  },
  {
   "cell_type": "markdown",
   "metadata": {},
   "source": [
    "~86% of data can be cleaned this way but there are some exceptions - we'll use the last element of the split list which should capture most of the serving sizes even for the rows with more than one comma"
   ]
  },
  {
   "cell_type": "code",
   "execution_count": 10,
   "metadata": {},
   "outputs": [
    {
     "name": "stdout",
     "output_type": "stream",
     "text": [
      "example of data that won't be cleaned accurately\n",
      "' Breyers - Creamy chocolate, 1 container (264,00 gram) ' - the quantity will be parsed as '00 gram'\n"
     ]
    }
   ],
   "source": [
    "# top offenders\n",
    "food_list_df[food_list_df['list_size']>2]\n",
    "\n",
    "\n",
    "# we can use the last element of the list but there'll be some exception that we are going just accept won't be clean\n",
    "print(\"example of data that won't be cleaned accurately\\n'\",\n",
    "\",\".join(food_list_df[food_list_df['list_size']>2].loc[12, 'list']), \"' - the quantity will be parsed as '00 gram'\")\n"
   ]
  },
  {
   "cell_type": "code",
   "execution_count": 11,
   "metadata": {},
   "outputs": [
    {
     "data": {
      "text/html": [
       "<div>\n",
       "<style scoped>\n",
       "    .dataframe tbody tr th:only-of-type {\n",
       "        vertical-align: middle;\n",
       "    }\n",
       "\n",
       "    .dataframe tbody tr th {\n",
       "        vertical-align: top;\n",
       "    }\n",
       "\n",
       "    .dataframe thead th {\n",
       "        text-align: right;\n",
       "    }\n",
       "</style>\n",
       "<table border=\"1\" class=\"dataframe\">\n",
       "  <thead>\n",
       "    <tr style=\"text-align: right;\">\n",
       "      <th></th>\n",
       "      <th>calories_kcal</th>\n",
       "      <th>carbs_g</th>\n",
       "      <th>fat_g</th>\n",
       "      <th>protein_g</th>\n",
       "      <th>sugar_g</th>\n",
       "      <th>fiber_g</th>\n",
       "      <th>goal_food</th>\n",
       "      <th>goal_calories_kcal</th>\n",
       "      <th>goal_carbs_g</th>\n",
       "      <th>goal_fat_g</th>\n",
       "      <th>goal_protein_g</th>\n",
       "      <th>goal_sugar_g</th>\n",
       "      <th>goal_fiber_g</th>\n",
       "      <th>date</th>\n",
       "      <th>food_name</th>\n",
       "      <th>food_qty</th>\n",
       "    </tr>\n",
       "  </thead>\n",
       "  <tbody>\n",
       "    <tr>\n",
       "      <th>0</th>\n",
       "      <td>51</td>\n",
       "      <td>1</td>\n",
       "      <td>0</td>\n",
       "      <td>11</td>\n",
       "      <td>1</td>\n",
       "      <td>0</td>\n",
       "      <td>Your Daily Goal</td>\n",
       "      <td>2000</td>\n",
       "      <td>225</td>\n",
       "      <td>56</td>\n",
       "      <td>150</td>\n",
       "      <td>99</td>\n",
       "      <td>38</td>\n",
       "      <td>2021-01-01</td>\n",
       "      <td>Eggs - White only raw</td>\n",
       "      <td>3 large</td>\n",
       "    </tr>\n",
       "    <tr>\n",
       "      <th>1</th>\n",
       "      <td>194</td>\n",
       "      <td>1</td>\n",
       "      <td>13</td>\n",
       "      <td>17</td>\n",
       "      <td>1</td>\n",
       "      <td>0</td>\n",
       "      <td>Your Daily Goal</td>\n",
       "      <td>2000</td>\n",
       "      <td>225</td>\n",
       "      <td>56</td>\n",
       "      <td>150</td>\n",
       "      <td>99</td>\n",
       "      <td>38</td>\n",
       "      <td>2021-01-01</td>\n",
       "      <td>Eggs - Whole raw</td>\n",
       "      <td>3 medium</td>\n",
       "    </tr>\n",
       "    <tr>\n",
       "      <th>2</th>\n",
       "      <td>130</td>\n",
       "      <td>35</td>\n",
       "      <td>0</td>\n",
       "      <td>1</td>\n",
       "      <td>26</td>\n",
       "      <td>6</td>\n",
       "      <td>Your Daily Goal</td>\n",
       "      <td>2000</td>\n",
       "      <td>225</td>\n",
       "      <td>56</td>\n",
       "      <td>150</td>\n",
       "      <td>99</td>\n",
       "      <td>38</td>\n",
       "      <td>2021-01-01</td>\n",
       "      <td>Apples - Raw with skin</td>\n",
       "      <td>250 g</td>\n",
       "    </tr>\n",
       "    <tr>\n",
       "      <th>3</th>\n",
       "      <td>96</td>\n",
       "      <td>1</td>\n",
       "      <td>7</td>\n",
       "      <td>8</td>\n",
       "      <td>1</td>\n",
       "      <td>1</td>\n",
       "      <td>Your Daily Goal</td>\n",
       "      <td>2000</td>\n",
       "      <td>225</td>\n",
       "      <td>56</td>\n",
       "      <td>150</td>\n",
       "      <td>99</td>\n",
       "      <td>38</td>\n",
       "      <td>2021-01-01</td>\n",
       "      <td>The Cheese Emporium - Mature Lighter Cheese</td>\n",
       "      <td>30 g</td>\n",
       "    </tr>\n",
       "    <tr>\n",
       "      <th>4</th>\n",
       "      <td>273</td>\n",
       "      <td>48</td>\n",
       "      <td>2</td>\n",
       "      <td>12</td>\n",
       "      <td>4</td>\n",
       "      <td>6</td>\n",
       "      <td>Your Daily Goal</td>\n",
       "      <td>2000</td>\n",
       "      <td>225</td>\n",
       "      <td>56</td>\n",
       "      <td>150</td>\n",
       "      <td>99</td>\n",
       "      <td>38</td>\n",
       "      <td>2021-01-01</td>\n",
       "      <td>Hovis - 50/50 Bread</td>\n",
       "      <td>3 slice</td>\n",
       "    </tr>\n",
       "  </tbody>\n",
       "</table>\n",
       "</div>"
      ],
      "text/plain": [
       "   calories_kcal  carbs_g  fat_g  protein_g  sugar_g  fiber_g  \\\n",
       "0             51        1      0         11        1        0   \n",
       "1            194        1     13         17        1        0   \n",
       "2            130       35      0          1       26        6   \n",
       "3             96        1      7          8        1        1   \n",
       "4            273       48      2         12        4        6   \n",
       "\n",
       "         goal_food  goal_calories_kcal  goal_carbs_g  goal_fat_g  \\\n",
       "0  Your Daily Goal                2000           225          56   \n",
       "1  Your Daily Goal                2000           225          56   \n",
       "2  Your Daily Goal                2000           225          56   \n",
       "3  Your Daily Goal                2000           225          56   \n",
       "4  Your Daily Goal                2000           225          56   \n",
       "\n",
       "   goal_protein_g  goal_sugar_g  goal_fiber_g       date  \\\n",
       "0             150            99            38 2021-01-01   \n",
       "1             150            99            38 2021-01-01   \n",
       "2             150            99            38 2021-01-01   \n",
       "3             150            99            38 2021-01-01   \n",
       "4             150            99            38 2021-01-01   \n",
       "\n",
       "                                     food_name   food_qty  \n",
       "0                        Eggs - White only raw    3 large  \n",
       "1                             Eggs - Whole raw   3 medium  \n",
       "2                       Apples - Raw with skin      250 g  \n",
       "3  The Cheese Emporium - Mature Lighter Cheese       30 g  \n",
       "4                          Hovis - 50/50 Bread    3 slice  "
      ]
     },
     "execution_count": 11,
     "metadata": {},
     "output_type": "execute_result"
    }
   ],
   "source": [
    "food_df['food_name'] = food_df['food'].apply(lambda x:\"\".join(x.split(',')[:-1]))\n",
    "food_df['food_qty'] = food_df['food'].apply(lambda x:\"\".join(x.split(',')[-1]))\n",
    "food_df.drop('food', axis=1, inplace=True)\n",
    "food_df.head()"
   ]
  },
  {
   "cell_type": "markdown",
   "metadata": {},
   "source": [
    "Let's try query some data!\n",
    "\n",
    "e.g. how many calories did I eat on new years day in 2021?"
   ]
  },
  {
   "cell_type": "code",
   "execution_count": 12,
   "metadata": {},
   "outputs": [
    {
     "name": "stdout",
     "output_type": "stream",
     "text": [
      "I ate 2386 calories (target: 2000)\n"
     ]
    }
   ],
   "source": [
    "new_year_food = food_df[food_df['date'].apply(lambda x:x.date()==date(2021,1,1))]\n",
    "print(f\"I ate {new_year_food['calories_kcal'].sum()} calories (target: {int(new_year_food['goal_calories_kcal'][0])})\")"
   ]
  },
  {
   "cell_type": "markdown",
   "metadata": {},
   "source": [
    "what items did i eat the most frequently?"
   ]
  },
  {
   "cell_type": "code",
   "execution_count": 13,
   "metadata": {},
   "outputs": [
    {
     "data": {
      "text/plain": [
       "Text(0.5, 1.0, 'Top foods for 2021')"
      ]
     },
     "execution_count": 13,
     "metadata": {},
     "output_type": "execute_result"
    },
    {
     "data": {
      "image/png": "[encoded data removed]",
      "text/plain": [
       "<Figure size 1440x720 with 1 Axes>"
      ]
     },
     "metadata": {},
     "output_type": "display_data"
    }
   ],
   "source": [
    "#group by food name for repeatable analysis\n",
    "food_name_group = food_df.groupby('food_name')\n",
    "\n",
    "food_counts_df = food_name_group.count().sort_values('calories_kcal', ascending=False)\n",
    "food_counts_df = food_counts_df.iloc[:, 1].reset_index()\n",
    "food_counts_df.columns = ['food_name', 'count']\n",
    "sns.set_style()\n",
    "sns.set_theme()\n",
    "ax = sns.barplot(x='food_name', y='count', data= food_counts_df[0:10])\n",
    "ax.set_xticklabels(ax.get_xticklabels(),rotation = 90)\n",
    "ax.figure.set_size_inches(20,10)\n",
    "ax.set_title('Top foods for 2021')"
   ]
  },
  {
   "cell_type": "code",
   "execution_count": 56,
   "metadata": {},
   "outputs": [
    {
     "name": "stdout",
     "output_type": "stream",
     "text": [
      "802.5 slices of bread, 12845 grams of carbs and 73029 calories\n",
      "I guess I like bread!\n"
     ]
    }
   ],
   "source": [
    "bread_rows = food_df[food_df['food_name']=='Hovis - 50/50 Bread']\n",
    "\n",
    "#get number of sliced from food_qty string\n",
    "total_bread_slices = bread_rows['food_qty'].apply(lambda x:float(x.split()[0])).sum()\n",
    "total_bread_cals = bread_rows['calories_kcal'].sum()\n",
    "total_bread_carbs = bread_rows['carbs_g'].sum()\n",
    "\n",
    "print(f\"{total_bread_slices} slices of bread, {total_bread_carbs} grams of carbs and {total_bread_cals} calories\\nI guess I like bread!\")"
   ]
  },
  {
   "cell_type": "markdown",
   "metadata": {},
   "source": [
    "Summarise totals for each food"
   ]
  },
  {
   "cell_type": "code",
   "execution_count": 15,
   "metadata": {},
   "outputs": [],
   "source": [
    "#total values for macronutrients grouped by foods\n",
    "food_totals_df = food_name_group.sum()[['calories_kcal', 'carbs_g', 'fat_g', 'protein_g', 'sugar_g', 'fiber_g']]"
   ]
  },
  {
   "cell_type": "markdown",
   "metadata": {},
   "source": [
    "### Most common sources for calories and macronutrients"
   ]
  },
  {
   "cell_type": "code",
   "execution_count": 36,
   "metadata": {},
   "outputs": [
    {
     "name": "stdout",
     "output_type": "stream",
     "text": [
      "top calorie source: Hovis - 50/50 Bread\n",
      "\n",
      "most common sources of macros:\n",
      "\tcarbs: Hovis - 50/50 Bread\n",
      "\tprotein: cooked chicken breast (1g/serving)\n",
      "\tfats: The Cheese Emporium - Mature Lighter Cheese\n"
     ]
    }
   ],
   "source": [
    "top_cal_source = food_totals_df.sort_values('calories_kcal', ascending=False).iloc[0]\n",
    "top_carb_source = food_totals_df.sort_values('carbs_g', ascending=False).iloc[0]\n",
    "top_fat_source = food_totals_df.sort_values('fat_g', ascending=False).iloc[0]\n",
    "top_protein_source = food_totals_df.sort_values('protein_g', ascending=False).iloc[0]\n",
    "\n",
    "print(f\"top calorie source: {top_cal_source.name}\\n\\nmost common sources of macros:\\n\\tcarbs: {top_carb_source.name}\\n\\tprotein: {top_protein_source.name}\\n\\tfats: {top_fat_source.name}\")"
   ]
  },
  {
   "cell_type": "markdown",
   "metadata": {},
   "source": [
    "#### Now that I think of it, this is a pretty typical meal\n",
    "![chicken cheese melt](images/chicken-cheese-sandwich.jpg)"
   ]
  },
  {
   "cell_type": "markdown",
   "metadata": {},
   "source": [
    "#### Although the above analysis showed us the highest contributors to my fat/protein/carb intake - all top contributors are dominated by the same foods i.e. bread, cheese and chicken\n",
    "\n",
    "##### you can see that bread and cheese are in the top 5 contributors to protein also, even though bread isn't typically eaten for its protein content"
   ]
  },
  {
   "cell_type": "code",
   "execution_count": 59,
   "metadata": {},
   "outputs": [
    {
     "data": {
      "text/html": [
       "<div>\n",
       "<style scoped>\n",
       "    .dataframe tbody tr th:only-of-type {\n",
       "        vertical-align: middle;\n",
       "    }\n",
       "\n",
       "    .dataframe tbody tr th {\n",
       "        vertical-align: top;\n",
       "    }\n",
       "\n",
       "    .dataframe thead th {\n",
       "        text-align: right;\n",
       "    }\n",
       "</style>\n",
       "<table border=\"1\" class=\"dataframe\">\n",
       "  <thead>\n",
       "    <tr style=\"text-align: right;\">\n",
       "      <th></th>\n",
       "      <th>calories_kcal</th>\n",
       "      <th>carbs_g</th>\n",
       "      <th>fat_g</th>\n",
       "      <th>protein_g</th>\n",
       "      <th>sugar_g</th>\n",
       "      <th>fiber_g</th>\n",
       "    </tr>\n",
       "    <tr>\n",
       "      <th>food_name</th>\n",
       "      <th></th>\n",
       "      <th></th>\n",
       "      <th></th>\n",
       "      <th></th>\n",
       "      <th></th>\n",
       "      <th></th>\n",
       "    </tr>\n",
       "  </thead>\n",
       "  <tbody>\n",
       "    <tr>\n",
       "      <th>cooked chicken breast (1g/serving)</th>\n",
       "      <td>46955</td>\n",
       "      <td>0</td>\n",
       "      <td>1009</td>\n",
       "      <td>8779</td>\n",
       "      <td>0</td>\n",
       "      <td>0</td>\n",
       "    </tr>\n",
       "    <tr>\n",
       "      <th>chicken thigh cooked</th>\n",
       "      <td>42854</td>\n",
       "      <td>0</td>\n",
       "      <td>1481</td>\n",
       "      <td>6948</td>\n",
       "      <td>0</td>\n",
       "      <td>0</td>\n",
       "    </tr>\n",
       "    <tr>\n",
       "      <th>My Protein - Impact Whey Salted Caramel</th>\n",
       "      <td>25531</td>\n",
       "      <td>274</td>\n",
       "      <td>501</td>\n",
       "      <td>5052</td>\n",
       "      <td>274</td>\n",
       "      <td>0</td>\n",
       "    </tr>\n",
       "    <tr>\n",
       "      <th>Hovis - 50/50 Bread</th>\n",
       "      <td>73029</td>\n",
       "      <td>12845</td>\n",
       "      <td>427</td>\n",
       "      <td>3210</td>\n",
       "      <td>1179</td>\n",
       "      <td>1605</td>\n",
       "    </tr>\n",
       "    <tr>\n",
       "      <th>The Cheese Emporium - Mature Lighter Cheese</th>\n",
       "      <td>35088</td>\n",
       "      <td>278</td>\n",
       "      <td>2471</td>\n",
       "      <td>2939</td>\n",
       "      <td>277</td>\n",
       "      <td>277</td>\n",
       "    </tr>\n",
       "  </tbody>\n",
       "</table>\n",
       "</div>"
      ],
      "text/plain": [
       "                                             calories_kcal  carbs_g  fat_g  \\\n",
       "food_name                                                                    \n",
       "cooked chicken breast (1g/serving)                   46955        0   1009   \n",
       "chicken thigh cooked                                 42854        0   1481   \n",
       "My Protein - Impact Whey Salted Caramel              25531      274    501   \n",
       "Hovis - 50/50 Bread                                  73029    12845    427   \n",
       "The Cheese Emporium - Mature Lighter Cheese          35088      278   2471   \n",
       "\n",
       "                                             protein_g  sugar_g  fiber_g  \n",
       "food_name                                                                 \n",
       "cooked chicken breast (1g/serving)                8779        0        0  \n",
       "chicken thigh cooked                              6948        0        0  \n",
       "My Protein - Impact Whey Salted Caramel           5052      274        0  \n",
       "Hovis - 50/50 Bread                               3210     1179     1605  \n",
       "The Cheese Emporium - Mature Lighter Cheese       2939      277      277  "
      ]
     },
     "execution_count": 59,
     "metadata": {},
     "output_type": "execute_result"
    }
   ],
   "source": [
    "food_totals_df.sort_values('protein_g', ascending=False).head()"
   ]
  },
  {
   "cell_type": "markdown",
   "metadata": {},
   "source": [
    "#### another option is to categorise foods based on their dominant macronutrient (this can be done by caloric value but I chose grams since I usually aim for a target based on grams)"
   ]
  },
  {
   "cell_type": "code",
   "execution_count": 145,
   "metadata": {},
   "outputs": [
    {
     "data": {
      "text/html": [
       "<div>\n",
       "<style scoped>\n",
       "    .dataframe tbody tr th:only-of-type {\n",
       "        vertical-align: middle;\n",
       "    }\n",
       "\n",
       "    .dataframe tbody tr th {\n",
       "        vertical-align: top;\n",
       "    }\n",
       "\n",
       "    .dataframe thead th {\n",
       "        text-align: right;\n",
       "    }\n",
       "</style>\n",
       "<table border=\"1\" class=\"dataframe\">\n",
       "  <thead>\n",
       "    <tr style=\"text-align: right;\">\n",
       "      <th></th>\n",
       "      <th>food_name</th>\n",
       "      <th>carbs_g</th>\n",
       "      <th>fat_g</th>\n",
       "      <th>protein_g</th>\n",
       "      <th>major_macro</th>\n",
       "      <th>major_macro_g</th>\n",
       "    </tr>\n",
       "  </thead>\n",
       "  <tbody>\n",
       "    <tr>\n",
       "      <th>0</th>\n",
       "      <td>Eggs - White only raw</td>\n",
       "      <td>1</td>\n",
       "      <td>0</td>\n",
       "      <td>11</td>\n",
       "      <td>protein</td>\n",
       "      <td>11</td>\n",
       "    </tr>\n",
       "    <tr>\n",
       "      <th>1</th>\n",
       "      <td>Eggs - Whole raw</td>\n",
       "      <td>1</td>\n",
       "      <td>13</td>\n",
       "      <td>17</td>\n",
       "      <td>protein</td>\n",
       "      <td>17</td>\n",
       "    </tr>\n",
       "    <tr>\n",
       "      <th>2</th>\n",
       "      <td>Apples - Raw with skin</td>\n",
       "      <td>35</td>\n",
       "      <td>0</td>\n",
       "      <td>1</td>\n",
       "      <td>carbs</td>\n",
       "      <td>35</td>\n",
       "    </tr>\n",
       "    <tr>\n",
       "      <th>3</th>\n",
       "      <td>The Cheese Emporium - Mature Lighter Cheese</td>\n",
       "      <td>1</td>\n",
       "      <td>7</td>\n",
       "      <td>8</td>\n",
       "      <td>protein</td>\n",
       "      <td>8</td>\n",
       "    </tr>\n",
       "    <tr>\n",
       "      <th>4</th>\n",
       "      <td>Hovis - 50/50 Bread</td>\n",
       "      <td>48</td>\n",
       "      <td>2</td>\n",
       "      <td>12</td>\n",
       "      <td>carbs</td>\n",
       "      <td>48</td>\n",
       "    </tr>\n",
       "  </tbody>\n",
       "</table>\n",
       "</div>"
      ],
      "text/plain": [
       "                                     food_name  carbs_g  fat_g  protein_g  \\\n",
       "0                        Eggs - White only raw        1      0         11   \n",
       "1                             Eggs - Whole raw        1     13         17   \n",
       "2                       Apples - Raw with skin       35      0          1   \n",
       "3  The Cheese Emporium - Mature Lighter Cheese        1      7          8   \n",
       "4                          Hovis - 50/50 Bread       48      2         12   \n",
       "\n",
       "  major_macro  major_macro_g  \n",
       "0     protein             11  \n",
       "1     protein             17  \n",
       "2       carbs             35  \n",
       "3     protein              8  \n",
       "4       carbs             48  "
      ]
     },
     "execution_count": 145,
     "metadata": {},
     "output_type": "execute_result"
    }
   ],
   "source": [
    "# add a primary macro nutrient column to categorise food into carb, fat or protein source by max of grams\n",
    "food_df['major_macro'] = food_df[macro_cols[0:3]].idxmax(axis=1).apply(lambda x:x.split(\"_\")[0])\n",
    "food_df['major_macro_g'] = food_df[macro_cols[0:3]].max(axis=1)\n",
    "\n",
    "food_df[['food_name','carbs_g', 'fat_g', 'protein_g','major_macro','major_macro_g']].head()"
   ]
  },
  {
   "cell_type": "code",
   "execution_count": 147,
   "metadata": {},
   "outputs": [],
   "source": [
    "#add frequency column\n",
    "food_df['freq'] = food_df['food_name'].map(food_df['food_name'].value_counts())"
   ]
  },
  {
   "cell_type": "code",
   "execution_count": 148,
   "metadata": {},
   "outputs": [],
   "source": [
    "#get top 5 sources for each macro \n",
    "top_foods_df = food_df.drop_duplicates('food_name').groupby('major_macro', as_index=False).apply(lambda x:x.nlargest(5, 'freq')).reset_index(drop=True)"
   ]
  },
  {
   "cell_type": "code",
   "execution_count": 150,
   "metadata": {},
   "outputs": [
    {
     "name": "stderr",
     "output_type": "stream",
     "text": [
      "/home/ismail/Projects/data_sci/fit-progress/venv/lib/python3.8/site-packages/seaborn/categorical.py:3806: UserWarning: Setting `sharex=False` with `color=None` may cause different levels of the `x` variable to share colors. This will change in a future version.\n",
      "  warnings.warn(msg.format(\"sharex\", \"x\"), UserWarning)\n"
     ]
    },
    {
     "data": {
      "image/png": "[encoded data removed]",
      "text/plain": [
       "<Figure size 1440x720 with 3 Axes>"
      ]
     },
     "metadata": {},
     "output_type": "display_data"
    }
   ],
   "source": [
    "grid = sns.catplot(data =top_foods_df, y='freq', x='food_name', kind='bar', col='major_macro', sharex=False,  palette=sns.color_palette('deep'), aspect = 2.5 )\n",
    "grid.figure.set_size_inches(20,10)\n",
    "grid.despine = True\n",
    "grid.figure.suptitle('Top 5 Food Sources by Macronutrient')\n",
    "for ax in grid.axes.flatten():\n",
    "    ax.set_xticklabels(ax.get_xticklabels(),rotation = 90)\n",
    "    ax.set_xlabel(\"\")"
   ]
  },
  {
   "cell_type": "markdown",
   "metadata": {},
   "source": []
  }
 ],
 "metadata": {
  "interpreter": {
   "hash": "9f71aa1aa37e13f4fa4ac14b638e32e5f3ffcd829defd36c0006bab9c5c3f18a"
  },
  "kernelspec": {
   "display_name": "Python 3.8.10 ('venv': venv)",
   "language": "python",
   "name": "python3"
  },
  "language_info": {
   "codemirror_mode": {
    "name": "ipython",
    "version": 3
   },
   "file_extension": ".py",
   "mimetype": "text/x-python",
   "name": "python",
   "nbconvert_exporter": "python",
   "pygments_lexer": "ipython3",
   "version": "3.8.10"
  },
  "orig_nbformat": 4
 },
 "nbformat": 4,
 "nbformat_minor": 2
}
