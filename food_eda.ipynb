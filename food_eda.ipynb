{
 "cells": [
  {
   "cell_type": "code",
   "execution_count": 72,
   "metadata": {},
   "outputs": [],
   "source": [
    "import pandas as pd\n",
    "from datetime import date"
   ]
  },
  {
   "cell_type": "code",
   "execution_count": 73,
   "metadata": {},
   "outputs": [
    {
     "data": {
      "text/html": [
       "<div>\n",
       "<style scoped>\n",
       "    .dataframe tbody tr th:only-of-type {\n",
       "        vertical-align: middle;\n",
       "    }\n",
       "\n",
       "    .dataframe tbody tr th {\n",
       "        vertical-align: top;\n",
       "    }\n",
       "\n",
       "    .dataframe thead th {\n",
       "        text-align: right;\n",
       "    }\n",
       "</style>\n",
       "<table border=\"1\" class=\"dataframe\">\n",
       "  <thead>\n",
       "    <tr style=\"text-align: right;\">\n",
       "      <th></th>\n",
       "      <th>food</th>\n",
       "      <th>calories_kcal</th>\n",
       "      <th>carbs_g</th>\n",
       "      <th>fat_g</th>\n",
       "      <th>protein_g</th>\n",
       "      <th>sugar_g</th>\n",
       "      <th>fiber_g</th>\n",
       "      <th>goal_food</th>\n",
       "      <th>goal_calories_kcal</th>\n",
       "      <th>goal_carbs_g</th>\n",
       "      <th>goal_fat_g</th>\n",
       "      <th>goal_protein_g</th>\n",
       "      <th>goal_sugar_g</th>\n",
       "      <th>goal_fiber_g</th>\n",
       "      <th>date</th>\n",
       "    </tr>\n",
       "  </thead>\n",
       "  <tbody>\n",
       "    <tr>\n",
       "      <th>0.0</th>\n",
       "      <td>Eggs - White only, raw, 3 large</td>\n",
       "      <td>51</td>\n",
       "      <td>1  6</td>\n",
       "      <td>0  3</td>\n",
       "      <td>11  91</td>\n",
       "      <td>1</td>\n",
       "      <td>0</td>\n",
       "      <td>Your Daily Goal</td>\n",
       "      <td>2000</td>\n",
       "      <td>225  45</td>\n",
       "      <td>56  25</td>\n",
       "      <td>150  30</td>\n",
       "      <td>99</td>\n",
       "      <td>38</td>\n",
       "      <td>2021-01-01</td>\n",
       "    </tr>\n",
       "    <tr>\n",
       "      <th>1.0</th>\n",
       "      <td>Eggs - Whole, raw, 3 medium</td>\n",
       "      <td>194</td>\n",
       "      <td>1  2</td>\n",
       "      <td>13  63</td>\n",
       "      <td>17  35</td>\n",
       "      <td>1</td>\n",
       "      <td>0</td>\n",
       "      <td>Your Daily Goal</td>\n",
       "      <td>2000</td>\n",
       "      <td>225  45</td>\n",
       "      <td>56  25</td>\n",
       "      <td>150  30</td>\n",
       "      <td>99</td>\n",
       "      <td>38</td>\n",
       "      <td>2021-01-01</td>\n",
       "    </tr>\n",
       "    <tr>\n",
       "      <th>2.0</th>\n",
       "      <td>Apples - Raw, with skin, 250 g</td>\n",
       "      <td>130</td>\n",
       "      <td>35  96</td>\n",
       "      <td>0  3</td>\n",
       "      <td>1  1</td>\n",
       "      <td>26</td>\n",
       "      <td>6</td>\n",
       "      <td>Your Daily Goal</td>\n",
       "      <td>2000</td>\n",
       "      <td>225  45</td>\n",
       "      <td>56  25</td>\n",
       "      <td>150  30</td>\n",
       "      <td>99</td>\n",
       "      <td>38</td>\n",
       "      <td>2021-01-01</td>\n",
       "    </tr>\n",
       "    <tr>\n",
       "      <th>3.0</th>\n",
       "      <td>The Cheese Emporium - Mature Lighter Cheese, 30 g</td>\n",
       "      <td>96</td>\n",
       "      <td>1  3</td>\n",
       "      <td>7  63</td>\n",
       "      <td>8  34</td>\n",
       "      <td>1</td>\n",
       "      <td>1</td>\n",
       "      <td>Your Daily Goal</td>\n",
       "      <td>2000</td>\n",
       "      <td>225  45</td>\n",
       "      <td>56  25</td>\n",
       "      <td>150  30</td>\n",
       "      <td>99</td>\n",
       "      <td>38</td>\n",
       "      <td>2021-01-01</td>\n",
       "    </tr>\n",
       "    <tr>\n",
       "      <th>4.0</th>\n",
       "      <td>Hovis - 50/50 Bread, 3 slice</td>\n",
       "      <td>273</td>\n",
       "      <td>48  75</td>\n",
       "      <td>2  6</td>\n",
       "      <td>12  19</td>\n",
       "      <td>4</td>\n",
       "      <td>6</td>\n",
       "      <td>Your Daily Goal</td>\n",
       "      <td>2000</td>\n",
       "      <td>225  45</td>\n",
       "      <td>56  25</td>\n",
       "      <td>150  30</td>\n",
       "      <td>99</td>\n",
       "      <td>38</td>\n",
       "      <td>2021-01-01</td>\n",
       "    </tr>\n",
       "  </tbody>\n",
       "</table>\n",
       "</div>"
      ],
      "text/plain": [
       "                                                  food calories_kcal carbs_g  \\\n",
       "0.0                    Eggs - White only, raw, 3 large            51    1  6   \n",
       "1.0                        Eggs - Whole, raw, 3 medium           194    1  2   \n",
       "2.0                     Apples - Raw, with skin, 250 g           130  35  96   \n",
       "3.0  The Cheese Emporium - Mature Lighter Cheese, 30 g            96    1  3   \n",
       "4.0                       Hovis - 50/50 Bread, 3 slice           273  48  75   \n",
       "\n",
       "      fat_g protein_g sugar_g fiber_g        goal_food goal_calories_kcal  \\\n",
       "0.0    0  3    11  91       1       0  Your Daily Goal               2000   \n",
       "1.0  13  63    17  35       1       0  Your Daily Goal               2000   \n",
       "2.0    0  3      1  1      26       6  Your Daily Goal               2000   \n",
       "3.0   7  63     8  34       1       1  Your Daily Goal               2000   \n",
       "4.0    2  6    12  19       4       6  Your Daily Goal               2000   \n",
       "\n",
       "    goal_carbs_g goal_fat_g goal_protein_g goal_sugar_g goal_fiber_g  \\\n",
       "0.0      225  45     56  25        150  30           99           38   \n",
       "1.0      225  45     56  25        150  30           99           38   \n",
       "2.0      225  45     56  25        150  30           99           38   \n",
       "3.0      225  45     56  25        150  30           99           38   \n",
       "4.0      225  45     56  25        150  30           99           38   \n",
       "\n",
       "           date  \n",
       "0.0  2021-01-01  \n",
       "1.0  2021-01-01  \n",
       "2.0  2021-01-01  \n",
       "3.0  2021-01-01  \n",
       "4.0  2021-01-01  "
      ]
     },
     "execution_count": 73,
     "metadata": {},
     "output_type": "execute_result"
    }
   ],
   "source": [
    "food_df = pd.read_csv('myfitnesspal/mfp-extract-2021.csv',index_col=0)\n",
    "food_df.head()"
   ]
  },
  {
   "cell_type": "code",
   "execution_count": 74,
   "metadata": {},
   "outputs": [],
   "source": [
    "#reset index so each line has unique index (i.e. indices not restarted from 0 for each new day)\n",
    "food_df.reset_index(drop=True, inplace=True)"
   ]
  },
  {
   "cell_type": "code",
   "execution_count": 75,
   "metadata": {},
   "outputs": [],
   "source": [
    "#drop all rows containing column headers are repeated (i.e. where dataframe is appended)\n",
    "food_df.drop(food_df[food_df['food']=='food'].index, inplace=True)"
   ]
  },
  {
   "cell_type": "code",
   "execution_count": 76,
   "metadata": {},
   "outputs": [
    {
     "name": "stdout",
     "output_type": "stream",
     "text": [
      "<class 'pandas.core.frame.DataFrame'>\n",
      "Int64Index: 3191 entries, 0 to 3554\n",
      "Data columns (total 15 columns):\n",
      " #   Column              Non-Null Count  Dtype \n",
      "---  ------              --------------  ----- \n",
      " 0   food                3191 non-null   object\n",
      " 1   calories_kcal       3191 non-null   object\n",
      " 2   carbs_g             3191 non-null   object\n",
      " 3   fat_g               3191 non-null   object\n",
      " 4   protein_g           3191 non-null   object\n",
      " 5   sugar_g             3191 non-null   object\n",
      " 6   fiber_g             3191 non-null   object\n",
      " 7   goal_food           3191 non-null   object\n",
      " 8   goal_calories_kcal  3191 non-null   object\n",
      " 9   goal_carbs_g        3191 non-null   object\n",
      " 10  goal_fat_g          3191 non-null   object\n",
      " 11  goal_protein_g      3191 non-null   object\n",
      " 12  goal_sugar_g        3191 non-null   object\n",
      " 13  goal_fiber_g        3191 non-null   object\n",
      " 14  date                3191 non-null   object\n",
      "dtypes: object(15)\n",
      "memory usage: 398.9+ KB\n"
     ]
    }
   ],
   "source": [
    "#check column data types\n",
    "food_df.info()"
   ]
  },
  {
   "cell_type": "markdown",
   "metadata": {},
   "source": [
    "all columns should be numeric except for 'date' (datetime) and 'food' (str) - but the columns for macronutrients (fats, carbs and protein) have two numbers separated by a space so it needs to be sorted before we try convert to a numeric datatype"
   ]
  },
  {
   "cell_type": "code",
   "execution_count": 77,
   "metadata": {},
   "outputs": [
    {
     "data": {
      "text/html": [
       "<div>\n",
       "<style scoped>\n",
       "    .dataframe tbody tr th:only-of-type {\n",
       "        vertical-align: middle;\n",
       "    }\n",
       "\n",
       "    .dataframe tbody tr th {\n",
       "        vertical-align: top;\n",
       "    }\n",
       "\n",
       "    .dataframe thead th {\n",
       "        text-align: right;\n",
       "    }\n",
       "</style>\n",
       "<table border=\"1\" class=\"dataframe\">\n",
       "  <thead>\n",
       "    <tr style=\"text-align: right;\">\n",
       "      <th></th>\n",
       "      <th>carbs_g</th>\n",
       "      <th>fat_g</th>\n",
       "      <th>protein_g</th>\n",
       "      <th>goal_carbs_g</th>\n",
       "      <th>goal_fat_g</th>\n",
       "      <th>goal_protein_g</th>\n",
       "    </tr>\n",
       "  </thead>\n",
       "  <tbody>\n",
       "    <tr>\n",
       "      <th>0</th>\n",
       "      <td>1  6</td>\n",
       "      <td>0  3</td>\n",
       "      <td>11  91</td>\n",
       "      <td>225  45</td>\n",
       "      <td>56  25</td>\n",
       "      <td>150  30</td>\n",
       "    </tr>\n",
       "    <tr>\n",
       "      <th>1</th>\n",
       "      <td>1  2</td>\n",
       "      <td>13  63</td>\n",
       "      <td>17  35</td>\n",
       "      <td>225  45</td>\n",
       "      <td>56  25</td>\n",
       "      <td>150  30</td>\n",
       "    </tr>\n",
       "    <tr>\n",
       "      <th>2</th>\n",
       "      <td>35  96</td>\n",
       "      <td>0  3</td>\n",
       "      <td>1  1</td>\n",
       "      <td>225  45</td>\n",
       "      <td>56  25</td>\n",
       "      <td>150  30</td>\n",
       "    </tr>\n",
       "    <tr>\n",
       "      <th>3</th>\n",
       "      <td>1  3</td>\n",
       "      <td>7  63</td>\n",
       "      <td>8  34</td>\n",
       "      <td>225  45</td>\n",
       "      <td>56  25</td>\n",
       "      <td>150  30</td>\n",
       "    </tr>\n",
       "    <tr>\n",
       "      <th>4</th>\n",
       "      <td>48  75</td>\n",
       "      <td>2  6</td>\n",
       "      <td>12  19</td>\n",
       "      <td>225  45</td>\n",
       "      <td>56  25</td>\n",
       "      <td>150  30</td>\n",
       "    </tr>\n",
       "  </tbody>\n",
       "</table>\n",
       "</div>"
      ],
      "text/plain": [
       "  carbs_g   fat_g protein_g goal_carbs_g goal_fat_g goal_protein_g\n",
       "0    1  6    0  3    11  91      225  45     56  25        150  30\n",
       "1    1  2  13  63    17  35      225  45     56  25        150  30\n",
       "2  35  96    0  3      1  1      225  45     56  25        150  30\n",
       "3    1  3   7  63     8  34      225  45     56  25        150  30\n",
       "4  48  75    2  6    12  19      225  45     56  25        150  30"
      ]
     },
     "execution_count": 77,
     "metadata": {},
     "output_type": "execute_result"
    }
   ],
   "source": [
    "macro_cols = ['carbs_g', 'fat_g', 'protein_g', 'goal_carbs_g', 'goal_fat_g', 'goal_protein_g']\n",
    "food_df[macro_cols].head()"
   ]
  },
  {
   "cell_type": "markdown",
   "metadata": {},
   "source": [
    "The data was scraped from the myfitnesspal webpages (see scrape_mfp.py) so if we inspect the page source - we can see the macro percentage is stored in the same cell as the value with a css display property of none (which just hides the value from the user)\n",
    "\n",
    "The function used to read html tables into a dataframe: pd.read_html() ignores the span tags and renders all the text contents of the html cell into a single dataframe cell\n",
    "\n",
    "![mfp source code detective work]('./images/macro-perc-gotcha.png')\n",
    "\n",
    "![display is set to none via css]('./images/hidden-macro-perc.png')"
   ]
  },
  {
   "cell_type": "markdown",
   "metadata": {},
   "source": [
    "Since we're only interested in the macro value we can split the string on the whitespace (default) and take the first value"
   ]
  },
  {
   "cell_type": "code",
   "execution_count": 78,
   "metadata": {},
   "outputs": [
    {
     "name": "stdout",
     "output_type": "stream",
     "text": [
      "<class 'pandas.core.frame.DataFrame'>\n",
      "Int64Index: 3191 entries, 0 to 3554\n",
      "Data columns (total 15 columns):\n",
      " #   Column              Non-Null Count  Dtype         \n",
      "---  ------              --------------  -----         \n",
      " 0   food                3191 non-null   object        \n",
      " 1   calories_kcal       3191 non-null   int64         \n",
      " 2   carbs_g             3191 non-null   int64         \n",
      " 3   fat_g               3191 non-null   int64         \n",
      " 4   protein_g           3191 non-null   int64         \n",
      " 5   sugar_g             3191 non-null   int64         \n",
      " 6   fiber_g             3191 non-null   int64         \n",
      " 7   goal_food           3191 non-null   object        \n",
      " 8   goal_calories_kcal  3191 non-null   int64         \n",
      " 9   goal_carbs_g        3191 non-null   int64         \n",
      " 10  goal_fat_g          3191 non-null   int64         \n",
      " 11  goal_protein_g      3191 non-null   int64         \n",
      " 12  goal_sugar_g        3191 non-null   int64         \n",
      " 13  goal_fiber_g        3191 non-null   int64         \n",
      " 14  date                3191 non-null   datetime64[ns]\n",
      "dtypes: datetime64[ns](1), int64(12), object(2)\n",
      "memory usage: 398.9+ KB\n"
     ]
    }
   ],
   "source": [
    "food_df[macro_cols] = food_df[macro_cols].applymap(lambda x:x.split(\"  \")[0])\n",
    "\n",
    "#convert datatypes\n",
    "numeric_cols =[col for col in food_df.columns if '_g' in col or 'calories' in col]\n",
    "food_df[numeric_cols] = food_df[numeric_cols].apply(pd.to_numeric)\n",
    "food_df['date'] = pd.to_datetime(food_df['date'])\n",
    "\n",
    "#check datatypes again\n",
    "food_df.info()"
   ]
  },
  {
   "cell_type": "markdown",
   "metadata": {},
   "source": [
    "The 'food' column contains names of food items but it also has the quantities - can we extract more data out of this?"
   ]
  },
  {
   "cell_type": "code",
   "execution_count": 113,
   "metadata": {},
   "outputs": [
    {
     "data": {
      "text/plain": [
       "2    0.861799\n",
       "3    0.134754\n",
       "6    0.003134\n",
       "5    0.000313\n",
       "Name: list_size, dtype: float64"
      ]
     },
     "execution_count": 113,
     "metadata": {},
     "output_type": "execute_result"
    }
   ],
   "source": [
    "# can we use the comma as a consistent separator to return [food_name, food_qty]?\n",
    "food_list_df =  food_df['food'].agg({'list':lambda x:x.split(','), 'list_size':lambda x:len(x.split(','))}).unstack().transpose()\n",
    "\n",
    "food_list_df['list_size'].value_counts(normalize=True)"
   ]
  },
  {
   "cell_type": "markdown",
   "metadata": {},
   "source": [
    "~86% of data can be cleaned this way but there are some exceptions - we'll use the last element of the split list which should capture most of the serving sizes even for the rows with more than one comma"
   ]
  },
  {
   "cell_type": "code",
   "execution_count": 127,
   "metadata": {},
   "outputs": [
    {
     "name": "stdout",
     "output_type": "stream",
     "text": [
      "example of data that won't be cleaned accurately\n",
      "' Breyers - Creamy chocolate, 1 container (264,00 gram) ' - the quantity will be parsed as '00 gram'\n"
     ]
    }
   ],
   "source": [
    "# top offenders\n",
    "food_list_df[food_list_df['list_size']>2]\n",
    "\n",
    "\n",
    "# we can use the last element of the list but there'll be some exception that we are going just accept won't be clean\n",
    "print(\"example of data that won't be cleaned accurately\\n'\",\n",
    "\",\".join(food_list_df[food_list_df['list_size']>2].loc[12, 'list']), \"' - the quantity will be parsed as '00 gram'\")\n"
   ]
  },
  {
   "cell_type": "code",
   "execution_count": 133,
   "metadata": {},
   "outputs": [],
   "source": [
    "food_df['food_name'] = food_df['food'].apply(lambda x:\"\".join(x.split(',')[:-1]))\n",
    "food_df['food_qty'] = food_df['food'].apply(lambda x:\"\".join(x.split(',')[-1]))\n",
    "food_df.drop('food', axis=1, inplace=True)\n",
    "food_df.head()"
   ]
  },
  {
   "cell_type": "markdown",
   "metadata": {},
   "source": [
    "Let's try query some data!\n",
    "\n",
    "e.g. how many calories did I eat on new years day in 2021?"
   ]
  },
  {
   "cell_type": "code",
   "execution_count": 138,
   "metadata": {},
   "outputs": [
    {
     "name": "stdout",
     "output_type": "stream",
     "text": [
      "I ate 2386 calories (target: 2000)\n"
     ]
    }
   ],
   "source": [
    "new_year_food = food_df[food_df['date'].apply(lambda x:x.date()==date(2021,1,1))]\n",
    "print(f\"I ate {new_year_food['calories_kcal'].sum()} calories (target: {int(new_year_food['goal_calories_kcal'][0])})\")"
   ]
  },
  {
   "cell_type": "code",
   "execution_count": null,
   "metadata": {},
   "outputs": [],
   "source": []
  }
 ],
 "metadata": {
  "interpreter": {
   "hash": "9f71aa1aa37e13f4fa4ac14b638e32e5f3ffcd829defd36c0006bab9c5c3f18a"
  },
  "kernelspec": {
   "display_name": "Python 3.8.10 ('venv': venv)",
   "language": "python",
   "name": "python3"
  },
  "language_info": {
   "codemirror_mode": {
    "name": "ipython",
    "version": 3
   },
   "file_extension": ".py",
   "mimetype": "text/x-python",
   "name": "python",
   "nbconvert_exporter": "python",
   "pygments_lexer": "ipython3",
   "version": "3.8.10"
  },
  "orig_nbformat": 4
 },
 "nbformat": 4,
 "nbformat_minor": 2
}
