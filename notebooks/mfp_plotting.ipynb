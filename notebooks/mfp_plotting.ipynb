{
 "cells": [
  {
   "cell_type": "code",
   "execution_count": 1,
   "metadata": {},
   "outputs": [],
   "source": [
    "import pandas as pd\n",
    "import plotly.express as px\n",
    "import datetime\n",
    "import sys\n",
    "\n",
    "#hacky way to use sibling module \n",
    "# add ` \"python.analysis.extraPaths\": [\"app/\"] ` to .vscode/settings.json for pylance\n",
    "sys.path.append('../app')\n",
    "import myfitnesspal.analysis as mfpa\n",
    "import myfitnesspal.diary_scraping as mfps"
   ]
  },
  {
   "cell_type": "code",
   "execution_count": 2,
   "metadata": {},
   "outputs": [],
   "source": [
    "diary_df = pd.DataFrame()\n",
    "for df in mfps.get_diary_data(datetime.date(2022,3,18), datetime.date(2022,3,22), user=\"ismailmo\"):\n",
    "    diary_df = pd.concat([diary_df, df], axis=0, join=\"outer\")"
   ]
  },
  {
   "cell_type": "code",
   "execution_count": 3,
   "metadata": {},
   "outputs": [],
   "source": [
    "macro_kcals = {'carbs_g':4, 'fat_g':9, 'protein_g':4}\n",
    "\n",
    "#add kcal column for macros\n",
    "for key,val in macro_kcals.items():\n",
    "    diary_df[key.split('_')[0]+'_kcal'] = diary_df[key] * val"
   ]
  },
  {
   "cell_type": "code",
   "execution_count": 4,
   "metadata": {},
   "outputs": [
    {
     "data": {
      "text/plain": [
       "Index(['food', 'calories_kcal', 'carbs_g', 'fat_g', 'protein_g', 'sugar_g',\n",
       "       'fiber_g', 'goal_calories_kcal', 'goal_carbs_g', 'goal_fat_g',\n",
       "       'goal_protein_g', 'goal_sugar_g', 'goal_fiber_g', 'qty', 'date',\n",
       "       'carbs_kcal', 'fat_kcal', 'protein_kcal'],\n",
       "      dtype='object')"
      ]
     },
     "execution_count": 4,
     "metadata": {},
     "output_type": "execute_result"
    }
   ],
   "source": [
    "diary_df.columns"
   ]
  },
  {
   "cell_type": "code",
   "execution_count": 5,
   "metadata": {},
   "outputs": [],
   "source": [
    "diary_df_kcals = diary_df[['food', 'calories_kcal', 'carbs_kcal',\n",
    "       'fat_kcal', 'protein_kcal', 'date']]"
   ]
  },
  {
   "cell_type": "code",
   "execution_count": 6,
   "metadata": {},
   "outputs": [
    {
     "data": {
      "text/html": [
       "<div>\n",
       "<style scoped>\n",
       "    .dataframe tbody tr th:only-of-type {\n",
       "        vertical-align: middle;\n",
       "    }\n",
       "\n",
       "    .dataframe tbody tr th {\n",
       "        vertical-align: top;\n",
       "    }\n",
       "\n",
       "    .dataframe thead th {\n",
       "        text-align: right;\n",
       "    }\n",
       "</style>\n",
       "<table border=\"1\" class=\"dataframe\">\n",
       "  <thead>\n",
       "    <tr style=\"text-align: right;\">\n",
       "      <th></th>\n",
       "      <th>food</th>\n",
       "      <th>calories_kcal</th>\n",
       "      <th>carbs_kcal</th>\n",
       "      <th>fat_kcal</th>\n",
       "      <th>protein_kcal</th>\n",
       "      <th>date</th>\n",
       "    </tr>\n",
       "  </thead>\n",
       "  <tbody>\n",
       "    <tr>\n",
       "      <th>0</th>\n",
       "      <td>The Cheese Emporium - Mature Lighter Cheese</td>\n",
       "      <td>96</td>\n",
       "      <td>4</td>\n",
       "      <td>63</td>\n",
       "      <td>32</td>\n",
       "      <td>2022-03-18</td>\n",
       "    </tr>\n",
       "    <tr>\n",
       "      <th>1</th>\n",
       "      <td>Hovis - 50/50 Bread</td>\n",
       "      <td>182</td>\n",
       "      <td>128</td>\n",
       "      <td>9</td>\n",
       "      <td>32</td>\n",
       "      <td>2022-03-18</td>\n",
       "    </tr>\n",
       "    <tr>\n",
       "      <th>2</th>\n",
       "      <td>chicken thigh cooked</td>\n",
       "      <td>259</td>\n",
       "      <td>0</td>\n",
       "      <td>81</td>\n",
       "      <td>168</td>\n",
       "      <td>2022-03-18</td>\n",
       "    </tr>\n",
       "    <tr>\n",
       "      <th>3</th>\n",
       "      <td>Cereals - Oats instant fortified plain dry (in...</td>\n",
       "      <td>148</td>\n",
       "      <td>104</td>\n",
       "      <td>18</td>\n",
       "      <td>24</td>\n",
       "      <td>2022-03-18</td>\n",
       "    </tr>\n",
       "    <tr>\n",
       "      <th>4</th>\n",
       "      <td>Blueberries</td>\n",
       "      <td>86</td>\n",
       "      <td>88</td>\n",
       "      <td>0</td>\n",
       "      <td>4</td>\n",
       "      <td>2022-03-18</td>\n",
       "    </tr>\n",
       "  </tbody>\n",
       "</table>\n",
       "</div>"
      ],
      "text/plain": [
       "                                                food  calories_kcal  \\\n",
       "0        The Cheese Emporium - Mature Lighter Cheese             96   \n",
       "1                                Hovis - 50/50 Bread            182   \n",
       "2                               chicken thigh cooked            259   \n",
       "3  Cereals - Oats instant fortified plain dry (in...            148   \n",
       "4                                        Blueberries             86   \n",
       "\n",
       "   carbs_kcal  fat_kcal  protein_kcal        date  \n",
       "0           4        63            32  2022-03-18  \n",
       "1         128         9            32  2022-03-18  \n",
       "2           0        81           168  2022-03-18  \n",
       "3         104        18            24  2022-03-18  \n",
       "4          88         0             4  2022-03-18  "
      ]
     },
     "execution_count": 6,
     "metadata": {},
     "output_type": "execute_result"
    }
   ],
   "source": [
    "diary_df_kcals.head()"
   ]
  },
  {
   "cell_type": "code",
   "execution_count": 7,
   "metadata": {},
   "outputs": [],
   "source": [
    "melted_df = diary_df_kcals.drop(\"calories_kcal\", axis=1).melt(['food', 'date'])"
   ]
  },
  {
   "cell_type": "code",
   "execution_count": 8,
   "metadata": {},
   "outputs": [
    {
     "name": "stderr",
     "output_type": "stream",
     "text": [
      "/home/ismail/Projects/data_sci/fit-progress/venv/lib/python3.8/site-packages/plotly/express/_core.py:1637: FutureWarning: The frame.append method is deprecated and will be removed from pandas in a future version. Use pandas.concat instead.\n",
      "  df_all_trees = df_all_trees.append(df_tree, ignore_index=True)\n",
      "/home/ismail/Projects/data_sci/fit-progress/venv/lib/python3.8/site-packages/plotly/express/_core.py:1637: FutureWarning: The frame.append method is deprecated and will be removed from pandas in a future version. Use pandas.concat instead.\n",
      "  df_all_trees = df_all_trees.append(df_tree, ignore_index=True)\n",
      "/home/ismail/Projects/data_sci/fit-progress/venv/lib/python3.8/site-packages/plotly/express/_core.py:1637: FutureWarning: The frame.append method is deprecated and will be removed from pandas in a future version. Use pandas.concat instead.\n",
      "  df_all_trees = df_all_trees.append(df_tree, ignore_index=True)\n",
      "/home/ismail/Projects/data_sci/fit-progress/venv/lib/python3.8/site-packages/plotly/express/_core.py:1637: FutureWarning: The frame.append method is deprecated and will be removed from pandas in a future version. Use pandas.concat instead.\n",
      "  df_all_trees = df_all_trees.append(df_tree, ignore_index=True)\n"
     ]
    },
    {
     "data": {
      "application/vnd.plotly.v1+json": {
       "config": {
        "plotlyServerURL": "https://plot.ly"
       },
       "data": [
        {
         "branchvalues": "total",
         "domain": {
          "x": [
           0,
           1
          ],
          "y": [
           0,
           1
          ]
         },
         "hovertemplate": "labels=%{label}<br>value=%{value}<br>parent=%{parent}<br>id=%{id}<extra></extra>",
         "ids": [
          "all/carbs_kcal/Blueberries/2022-03-18",
          "all/fat_kcal/Blueberries/2022-03-18",
          "all/protein_kcal/Blueberries/2022-03-18",
          "all/carbs_kcal/Cereals - Oats instant fortified plain dry (instant oatmeal)/2022-03-18",
          "all/fat_kcal/Cereals - Oats instant fortified plain dry (instant oatmeal)/2022-03-18",
          "all/protein_kcal/Cereals - Oats instant fortified plain dry (instant oatmeal)/2022-03-18",
          "all/carbs_kcal/Hovis - 50/50 Bread/2022-03-18",
          "all/fat_kcal/Hovis - 50/50 Bread/2022-03-18",
          "all/protein_kcal/Hovis - 50/50 Bread/2022-03-18",
          "all/carbs_kcal/Ryvita - Thins - Sweet Chilli/2022-03-18",
          "all/fat_kcal/Ryvita - Thins - Sweet Chilli/2022-03-18",
          "all/protein_kcal/Ryvita - Thins - Sweet Chilli/2022-03-18",
          "all/carbs_kcal/The Cheese Emporium - Mature Lighter Cheese/2022-03-18",
          "all/fat_kcal/The Cheese Emporium - Mature Lighter Cheese/2022-03-18",
          "all/protein_kcal/The Cheese Emporium - Mature Lighter Cheese/2022-03-18",
          "all/carbs_kcal/asda - popcorn icecream/2022-03-18",
          "all/fat_kcal/asda - popcorn icecream/2022-03-18",
          "all/protein_kcal/asda - popcorn icecream/2022-03-18",
          "all/carbs_kcal/chicken thigh cooked/2022-03-18",
          "all/fat_kcal/chicken thigh cooked/2022-03-18",
          "all/protein_kcal/chicken thigh cooked/2022-03-18",
          "all/carbs_kcal/Arla Skyr - Strawberry/2022-03-19",
          "all/fat_kcal/Arla Skyr - Strawberry/2022-03-19",
          "all/protein_kcal/Arla Skyr - Strawberry/2022-03-19",
          "all/carbs_kcal/Babybel - Light/2022-03-19",
          "all/fat_kcal/Babybel - Light/2022-03-19",
          "all/protein_kcal/Babybel - Light/2022-03-19",
          "all/carbs_kcal/Banana - Bananas/2022-03-19",
          "all/fat_kcal/Banana - Bananas/2022-03-19",
          "all/protein_kcal/Banana - Bananas/2022-03-19",
          "all/carbs_kcal/Hovis - 50/50 Bread/2022-03-19",
          "all/fat_kcal/Hovis - 50/50 Bread/2022-03-19",
          "all/protein_kcal/Hovis - 50/50 Bread/2022-03-19",
          "all/carbs_kcal/Kellogs - Rice Krispies Square - Chocolate/2022-03-19",
          "all/fat_kcal/Kellogs - Rice Krispies Square - Chocolate/2022-03-19",
          "all/protein_kcal/Kellogs - Rice Krispies Square - Chocolate/2022-03-19",
          "all/carbs_kcal/Ryvita - Thins - Sweet Chilli/2022-03-19",
          "all/fat_kcal/Ryvita - Thins - Sweet Chilli/2022-03-19",
          "all/protein_kcal/Ryvita - Thins - Sweet Chilli/2022-03-19",
          "all/carbs_kcal/Sunpat - Smooth Peanut Butter 454grams/2022-03-19",
          "all/fat_kcal/Sunpat - Smooth Peanut Butter 454grams/2022-03-19",
          "all/protein_kcal/Sunpat - Smooth Peanut Butter 454grams/2022-03-19",
          "all/carbs_kcal/chicken thigh cooked/2022-03-19",
          "all/fat_kcal/chicken thigh cooked/2022-03-19",
          "all/protein_kcal/chicken thigh cooked/2022-03-19",
          "all/carbs_kcal/Arla Skyr - Strawberry/2022-03-20",
          "all/fat_kcal/Arla Skyr - Strawberry/2022-03-20",
          "all/protein_kcal/Arla Skyr - Strawberry/2022-03-20",
          "all/carbs_kcal/Babybel - Light/2022-03-20",
          "all/fat_kcal/Babybel - Light/2022-03-20",
          "all/protein_kcal/Babybel - Light/2022-03-20",
          "all/carbs_kcal/Costco - Kiwi/2022-03-20",
          "all/fat_kcal/Costco - Kiwi/2022-03-20",
          "all/protein_kcal/Costco - Kiwi/2022-03-20",
          "all/carbs_kcal/Fibre One - Peanut Butter Popcorn Bar/2022-03-20",
          "all/fat_kcal/Fibre One - Peanut Butter Popcorn Bar/2022-03-20",
          "all/protein_kcal/Fibre One - Peanut Butter Popcorn Bar/2022-03-20",
          "all/carbs_kcal/Hovis - 50/50 Bread/2022-03-20",
          "all/fat_kcal/Hovis - 50/50 Bread/2022-03-20",
          "all/protein_kcal/Hovis - 50/50 Bread/2022-03-20",
          "all/carbs_kcal/Kellogs - Rice Krispies Square - Chocolate/2022-03-20",
          "all/fat_kcal/Kellogs - Rice Krispies Square - Chocolate/2022-03-20",
          "all/protein_kcal/Kellogs - Rice Krispies Square - Chocolate/2022-03-20",
          "all/carbs_kcal/Ryvita - Thins - Sweet Chilli/2022-03-20",
          "all/fat_kcal/Ryvita - Thins - Sweet Chilli/2022-03-20",
          "all/protein_kcal/Ryvita - Thins - Sweet Chilli/2022-03-20",
          "all/carbs_kcal/String Cheese - 1 String Cheese/2022-03-20",
          "all/fat_kcal/String Cheese - 1 String Cheese/2022-03-20",
          "all/protein_kcal/String Cheese - 1 String Cheese/2022-03-20",
          "all/carbs_kcal/Sunpat - Smooth Peanut Butter 454grams/2022-03-20",
          "all/fat_kcal/Sunpat - Smooth Peanut Butter 454grams/2022-03-20",
          "all/protein_kcal/Sunpat - Smooth Peanut Butter 454grams/2022-03-20",
          "all/carbs_kcal/chicken thigh cooked/2022-03-20",
          "all/fat_kcal/chicken thigh cooked/2022-03-20",
          "all/protein_kcal/chicken thigh cooked/2022-03-20",
          "all/carbs_kcal/hula hoops - hula hoop crisps/2022-03-20",
          "all/fat_kcal/hula hoops - hula hoop crisps/2022-03-20",
          "all/protein_kcal/hula hoops - hula hoop crisps/2022-03-20",
          "all/carbs_kcal/Babybel - Light/2022-03-21",
          "all/fat_kcal/Babybel - Light/2022-03-21",
          "all/protein_kcal/Babybel - Light/2022-03-21",
          "all/carbs_kcal/Fibre One - Peanut Butter Popcorn Bar/2022-03-21",
          "all/fat_kcal/Fibre One - Peanut Butter Popcorn Bar/2022-03-21",
          "all/protein_kcal/Fibre One - Peanut Butter Popcorn Bar/2022-03-21",
          "all/carbs_kcal/Kellogs - Rice Krispies Square - Chocolate/2022-03-21",
          "all/fat_kcal/Kellogs - Rice Krispies Square - Chocolate/2022-03-21",
          "all/protein_kcal/Kellogs - Rice Krispies Square - Chocolate/2022-03-21",
          "all/carbs_kcal/chicken thigh cooked/2022-03-21",
          "all/fat_kcal/chicken thigh cooked/2022-03-21",
          "all/protein_kcal/chicken thigh cooked/2022-03-21",
          "all/carbs_kcal/hula hoops - hula hoop crisps/2022-03-21",
          "all/fat_kcal/hula hoops - hula hoop crisps/2022-03-21",
          "all/protein_kcal/hula hoops - hula hoop crisps/2022-03-21",
          "all/carbs_kcal/Blueberries/2022-03-22",
          "all/fat_kcal/Blueberries/2022-03-22",
          "all/protein_kcal/Blueberries/2022-03-22",
          "all/carbs_kcal/Eggs - Whole raw/2022-03-22",
          "all/fat_kcal/Eggs - Whole raw/2022-03-22",
          "all/protein_kcal/Eggs - Whole raw/2022-03-22",
          "all/carbs_kcal/Fibre One - Peanut Butter Popcorn Bar/2022-03-22",
          "all/fat_kcal/Fibre One - Peanut Butter Popcorn Bar/2022-03-22",
          "all/protein_kcal/Fibre One - Peanut Butter Popcorn Bar/2022-03-22",
          "all/carbs_kcal/Hovis - 50/50 Bread/2022-03-22",
          "all/fat_kcal/Hovis - 50/50 Bread/2022-03-22",
          "all/protein_kcal/Hovis - 50/50 Bread/2022-03-22",
          "all/carbs_kcal/String Cheese - 1 String Cheese/2022-03-22",
          "all/fat_kcal/String Cheese - 1 String Cheese/2022-03-22",
          "all/protein_kcal/String Cheese - 1 String Cheese/2022-03-22",
          "all/carbs_kcal/chicken thigh cooked/2022-03-22",
          "all/fat_kcal/chicken thigh cooked/2022-03-22",
          "all/protein_kcal/chicken thigh cooked/2022-03-22",
          "all/carbs_kcal/hula hoops - hula hoop crisps/2022-03-22",
          "all/fat_kcal/hula hoops - hula hoop crisps/2022-03-22",
          "all/protein_kcal/hula hoops - hula hoop crisps/2022-03-22",
          "all/carbs_kcal/Arla Skyr - Strawberry",
          "all/fat_kcal/Arla Skyr - Strawberry",
          "all/protein_kcal/Arla Skyr - Strawberry",
          "all/carbs_kcal/Babybel - Light",
          "all/fat_kcal/Babybel - Light",
          "all/protein_kcal/Babybel - Light",
          "all/carbs_kcal/Banana - Bananas",
          "all/fat_kcal/Banana - Bananas",
          "all/protein_kcal/Banana - Bananas",
          "all/carbs_kcal/Blueberries",
          "all/fat_kcal/Blueberries",
          "all/protein_kcal/Blueberries",
          "all/carbs_kcal/Cereals - Oats instant fortified plain dry (instant oatmeal)",
          "all/fat_kcal/Cereals - Oats instant fortified plain dry (instant oatmeal)",
          "all/protein_kcal/Cereals - Oats instant fortified plain dry (instant oatmeal)",
          "all/carbs_kcal/Costco - Kiwi",
          "all/fat_kcal/Costco - Kiwi",
          "all/protein_kcal/Costco - Kiwi",
          "all/carbs_kcal/Eggs - Whole raw",
          "all/fat_kcal/Eggs - Whole raw",
          "all/protein_kcal/Eggs - Whole raw",
          "all/carbs_kcal/Fibre One - Peanut Butter Popcorn Bar",
          "all/fat_kcal/Fibre One - Peanut Butter Popcorn Bar",
          "all/protein_kcal/Fibre One - Peanut Butter Popcorn Bar",
          "all/carbs_kcal/Hovis - 50/50 Bread",
          "all/fat_kcal/Hovis - 50/50 Bread",
          "all/protein_kcal/Hovis - 50/50 Bread",
          "all/carbs_kcal/Kellogs - Rice Krispies Square - Chocolate",
          "all/fat_kcal/Kellogs - Rice Krispies Square - Chocolate",
          "all/protein_kcal/Kellogs - Rice Krispies Square - Chocolate",
          "all/carbs_kcal/Ryvita - Thins - Sweet Chilli",
          "all/fat_kcal/Ryvita - Thins - Sweet Chilli",
          "all/protein_kcal/Ryvita - Thins - Sweet Chilli",
          "all/carbs_kcal/String Cheese - 1 String Cheese",
          "all/fat_kcal/String Cheese - 1 String Cheese",
          "all/protein_kcal/String Cheese - 1 String Cheese",
          "all/carbs_kcal/Sunpat - Smooth Peanut Butter 454grams",
          "all/fat_kcal/Sunpat - Smooth Peanut Butter 454grams",
          "all/protein_kcal/Sunpat - Smooth Peanut Butter 454grams",
          "all/carbs_kcal/The Cheese Emporium - Mature Lighter Cheese",
          "all/fat_kcal/The Cheese Emporium - Mature Lighter Cheese",
          "all/protein_kcal/The Cheese Emporium - Mature Lighter Cheese",
          "all/carbs_kcal/asda - popcorn icecream",
          "all/fat_kcal/asda - popcorn icecream",
          "all/protein_kcal/asda - popcorn icecream",
          "all/carbs_kcal/chicken thigh cooked",
          "all/fat_kcal/chicken thigh cooked",
          "all/protein_kcal/chicken thigh cooked",
          "all/carbs_kcal/hula hoops - hula hoop crisps",
          "all/fat_kcal/hula hoops - hula hoop crisps",
          "all/protein_kcal/hula hoops - hula hoop crisps",
          "all/carbs_kcal",
          "all/fat_kcal",
          "all/protein_kcal",
          "all"
         ],
         "labels": [
          "2022-03-18",
          "2022-03-18",
          "2022-03-18",
          "2022-03-18",
          "2022-03-18",
          "2022-03-18",
          "2022-03-18",
          "2022-03-18",
          "2022-03-18",
          "2022-03-18",
          "2022-03-18",
          "2022-03-18",
          "2022-03-18",
          "2022-03-18",
          "2022-03-18",
          "2022-03-18",
          "2022-03-18",
          "2022-03-18",
          "2022-03-18",
          "2022-03-18",
          "2022-03-18",
          "2022-03-19",
          "2022-03-19",
          "2022-03-19",
          "2022-03-19",
          "2022-03-19",
          "2022-03-19",
          "2022-03-19",
          "2022-03-19",
          "2022-03-19",
          "2022-03-19",
          "2022-03-19",
          "2022-03-19",
          "2022-03-19",
          "2022-03-19",
          "2022-03-19",
          "2022-03-19",
          "2022-03-19",
          "2022-03-19",
          "2022-03-19",
          "2022-03-19",
          "2022-03-19",
          "2022-03-19",
          "2022-03-19",
          "2022-03-19",
          "2022-03-20",
          "2022-03-20",
          "2022-03-20",
          "2022-03-20",
          "2022-03-20",
          "2022-03-20",
          "2022-03-20",
          "2022-03-20",
          "2022-03-20",
          "2022-03-20",
          "2022-03-20",
          "2022-03-20",
          "2022-03-20",
          "2022-03-20",
          "2022-03-20",
          "2022-03-20",
          "2022-03-20",
          "2022-03-20",
          "2022-03-20",
          "2022-03-20",
          "2022-03-20",
          "2022-03-20",
          "2022-03-20",
          "2022-03-20",
          "2022-03-20",
          "2022-03-20",
          "2022-03-20",
          "2022-03-20",
          "2022-03-20",
          "2022-03-20",
          "2022-03-20",
          "2022-03-20",
          "2022-03-20",
          "2022-03-21",
          "2022-03-21",
          "2022-03-21",
          "2022-03-21",
          "2022-03-21",
          "2022-03-21",
          "2022-03-21",
          "2022-03-21",
          "2022-03-21",
          "2022-03-21",
          "2022-03-21",
          "2022-03-21",
          "2022-03-21",
          "2022-03-21",
          "2022-03-21",
          "2022-03-22",
          "2022-03-22",
          "2022-03-22",
          "2022-03-22",
          "2022-03-22",
          "2022-03-22",
          "2022-03-22",
          "2022-03-22",
          "2022-03-22",
          "2022-03-22",
          "2022-03-22",
          "2022-03-22",
          "2022-03-22",
          "2022-03-22",
          "2022-03-22",
          "2022-03-22",
          "2022-03-22",
          "2022-03-22",
          "2022-03-22",
          "2022-03-22",
          "2022-03-22",
          "Arla Skyr - Strawberry",
          "Arla Skyr - Strawberry",
          "Arla Skyr - Strawberry",
          "Babybel - Light",
          "Babybel - Light",
          "Babybel - Light",
          "Banana - Bananas",
          "Banana - Bananas",
          "Banana - Bananas",
          "Blueberries",
          "Blueberries",
          "Blueberries",
          "Cereals - Oats instant fortified plain dry (instant oatmeal)",
          "Cereals - Oats instant fortified plain dry (instant oatmeal)",
          "Cereals - Oats instant fortified plain dry (instant oatmeal)",
          "Costco - Kiwi",
          "Costco - Kiwi",
          "Costco - Kiwi",
          "Eggs - Whole raw",
          "Eggs - Whole raw",
          "Eggs - Whole raw",
          "Fibre One - Peanut Butter Popcorn Bar",
          "Fibre One - Peanut Butter Popcorn Bar",
          "Fibre One - Peanut Butter Popcorn Bar",
          "Hovis - 50/50 Bread",
          "Hovis - 50/50 Bread",
          "Hovis - 50/50 Bread",
          "Kellogs - Rice Krispies Square - Chocolate",
          "Kellogs - Rice Krispies Square - Chocolate",
          "Kellogs - Rice Krispies Square - Chocolate",
          "Ryvita - Thins - Sweet Chilli",
          "Ryvita - Thins - Sweet Chilli",
          "Ryvita - Thins - Sweet Chilli",
          "String Cheese - 1 String Cheese",
          "String Cheese - 1 String Cheese",
          "String Cheese - 1 String Cheese",
          "Sunpat - Smooth Peanut Butter 454grams",
          "Sunpat - Smooth Peanut Butter 454grams",
          "Sunpat - Smooth Peanut Butter 454grams",
          "The Cheese Emporium - Mature Lighter Cheese",
          "The Cheese Emporium - Mature Lighter Cheese",
          "The Cheese Emporium - Mature Lighter Cheese",
          "asda - popcorn icecream",
          "asda - popcorn icecream",
          "asda - popcorn icecream",
          "chicken thigh cooked",
          "chicken thigh cooked",
          "chicken thigh cooked",
          "hula hoops - hula hoop crisps",
          "hula hoops - hula hoop crisps",
          "hula hoops - hula hoop crisps",
          "carbs_kcal",
          "fat_kcal",
          "protein_kcal",
          "all"
         ],
         "name": "",
         "parents": [
          "all/carbs_kcal/Blueberries",
          "all/fat_kcal/Blueberries",
          "all/protein_kcal/Blueberries",
          "all/carbs_kcal/Cereals - Oats instant fortified plain dry (instant oatmeal)",
          "all/fat_kcal/Cereals - Oats instant fortified plain dry (instant oatmeal)",
          "all/protein_kcal/Cereals - Oats instant fortified plain dry (instant oatmeal)",
          "all/carbs_kcal/Hovis - 50/50 Bread",
          "all/fat_kcal/Hovis - 50/50 Bread",
          "all/protein_kcal/Hovis - 50/50 Bread",
          "all/carbs_kcal/Ryvita - Thins - Sweet Chilli",
          "all/fat_kcal/Ryvita - Thins - Sweet Chilli",
          "all/protein_kcal/Ryvita - Thins - Sweet Chilli",
          "all/carbs_kcal/The Cheese Emporium - Mature Lighter Cheese",
          "all/fat_kcal/The Cheese Emporium - Mature Lighter Cheese",
          "all/protein_kcal/The Cheese Emporium - Mature Lighter Cheese",
          "all/carbs_kcal/asda - popcorn icecream",
          "all/fat_kcal/asda - popcorn icecream",
          "all/protein_kcal/asda - popcorn icecream",
          "all/carbs_kcal/chicken thigh cooked",
          "all/fat_kcal/chicken thigh cooked",
          "all/protein_kcal/chicken thigh cooked",
          "all/carbs_kcal/Arla Skyr - Strawberry",
          "all/fat_kcal/Arla Skyr - Strawberry",
          "all/protein_kcal/Arla Skyr - Strawberry",
          "all/carbs_kcal/Babybel - Light",
          "all/fat_kcal/Babybel - Light",
          "all/protein_kcal/Babybel - Light",
          "all/carbs_kcal/Banana - Bananas",
          "all/fat_kcal/Banana - Bananas",
          "all/protein_kcal/Banana - Bananas",
          "all/carbs_kcal/Hovis - 50/50 Bread",
          "all/fat_kcal/Hovis - 50/50 Bread",
          "all/protein_kcal/Hovis - 50/50 Bread",
          "all/carbs_kcal/Kellogs - Rice Krispies Square - Chocolate",
          "all/fat_kcal/Kellogs - Rice Krispies Square - Chocolate",
          "all/protein_kcal/Kellogs - Rice Krispies Square - Chocolate",
          "all/carbs_kcal/Ryvita - Thins - Sweet Chilli",
          "all/fat_kcal/Ryvita - Thins - Sweet Chilli",
          "all/protein_kcal/Ryvita - Thins - Sweet Chilli",
          "all/carbs_kcal/Sunpat - Smooth Peanut Butter 454grams",
          "all/fat_kcal/Sunpat - Smooth Peanut Butter 454grams",
          "all/protein_kcal/Sunpat - Smooth Peanut Butter 454grams",
          "all/carbs_kcal/chicken thigh cooked",
          "all/fat_kcal/chicken thigh cooked",
          "all/protein_kcal/chicken thigh cooked",
          "all/carbs_kcal/Arla Skyr - Strawberry",
          "all/fat_kcal/Arla Skyr - Strawberry",
          "all/protein_kcal/Arla Skyr - Strawberry",
          "all/carbs_kcal/Babybel - Light",
          "all/fat_kcal/Babybel - Light",
          "all/protein_kcal/Babybel - Light",
          "all/carbs_kcal/Costco - Kiwi",
          "all/fat_kcal/Costco - Kiwi",
          "all/protein_kcal/Costco - Kiwi",
          "all/carbs_kcal/Fibre One - Peanut Butter Popcorn Bar",
          "all/fat_kcal/Fibre One - Peanut Butter Popcorn Bar",
          "all/protein_kcal/Fibre One - Peanut Butter Popcorn Bar",
          "all/carbs_kcal/Hovis - 50/50 Bread",
          "all/fat_kcal/Hovis - 50/50 Bread",
          "all/protein_kcal/Hovis - 50/50 Bread",
          "all/carbs_kcal/Kellogs - Rice Krispies Square - Chocolate",
          "all/fat_kcal/Kellogs - Rice Krispies Square - Chocolate",
          "all/protein_kcal/Kellogs - Rice Krispies Square - Chocolate",
          "all/carbs_kcal/Ryvita - Thins - Sweet Chilli",
          "all/fat_kcal/Ryvita - Thins - Sweet Chilli",
          "all/protein_kcal/Ryvita - Thins - Sweet Chilli",
          "all/carbs_kcal/String Cheese - 1 String Cheese",
          "all/fat_kcal/String Cheese - 1 String Cheese",
          "all/protein_kcal/String Cheese - 1 String Cheese",
          "all/carbs_kcal/Sunpat - Smooth Peanut Butter 454grams",
          "all/fat_kcal/Sunpat - Smooth Peanut Butter 454grams",
          "all/protein_kcal/Sunpat - Smooth Peanut Butter 454grams",
          "all/carbs_kcal/chicken thigh cooked",
          "all/fat_kcal/chicken thigh cooked",
          "all/protein_kcal/chicken thigh cooked",
          "all/carbs_kcal/hula hoops - hula hoop crisps",
          "all/fat_kcal/hula hoops - hula hoop crisps",
          "all/protein_kcal/hula hoops - hula hoop crisps",
          "all/carbs_kcal/Babybel - Light",
          "all/fat_kcal/Babybel - Light",
          "all/protein_kcal/Babybel - Light",
          "all/carbs_kcal/Fibre One - Peanut Butter Popcorn Bar",
          "all/fat_kcal/Fibre One - Peanut Butter Popcorn Bar",
          "all/protein_kcal/Fibre One - Peanut Butter Popcorn Bar",
          "all/carbs_kcal/Kellogs - Rice Krispies Square - Chocolate",
          "all/fat_kcal/Kellogs - Rice Krispies Square - Chocolate",
          "all/protein_kcal/Kellogs - Rice Krispies Square - Chocolate",
          "all/carbs_kcal/chicken thigh cooked",
          "all/fat_kcal/chicken thigh cooked",
          "all/protein_kcal/chicken thigh cooked",
          "all/carbs_kcal/hula hoops - hula hoop crisps",
          "all/fat_kcal/hula hoops - hula hoop crisps",
          "all/protein_kcal/hula hoops - hula hoop crisps",
          "all/carbs_kcal/Blueberries",
          "all/fat_kcal/Blueberries",
          "all/protein_kcal/Blueberries",
          "all/carbs_kcal/Eggs - Whole raw",
          "all/fat_kcal/Eggs - Whole raw",
          "all/protein_kcal/Eggs - Whole raw",
          "all/carbs_kcal/Fibre One - Peanut Butter Popcorn Bar",
          "all/fat_kcal/Fibre One - Peanut Butter Popcorn Bar",
          "all/protein_kcal/Fibre One - Peanut Butter Popcorn Bar",
          "all/carbs_kcal/Hovis - 50/50 Bread",
          "all/fat_kcal/Hovis - 50/50 Bread",
          "all/protein_kcal/Hovis - 50/50 Bread",
          "all/carbs_kcal/String Cheese - 1 String Cheese",
          "all/fat_kcal/String Cheese - 1 String Cheese",
          "all/protein_kcal/String Cheese - 1 String Cheese",
          "all/carbs_kcal/chicken thigh cooked",
          "all/fat_kcal/chicken thigh cooked",
          "all/protein_kcal/chicken thigh cooked",
          "all/carbs_kcal/hula hoops - hula hoop crisps",
          "all/fat_kcal/hula hoops - hula hoop crisps",
          "all/protein_kcal/hula hoops - hula hoop crisps",
          "all/carbs_kcal",
          "all/fat_kcal",
          "all/protein_kcal",
          "all/carbs_kcal",
          "all/fat_kcal",
          "all/protein_kcal",
          "all/carbs_kcal",
          "all/fat_kcal",
          "all/protein_kcal",
          "all/carbs_kcal",
          "all/fat_kcal",
          "all/protein_kcal",
          "all/carbs_kcal",
          "all/fat_kcal",
          "all/protein_kcal",
          "all/carbs_kcal",
          "all/fat_kcal",
          "all/protein_kcal",
          "all/carbs_kcal",
          "all/fat_kcal",
          "all/protein_kcal",
          "all/carbs_kcal",
          "all/fat_kcal",
          "all/protein_kcal",
          "all/carbs_kcal",
          "all/fat_kcal",
          "all/protein_kcal",
          "all/carbs_kcal",
          "all/fat_kcal",
          "all/protein_kcal",
          "all/carbs_kcal",
          "all/fat_kcal",
          "all/protein_kcal",
          "all/carbs_kcal",
          "all/fat_kcal",
          "all/protein_kcal",
          "all/carbs_kcal",
          "all/fat_kcal",
          "all/protein_kcal",
          "all/carbs_kcal",
          "all/fat_kcal",
          "all/protein_kcal",
          "all/carbs_kcal",
          "all/fat_kcal",
          "all/protein_kcal",
          "all/carbs_kcal",
          "all/fat_kcal",
          "all/protein_kcal",
          "all/carbs_kcal",
          "all/fat_kcal",
          "all/protein_kcal",
          "all",
          "all",
          "all",
          ""
         ],
         "type": "treemap",
         "values": [
          88,
          0,
          4,
          104,
          18,
          24,
          128,
          9,
          32,
          208,
          45,
          36,
          4,
          63,
          32,
          216,
          72,
          72,
          0,
          189,
          392,
          140,
          9,
          172,
          0,
          108,
          96,
          80,
          0,
          4,
          192,
          18,
          48,
          108,
          45,
          8,
          104,
          27,
          20,
          20,
          126,
          32,
          0,
          162,
          336,
          140,
          9,
          172,
          0,
          108,
          96,
          120,
          9,
          8,
          36,
          36,
          8,
          128,
          9,
          32,
          108,
          45,
          8,
          208,
          54,
          40,
          8,
          45,
          48,
          12,
          90,
          20,
          0,
          162,
          336,
          60,
          54,
          4,
          0,
          54,
          48,
          36,
          36,
          8,
          216,
          90,
          16,
          0,
          225,
          476,
          120,
          108,
          8,
          88,
          0,
          4,
          4,
          81,
          44,
          36,
          36,
          8,
          128,
          9,
          32,
          8,
          45,
          48,
          0,
          81,
          180,
          60,
          54,
          4,
          280,
          18,
          344,
          0,
          270,
          240,
          80,
          0,
          4,
          176,
          0,
          8,
          104,
          18,
          24,
          120,
          9,
          8,
          4,
          81,
          44,
          108,
          108,
          24,
          576,
          45,
          144,
          432,
          180,
          32,
          520,
          126,
          96,
          16,
          90,
          96,
          32,
          216,
          52,
          4,
          63,
          32,
          216,
          72,
          72,
          0,
          819,
          1720,
          240,
          216,
          16,
          2908,
          2331,
          2956,
          8195
         ]
        }
       ],
       "layout": {
        "legend": {
         "tracegroupgap": 0
        },
        "margin": {
         "t": 60
        },
        "template": {
         "data": {
          "bar": [
           {
            "error_x": {
             "color": "#2a3f5f"
            },
            "error_y": {
             "color": "#2a3f5f"
            },
            "marker": {
             "line": {
              "color": "#E5ECF6",
              "width": 0.5
             },
             "pattern": {
              "fillmode": "overlay",
              "size": 10,
              "solidity": 0.2
             }
            },
            "type": "bar"
           }
          ],
          "barpolar": [
           {
            "marker": {
             "line": {
              "color": "#E5ECF6",
              "width": 0.5
             },
             "pattern": {
              "fillmode": "overlay",
              "size": 10,
              "solidity": 0.2
             }
            },
            "type": "barpolar"
           }
          ],
          "carpet": [
           {
            "aaxis": {
             "endlinecolor": "#2a3f5f",
             "gridcolor": "white",
             "linecolor": "white",
             "minorgridcolor": "white",
             "startlinecolor": "#2a3f5f"
            },
            "baxis": {
             "endlinecolor": "#2a3f5f",
             "gridcolor": "white",
             "linecolor": "white",
             "minorgridcolor": "white",
             "startlinecolor": "#2a3f5f"
            },
            "type": "carpet"
           }
          ],
          "choropleth": [
           {
            "colorbar": {
             "outlinewidth": 0,
             "ticks": ""
            },
            "type": "choropleth"
           }
          ],
          "contour": [
           {
            "colorbar": {
             "outlinewidth": 0,
             "ticks": ""
            },
            "colorscale": [
             [
              0,
              "#0d0887"
             ],
             [
              0.1111111111111111,
              "#46039f"
             ],
             [
              0.2222222222222222,
              "#7201a8"
             ],
             [
              0.3333333333333333,
              "#9c179e"
             ],
             [
              0.4444444444444444,
              "#bd3786"
             ],
             [
              0.5555555555555556,
              "#d8576b"
             ],
             [
              0.6666666666666666,
              "#ed7953"
             ],
             [
              0.7777777777777778,
              "#fb9f3a"
             ],
             [
              0.8888888888888888,
              "#fdca26"
             ],
             [
              1,
              "#f0f921"
             ]
            ],
            "type": "contour"
           }
          ],
          "contourcarpet": [
           {
            "colorbar": {
             "outlinewidth": 0,
             "ticks": ""
            },
            "type": "contourcarpet"
           }
          ],
          "heatmap": [
           {
            "colorbar": {
             "outlinewidth": 0,
             "ticks": ""
            },
            "colorscale": [
             [
              0,
              "#0d0887"
             ],
             [
              0.1111111111111111,
              "#46039f"
             ],
             [
              0.2222222222222222,
              "#7201a8"
             ],
             [
              0.3333333333333333,
              "#9c179e"
             ],
             [
              0.4444444444444444,
              "#bd3786"
             ],
             [
              0.5555555555555556,
              "#d8576b"
             ],
             [
              0.6666666666666666,
              "#ed7953"
             ],
             [
              0.7777777777777778,
              "#fb9f3a"
             ],
             [
              0.8888888888888888,
              "#fdca26"
             ],
             [
              1,
              "#f0f921"
             ]
            ],
            "type": "heatmap"
           }
          ],
          "heatmapgl": [
           {
            "colorbar": {
             "outlinewidth": 0,
             "ticks": ""
            },
            "colorscale": [
             [
              0,
              "#0d0887"
             ],
             [
              0.1111111111111111,
              "#46039f"
             ],
             [
              0.2222222222222222,
              "#7201a8"
             ],
             [
              0.3333333333333333,
              "#9c179e"
             ],
             [
              0.4444444444444444,
              "#bd3786"
             ],
             [
              0.5555555555555556,
              "#d8576b"
             ],
             [
              0.6666666666666666,
              "#ed7953"
             ],
             [
              0.7777777777777778,
              "#fb9f3a"
             ],
             [
              0.8888888888888888,
              "#fdca26"
             ],
             [
              1,
              "#f0f921"
             ]
            ],
            "type": "heatmapgl"
           }
          ],
          "histogram": [
           {
            "marker": {
             "pattern": {
              "fillmode": "overlay",
              "size": 10,
              "solidity": 0.2
             }
            },
            "type": "histogram"
           }
          ],
          "histogram2d": [
           {
            "colorbar": {
             "outlinewidth": 0,
             "ticks": ""
            },
            "colorscale": [
             [
              0,
              "#0d0887"
             ],
             [
              0.1111111111111111,
              "#46039f"
             ],
             [
              0.2222222222222222,
              "#7201a8"
             ],
             [
              0.3333333333333333,
              "#9c179e"
             ],
             [
              0.4444444444444444,
              "#bd3786"
             ],
             [
              0.5555555555555556,
              "#d8576b"
             ],
             [
              0.6666666666666666,
              "#ed7953"
             ],
             [
              0.7777777777777778,
              "#fb9f3a"
             ],
             [
              0.8888888888888888,
              "#fdca26"
             ],
             [
              1,
              "#f0f921"
             ]
            ],
            "type": "histogram2d"
           }
          ],
          "histogram2dcontour": [
           {
            "colorbar": {
             "outlinewidth": 0,
             "ticks": ""
            },
            "colorscale": [
             [
              0,
              "#0d0887"
             ],
             [
              0.1111111111111111,
              "#46039f"
             ],
             [
              0.2222222222222222,
              "#7201a8"
             ],
             [
              0.3333333333333333,
              "#9c179e"
             ],
             [
              0.4444444444444444,
              "#bd3786"
             ],
             [
              0.5555555555555556,
              "#d8576b"
             ],
             [
              0.6666666666666666,
              "#ed7953"
             ],
             [
              0.7777777777777778,
              "#fb9f3a"
             ],
             [
              0.8888888888888888,
              "#fdca26"
             ],
             [
              1,
              "#f0f921"
             ]
            ],
            "type": "histogram2dcontour"
           }
          ],
          "mesh3d": [
           {
            "colorbar": {
             "outlinewidth": 0,
             "ticks": ""
            },
            "type": "mesh3d"
           }
          ],
          "parcoords": [
           {
            "line": {
             "colorbar": {
              "outlinewidth": 0,
              "ticks": ""
             }
            },
            "type": "parcoords"
           }
          ],
          "pie": [
           {
            "automargin": true,
            "type": "pie"
           }
          ],
          "scatter": [
           {
            "marker": {
             "colorbar": {
              "outlinewidth": 0,
              "ticks": ""
             }
            },
            "type": "scatter"
           }
          ],
          "scatter3d": [
           {
            "line": {
             "colorbar": {
              "outlinewidth": 0,
              "ticks": ""
             }
            },
            "marker": {
             "colorbar": {
              "outlinewidth": 0,
              "ticks": ""
             }
            },
            "type": "scatter3d"
           }
          ],
          "scattercarpet": [
           {
            "marker": {
             "colorbar": {
              "outlinewidth": 0,
              "ticks": ""
             }
            },
            "type": "scattercarpet"
           }
          ],
          "scattergeo": [
           {
            "marker": {
             "colorbar": {
              "outlinewidth": 0,
              "ticks": ""
             }
            },
            "type": "scattergeo"
           }
          ],
          "scattergl": [
           {
            "marker": {
             "colorbar": {
              "outlinewidth": 0,
              "ticks": ""
             }
            },
            "type": "scattergl"
           }
          ],
          "scattermapbox": [
           {
            "marker": {
             "colorbar": {
              "outlinewidth": 0,
              "ticks": ""
             }
            },
            "type": "scattermapbox"
           }
          ],
          "scatterpolar": [
           {
            "marker": {
             "colorbar": {
              "outlinewidth": 0,
              "ticks": ""
             }
            },
            "type": "scatterpolar"
           }
          ],
          "scatterpolargl": [
           {
            "marker": {
             "colorbar": {
              "outlinewidth": 0,
              "ticks": ""
             }
            },
            "type": "scatterpolargl"
           }
          ],
          "scatterternary": [
           {
            "marker": {
             "colorbar": {
              "outlinewidth": 0,
              "ticks": ""
             }
            },
            "type": "scatterternary"
           }
          ],
          "surface": [
           {
            "colorbar": {
             "outlinewidth": 0,
             "ticks": ""
            },
            "colorscale": [
             [
              0,
              "#0d0887"
             ],
             [
              0.1111111111111111,
              "#46039f"
             ],
             [
              0.2222222222222222,
              "#7201a8"
             ],
             [
              0.3333333333333333,
              "#9c179e"
             ],
             [
              0.4444444444444444,
              "#bd3786"
             ],
             [
              0.5555555555555556,
              "#d8576b"
             ],
             [
              0.6666666666666666,
              "#ed7953"
             ],
             [
              0.7777777777777778,
              "#fb9f3a"
             ],
             [
              0.8888888888888888,
              "#fdca26"
             ],
             [
              1,
              "#f0f921"
             ]
            ],
            "type": "surface"
           }
          ],
          "table": [
           {
            "cells": {
             "fill": {
              "color": "#EBF0F8"
             },
             "line": {
              "color": "white"
             }
            },
            "header": {
             "fill": {
              "color": "#C8D4E3"
             },
             "line": {
              "color": "white"
             }
            },
            "type": "table"
           }
          ]
         },
         "layout": {
          "annotationdefaults": {
           "arrowcolor": "#2a3f5f",
           "arrowhead": 0,
           "arrowwidth": 1
          },
          "autotypenumbers": "strict",
          "coloraxis": {
           "colorbar": {
            "outlinewidth": 0,
            "ticks": ""
           }
          },
          "colorscale": {
           "diverging": [
            [
             0,
             "#8e0152"
            ],
            [
             0.1,
             "#c51b7d"
            ],
            [
             0.2,
             "#de77ae"
            ],
            [
             0.3,
             "#f1b6da"
            ],
            [
             0.4,
             "#fde0ef"
            ],
            [
             0.5,
             "#f7f7f7"
            ],
            [
             0.6,
             "#e6f5d0"
            ],
            [
             0.7,
             "#b8e186"
            ],
            [
             0.8,
             "#7fbc41"
            ],
            [
             0.9,
             "#4d9221"
            ],
            [
             1,
             "#276419"
            ]
           ],
           "sequential": [
            [
             0,
             "#0d0887"
            ],
            [
             0.1111111111111111,
             "#46039f"
            ],
            [
             0.2222222222222222,
             "#7201a8"
            ],
            [
             0.3333333333333333,
             "#9c179e"
            ],
            [
             0.4444444444444444,
             "#bd3786"
            ],
            [
             0.5555555555555556,
             "#d8576b"
            ],
            [
             0.6666666666666666,
             "#ed7953"
            ],
            [
             0.7777777777777778,
             "#fb9f3a"
            ],
            [
             0.8888888888888888,
             "#fdca26"
            ],
            [
             1,
             "#f0f921"
            ]
           ],
           "sequentialminus": [
            [
             0,
             "#0d0887"
            ],
            [
             0.1111111111111111,
             "#46039f"
            ],
            [
             0.2222222222222222,
             "#7201a8"
            ],
            [
             0.3333333333333333,
             "#9c179e"
            ],
            [
             0.4444444444444444,
             "#bd3786"
            ],
            [
             0.5555555555555556,
             "#d8576b"
            ],
            [
             0.6666666666666666,
             "#ed7953"
            ],
            [
             0.7777777777777778,
             "#fb9f3a"
            ],
            [
             0.8888888888888888,
             "#fdca26"
            ],
            [
             1,
             "#f0f921"
            ]
           ]
          },
          "colorway": [
           "#636efa",
           "#EF553B",
           "#00cc96",
           "#ab63fa",
           "#FFA15A",
           "#19d3f3",
           "#FF6692",
           "#B6E880",
           "#FF97FF",
           "#FECB52"
          ],
          "font": {
           "color": "#2a3f5f"
          },
          "geo": {
           "bgcolor": "white",
           "lakecolor": "white",
           "landcolor": "#E5ECF6",
           "showlakes": true,
           "showland": true,
           "subunitcolor": "white"
          },
          "hoverlabel": {
           "align": "left"
          },
          "hovermode": "closest",
          "mapbox": {
           "style": "light"
          },
          "paper_bgcolor": "white",
          "plot_bgcolor": "#E5ECF6",
          "polar": {
           "angularaxis": {
            "gridcolor": "white",
            "linecolor": "white",
            "ticks": ""
           },
           "bgcolor": "#E5ECF6",
           "radialaxis": {
            "gridcolor": "white",
            "linecolor": "white",
            "ticks": ""
           }
          },
          "scene": {
           "xaxis": {
            "backgroundcolor": "#E5ECF6",
            "gridcolor": "white",
            "gridwidth": 2,
            "linecolor": "white",
            "showbackground": true,
            "ticks": "",
            "zerolinecolor": "white"
           },
           "yaxis": {
            "backgroundcolor": "#E5ECF6",
            "gridcolor": "white",
            "gridwidth": 2,
            "linecolor": "white",
            "showbackground": true,
            "ticks": "",
            "zerolinecolor": "white"
           },
           "zaxis": {
            "backgroundcolor": "#E5ECF6",
            "gridcolor": "white",
            "gridwidth": 2,
            "linecolor": "white",
            "showbackground": true,
            "ticks": "",
            "zerolinecolor": "white"
           }
          },
          "shapedefaults": {
           "line": {
            "color": "#2a3f5f"
           }
          },
          "ternary": {
           "aaxis": {
            "gridcolor": "white",
            "linecolor": "white",
            "ticks": ""
           },
           "baxis": {
            "gridcolor": "white",
            "linecolor": "white",
            "ticks": ""
           },
           "bgcolor": "#E5ECF6",
           "caxis": {
            "gridcolor": "white",
            "linecolor": "white",
            "ticks": ""
           }
          },
          "title": {
           "x": 0.05
          },
          "xaxis": {
           "automargin": true,
           "gridcolor": "white",
           "linecolor": "white",
           "ticks": "",
           "title": {
            "standoff": 15
           },
           "zerolinecolor": "white",
           "zerolinewidth": 2
          },
          "yaxis": {
           "automargin": true,
           "gridcolor": "white",
           "linecolor": "white",
           "ticks": "",
           "title": {
            "standoff": 15
           },
           "zerolinecolor": "white",
           "zerolinewidth": 2
          }
         }
        }
       }
      }
     },
     "metadata": {},
     "output_type": "display_data"
    }
   ],
   "source": [
    "\n",
    "px.treemap(melted_df, path=[px.Constant(\"all\"),\n",
    "'variable','food', 'date'], values='value', )\n",
    "\n"
   ]
  },
  {
   "cell_type": "code",
   "execution_count": 9,
   "metadata": {},
   "outputs": [
    {
     "data": {
      "text/plain": [
       "Index(['food', 'variable', 'value'], dtype='object')"
      ]
     },
     "execution_count": 9,
     "metadata": {},
     "output_type": "execute_result"
    }
   ],
   "source": [
    "diary_df_kcals.melt('food').columns"
   ]
  },
  {
   "cell_type": "code",
   "execution_count": null,
   "metadata": {},
   "outputs": [],
   "source": []
  },
  {
   "cell_type": "code",
   "execution_count": null,
   "metadata": {},
   "outputs": [],
   "source": []
  }
 ],
 "metadata": {
  "interpreter": {
   "hash": "9f71aa1aa37e13f4fa4ac14b638e32e5f3ffcd829defd36c0006bab9c5c3f18a"
  },
  "kernelspec": {
   "display_name": "Python 3.8.10 ('venv': venv)",
   "language": "python",
   "name": "python3"
  },
  "language_info": {
   "codemirror_mode": {
    "name": "ipython",
    "version": 3
   },
   "file_extension": ".py",
   "mimetype": "text/x-python",
   "name": "python",
   "nbconvert_exporter": "python",
   "pygments_lexer": "ipython3",
   "version": "3.8.10"
  },
  "orig_nbformat": 4
 },
 "nbformat": 4,
 "nbformat_minor": 2
}
