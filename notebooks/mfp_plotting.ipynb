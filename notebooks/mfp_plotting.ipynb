{
 "cells": [
  {
   "cell_type": "markdown",
   "metadata": {},
   "source": [
    "### This notebook was used to explore the data and develop some proof of concept visualisations for use in the final app.\n",
    "It's recommended to view the [rendered notebook on nbviewer](https://nbviewer.org/github/ismailmo1/mfp-wrapped/blob/main/notebooks/mfp_plotting.ipynb)."
   ]
  },
  {
   "cell_type": "code",
   "execution_count": null,
   "metadata": {},
   "outputs": [],
   "source": [
    "import pandas as pd\n",
    "import plotly.express as px\n",
    "import datetime\n",
    "import sys\n",
    "import warnings\n",
    "from plotly.offline import init_notebook_mode\n",
    "\n",
    "warnings.filterwarnings('ignore')\n",
    "init_notebook_mode(connected=True)\n",
    "\n",
    "#hacky way to use sibling module \n",
    "# add ` \"python.analysis.extraPaths\": [\"app/\"] ` to .vscode/settings.json for pylance\n",
    "sys.path.append('../app')\n",
    "import myfitnesspal.analysis as mfpa\n",
    "import myfitnesspal.diary_scraping as mfps"
   ]
  },
  {
   "cell_type": "markdown",
   "metadata": {},
   "source": [
    "load in some myfitnesspal data using the ```get_diary_data``` function"
   ]
  },
  {
   "cell_type": "code",
   "execution_count": null,
   "metadata": {},
   "outputs": [],
   "source": [
    "diary_df = pd.DataFrame()\n",
    "for df in mfps.get_diary_data(datetime.date(2022,3,18), datetime.date(2022,3,22), user=\"ismailmo\"):\n",
    "    diary_df = pd.concat([diary_df, df], axis=0, join=\"outer\")"
   ]
  },
  {
   "cell_type": "markdown",
   "metadata": {},
   "source": [
    "convert grams to calories"
   ]
  },
  {
   "cell_type": "code",
   "execution_count": null,
   "metadata": {},
   "outputs": [],
   "source": [
    "macro_kcals = {'carbs_g':4, 'fat_g':9, 'protein_g':4}\n",
    "\n",
    "#add kcal column for macros\n",
    "for key,val in macro_kcals.items():\n",
    "    diary_df[key.split('_')[0]+'_kcal'] = diary_df[key] * val\n",
    "diary_df_kcals = diary_df[['food', 'calories_kcal', 'carbs_kcal',\n",
    "       'fat_kcal', 'protein_kcal', 'date']]\n",
    "diary_df_kcals.head()"
   ]
  },
  {
   "cell_type": "markdown",
   "metadata": {},
   "source": [
    "go from wide to long format to make plotting easier"
   ]
  },
  {
   "cell_type": "code",
   "execution_count": null,
   "metadata": {},
   "outputs": [],
   "source": [
    "melted_df = diary_df_kcals.drop(\"calories_kcal\", axis=1).melt(['food', 'date'])\n",
    "melted_df = melted_df.rename({\"value\":\"kcal\"}, axis=1)\n",
    "melted_df['meals'] = 1\n",
    "\n",
    "melted_df = melted_df.groupby(['food', 'date', 'variable']).sum()\n",
    "melted_df= melted_df.reset_index()\n",
    "melted_df[melted_df['date']==datetime.date(2022,3,21)]"
   ]
  },
  {
   "cell_type": "code",
   "execution_count": null,
   "metadata": {},
   "outputs": [],
   "source": [
    "fig = px.treemap(melted_df, path=[px.Constant(\"all\"),\n",
    "'variable','food', 'date'], values='kcal', hover_data=['meals'])\n",
    "\n",
    "fig.show()"
   ]
  },
  {
   "cell_type": "markdown",
   "metadata": {},
   "source": [
    "## summarise daily data to plot goals vs actuals"
   ]
  },
  {
   "cell_type": "code",
   "execution_count": null,
   "metadata": {},
   "outputs": [],
   "source": [
    "diary_df['date'] = pd.to_datetime(diary_df['date'])\n",
    "macro_kcals = {'carbs':4, 'fat':9, 'protein':4}\n",
    "macro_colours = {'carbs':\"darkturquoise\", 'fat':\"tomato\", 'protein':\"mediumorchid\"}\n",
    "#add kcal column for macros\n",
    "for key,val in macro_kcals.items():\n",
    "    diary_df[key+'_kcal'] = diary_df[key+\"_g\"] * val\n",
    "    diary_df[\"goal_\" + key+'_kcal'] = diary_df[\"goal_\" +key+\"_g\"] * val\n",
    "sum_cols = {col:'sum' for col in ['calories_kcal', 'carbs_g', 'fat_g', 'protein_g','carbs_kcal', 'fat_kcal', 'protein_kcal']}\n",
    "mean_cols = {col:'mean' for col in [ 'goal_calories_kcal', 'goal_carbs_g', 'goal_fat_g',\n",
    "       'goal_protein_g', 'goal_carbs_kcal', 'goal_fat_kcal',\n",
    "       'goal_protein_kcal']}\n",
    "agg_dict = {**sum_cols, **mean_cols}\n",
    "daily_data = diary_df.groupby('date').agg(agg_dict)\n",
    "\n",
    "daily_data.head()"
   ]
  },
  {
   "cell_type": "code",
   "execution_count": null,
   "metadata": {},
   "outputs": [],
   "source": [
    "kcal_macro_cols = [col for col in daily_data.columns if 'kcal' in col and 'calories' not in col]\n",
    "gram_macro_cols = [col for col in daily_data.columns if '_g' in col and 'calories' not in col]\n",
    "calorie_cols = [col for col in daily_data.columns if 'calories' in col]"
   ]
  },
  {
   "cell_type": "code",
   "execution_count": null,
   "metadata": {},
   "outputs": [],
   "source": [
    "import plotly.graph_objects as go\n",
    "fig = go.Figure()\n",
    "\n",
    "\n",
    "for col in gram_macro_cols:\n",
    "    macro = col.split(\"_\")[-2]\n",
    "    color = macro_colours[macro]\n",
    "    if 'goal' in col:\n",
    "        line={\"dash\":\"dash\", \"color\": color}\n",
    "        fig.add_trace(go.Scatter(x=daily_data.index, \n",
    "        y=daily_data[col], \n",
    "        mode='lines', \n",
    "        name=\"goal\", \n",
    "        line=line,        \n",
    "        legendgroup=macro))\n",
    "    else:\n",
    "        fig.add_trace(go.Bar(x=daily_data.index, \n",
    "        y=daily_data[col], \n",
    "        name=macro,\n",
    "        marker_color= color,\n",
    "        legendgroup=macro,\n",
    "        customdata =daily_data[macro+\"_g\"],\n",
    "        hovertemplate='%{customdata}'))\n",
    "fig.update_layout(title='Actual Intake vs Goals', xaxis_title =\"Date\", yaxis_title=\"Calories\")\n",
    "fig.show()"
   ]
  }
 ],
 "metadata": {
  "interpreter": {
   "hash": "9f71aa1aa37e13f4fa4ac14b638e32e5f3ffcd829defd36c0006bab9c5c3f18a"
  },
  "kernelspec": {
   "display_name": "Python 3.8.10 ('venv': venv)",
   "language": "python",
   "name": "python3"
  },
  "language_info": {
   "codemirror_mode": {
    "name": "ipython",
    "version": 3
   },
   "file_extension": ".py",
   "mimetype": "text/x-python",
   "name": "python",
   "nbconvert_exporter": "python",
   "pygments_lexer": "ipython3"
  }
 },
 "nbformat": 4,
 "nbformat_minor": 2
}
