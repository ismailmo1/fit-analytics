{
 "cells": [
  {
   "cell_type": "code",
   "execution_count": 32,
   "metadata": {},
   "outputs": [],
   "source": [
    "import pandas as pd\n",
    "import plotly.express as px\n",
    "import datetime\n",
    "import sys\n",
    "\n",
    "#hacky way to use sibling module \n",
    "# add ` \"python.analysis.extraPaths\": [\"app/\"] ` to .vscode/settings.json for pylance\n",
    "sys.path.append('../app')\n",
    "import myfitnesspal.analysis as mfpa\n",
    "import myfitnesspal.diary_scraping as mfps"
   ]
  },
  {
   "cell_type": "code",
   "execution_count": 33,
   "metadata": {},
   "outputs": [],
   "source": [
    "diary_df = pd.DataFrame()\n",
    "for df in mfps.get_diary_data(datetime.date(2022,3,18), datetime.date(2022,3,22), user=\"ismailmo\"):\n",
    "    diary_df = pd.concat([diary_df, df], axis=0, join=\"outer\")"
   ]
  },
  {
   "cell_type": "code",
   "execution_count": 34,
   "metadata": {},
   "outputs": [],
   "source": [
    "macro_kcals = {'carbs_g':4, 'fat_g':9, 'protein_g':4}\n",
    "\n",
    "#add kcal column for macros\n",
    "for key,val in macro_kcals.items():\n",
    "    diary_df[key.split('_')[0]+'_kcal'] = diary_df[key] * val"
   ]
  },
  {
   "cell_type": "code",
   "execution_count": 35,
   "metadata": {},
   "outputs": [
    {
     "data": {
      "text/plain": [
       "Index(['food', 'calories_kcal', 'carbs_g', 'fat_g', 'protein_g', 'sugar_g',\n",
       "       'fiber_g', 'goal_calories_kcal', 'goal_carbs_g', 'goal_fat_g',\n",
       "       'goal_protein_g', 'goal_sugar_g', 'goal_fiber_g', 'qty', 'date',\n",
       "       'carbs_kcal', 'fat_kcal', 'protein_kcal'],\n",
       "      dtype='object')"
      ]
     },
     "execution_count": 35,
     "metadata": {},
     "output_type": "execute_result"
    }
   ],
   "source": [
    "diary_df.columns"
   ]
  },
  {
   "cell_type": "code",
   "execution_count": 36,
   "metadata": {},
   "outputs": [],
   "source": [
    "diary_df_kcals = diary_df[['food', 'calories_kcal', 'carbs_kcal',\n",
    "       'fat_kcal', 'protein_kcal', 'date']]"
   ]
  },
  {
   "cell_type": "code",
   "execution_count": 37,
   "metadata": {},
   "outputs": [
    {
     "data": {
      "text/html": [
       "<div>\n",
       "<style scoped>\n",
       "    .dataframe tbody tr th:only-of-type {\n",
       "        vertical-align: middle;\n",
       "    }\n",
       "\n",
       "    .dataframe tbody tr th {\n",
       "        vertical-align: top;\n",
       "    }\n",
       "\n",
       "    .dataframe thead th {\n",
       "        text-align: right;\n",
       "    }\n",
       "</style>\n",
       "<table border=\"1\" class=\"dataframe\">\n",
       "  <thead>\n",
       "    <tr style=\"text-align: right;\">\n",
       "      <th></th>\n",
       "      <th>food</th>\n",
       "      <th>calories_kcal</th>\n",
       "      <th>carbs_kcal</th>\n",
       "      <th>fat_kcal</th>\n",
       "      <th>protein_kcal</th>\n",
       "      <th>date</th>\n",
       "    </tr>\n",
       "  </thead>\n",
       "  <tbody>\n",
       "    <tr>\n",
       "      <th>0</th>\n",
       "      <td>The Cheese Emporium - Mature Lighter Cheese</td>\n",
       "      <td>96</td>\n",
       "      <td>4</td>\n",
       "      <td>63</td>\n",
       "      <td>32</td>\n",
       "      <td>2022-03-18</td>\n",
       "    </tr>\n",
       "    <tr>\n",
       "      <th>1</th>\n",
       "      <td>Hovis - 50/50 Bread</td>\n",
       "      <td>182</td>\n",
       "      <td>128</td>\n",
       "      <td>9</td>\n",
       "      <td>32</td>\n",
       "      <td>2022-03-18</td>\n",
       "    </tr>\n",
       "    <tr>\n",
       "      <th>2</th>\n",
       "      <td>chicken thigh cooked</td>\n",
       "      <td>259</td>\n",
       "      <td>0</td>\n",
       "      <td>81</td>\n",
       "      <td>168</td>\n",
       "      <td>2022-03-18</td>\n",
       "    </tr>\n",
       "    <tr>\n",
       "      <th>3</th>\n",
       "      <td>Cereals - Oats instant fortified plain dry (in...</td>\n",
       "      <td>148</td>\n",
       "      <td>104</td>\n",
       "      <td>18</td>\n",
       "      <td>24</td>\n",
       "      <td>2022-03-18</td>\n",
       "    </tr>\n",
       "    <tr>\n",
       "      <th>4</th>\n",
       "      <td>Blueberries</td>\n",
       "      <td>86</td>\n",
       "      <td>88</td>\n",
       "      <td>0</td>\n",
       "      <td>4</td>\n",
       "      <td>2022-03-18</td>\n",
       "    </tr>\n",
       "  </tbody>\n",
       "</table>\n",
       "</div>"
      ],
      "text/plain": [
       "                                                food  calories_kcal  \\\n",
       "0        The Cheese Emporium - Mature Lighter Cheese             96   \n",
       "1                                Hovis - 50/50 Bread            182   \n",
       "2                               chicken thigh cooked            259   \n",
       "3  Cereals - Oats instant fortified plain dry (in...            148   \n",
       "4                                        Blueberries             86   \n",
       "\n",
       "   carbs_kcal  fat_kcal  protein_kcal        date  \n",
       "0           4        63            32  2022-03-18  \n",
       "1         128         9            32  2022-03-18  \n",
       "2           0        81           168  2022-03-18  \n",
       "3         104        18            24  2022-03-18  \n",
       "4          88         0             4  2022-03-18  "
      ]
     },
     "execution_count": 37,
     "metadata": {},
     "output_type": "execute_result"
    }
   ],
   "source": [
    "diary_df_kcals.head()"
   ]
  },
  {
   "cell_type": "code",
   "execution_count": 38,
   "metadata": {},
   "outputs": [
    {
     "data": {
      "text/html": [
       "<div>\n",
       "<style scoped>\n",
       "    .dataframe tbody tr th:only-of-type {\n",
       "        vertical-align: middle;\n",
       "    }\n",
       "\n",
       "    .dataframe tbody tr th {\n",
       "        vertical-align: top;\n",
       "    }\n",
       "\n",
       "    .dataframe thead th {\n",
       "        text-align: right;\n",
       "    }\n",
       "</style>\n",
       "<table border=\"1\" class=\"dataframe\">\n",
       "  <thead>\n",
       "    <tr style=\"text-align: right;\">\n",
       "      <th></th>\n",
       "      <th>food</th>\n",
       "      <th>date</th>\n",
       "      <th>variable</th>\n",
       "      <th>kcal</th>\n",
       "      <th>meals</th>\n",
       "    </tr>\n",
       "  </thead>\n",
       "  <tbody>\n",
       "    <tr>\n",
       "      <th>12</th>\n",
       "      <td>Babybel - Light</td>\n",
       "      <td>2022-03-21</td>\n",
       "      <td>carbs_kcal</td>\n",
       "      <td>0</td>\n",
       "      <td>1</td>\n",
       "    </tr>\n",
       "    <tr>\n",
       "      <th>13</th>\n",
       "      <td>Babybel - Light</td>\n",
       "      <td>2022-03-21</td>\n",
       "      <td>fat_kcal</td>\n",
       "      <td>54</td>\n",
       "      <td>1</td>\n",
       "    </tr>\n",
       "    <tr>\n",
       "      <th>14</th>\n",
       "      <td>Babybel - Light</td>\n",
       "      <td>2022-03-21</td>\n",
       "      <td>protein_kcal</td>\n",
       "      <td>48</td>\n",
       "      <td>1</td>\n",
       "    </tr>\n",
       "    <tr>\n",
       "      <th>39</th>\n",
       "      <td>Fibre One - Peanut Butter Popcorn Bar</td>\n",
       "      <td>2022-03-21</td>\n",
       "      <td>carbs_kcal</td>\n",
       "      <td>36</td>\n",
       "      <td>1</td>\n",
       "    </tr>\n",
       "    <tr>\n",
       "      <th>40</th>\n",
       "      <td>Fibre One - Peanut Butter Popcorn Bar</td>\n",
       "      <td>2022-03-21</td>\n",
       "      <td>fat_kcal</td>\n",
       "      <td>36</td>\n",
       "      <td>1</td>\n",
       "    </tr>\n",
       "    <tr>\n",
       "      <th>41</th>\n",
       "      <td>Fibre One - Peanut Butter Popcorn Bar</td>\n",
       "      <td>2022-03-21</td>\n",
       "      <td>protein_kcal</td>\n",
       "      <td>8</td>\n",
       "      <td>1</td>\n",
       "    </tr>\n",
       "    <tr>\n",
       "      <th>63</th>\n",
       "      <td>Kellogs - Rice Krispies Square - Chocolate</td>\n",
       "      <td>2022-03-21</td>\n",
       "      <td>carbs_kcal</td>\n",
       "      <td>216</td>\n",
       "      <td>2</td>\n",
       "    </tr>\n",
       "    <tr>\n",
       "      <th>64</th>\n",
       "      <td>Kellogs - Rice Krispies Square - Chocolate</td>\n",
       "      <td>2022-03-21</td>\n",
       "      <td>fat_kcal</td>\n",
       "      <td>90</td>\n",
       "      <td>2</td>\n",
       "    </tr>\n",
       "    <tr>\n",
       "      <th>65</th>\n",
       "      <td>Kellogs - Rice Krispies Square - Chocolate</td>\n",
       "      <td>2022-03-21</td>\n",
       "      <td>protein_kcal</td>\n",
       "      <td>16</td>\n",
       "      <td>2</td>\n",
       "    </tr>\n",
       "    <tr>\n",
       "      <th>105</th>\n",
       "      <td>chicken thigh cooked</td>\n",
       "      <td>2022-03-21</td>\n",
       "      <td>carbs_kcal</td>\n",
       "      <td>0</td>\n",
       "      <td>3</td>\n",
       "    </tr>\n",
       "    <tr>\n",
       "      <th>106</th>\n",
       "      <td>chicken thigh cooked</td>\n",
       "      <td>2022-03-21</td>\n",
       "      <td>fat_kcal</td>\n",
       "      <td>225</td>\n",
       "      <td>3</td>\n",
       "    </tr>\n",
       "    <tr>\n",
       "      <th>107</th>\n",
       "      <td>chicken thigh cooked</td>\n",
       "      <td>2022-03-21</td>\n",
       "      <td>protein_kcal</td>\n",
       "      <td>476</td>\n",
       "      <td>3</td>\n",
       "    </tr>\n",
       "    <tr>\n",
       "      <th>114</th>\n",
       "      <td>hula hoops - hula hoop crisps</td>\n",
       "      <td>2022-03-21</td>\n",
       "      <td>carbs_kcal</td>\n",
       "      <td>120</td>\n",
       "      <td>1</td>\n",
       "    </tr>\n",
       "    <tr>\n",
       "      <th>115</th>\n",
       "      <td>hula hoops - hula hoop crisps</td>\n",
       "      <td>2022-03-21</td>\n",
       "      <td>fat_kcal</td>\n",
       "      <td>108</td>\n",
       "      <td>1</td>\n",
       "    </tr>\n",
       "    <tr>\n",
       "      <th>116</th>\n",
       "      <td>hula hoops - hula hoop crisps</td>\n",
       "      <td>2022-03-21</td>\n",
       "      <td>protein_kcal</td>\n",
       "      <td>8</td>\n",
       "      <td>1</td>\n",
       "    </tr>\n",
       "  </tbody>\n",
       "</table>\n",
       "</div>"
      ],
      "text/plain": [
       "                                           food        date      variable  \\\n",
       "12                              Babybel - Light  2022-03-21    carbs_kcal   \n",
       "13                              Babybel - Light  2022-03-21      fat_kcal   \n",
       "14                              Babybel - Light  2022-03-21  protein_kcal   \n",
       "39        Fibre One - Peanut Butter Popcorn Bar  2022-03-21    carbs_kcal   \n",
       "40        Fibre One - Peanut Butter Popcorn Bar  2022-03-21      fat_kcal   \n",
       "41        Fibre One - Peanut Butter Popcorn Bar  2022-03-21  protein_kcal   \n",
       "63   Kellogs - Rice Krispies Square - Chocolate  2022-03-21    carbs_kcal   \n",
       "64   Kellogs - Rice Krispies Square - Chocolate  2022-03-21      fat_kcal   \n",
       "65   Kellogs - Rice Krispies Square - Chocolate  2022-03-21  protein_kcal   \n",
       "105                        chicken thigh cooked  2022-03-21    carbs_kcal   \n",
       "106                        chicken thigh cooked  2022-03-21      fat_kcal   \n",
       "107                        chicken thigh cooked  2022-03-21  protein_kcal   \n",
       "114               hula hoops - hula hoop crisps  2022-03-21    carbs_kcal   \n",
       "115               hula hoops - hula hoop crisps  2022-03-21      fat_kcal   \n",
       "116               hula hoops - hula hoop crisps  2022-03-21  protein_kcal   \n",
       "\n",
       "     kcal  meals  \n",
       "12      0      1  \n",
       "13     54      1  \n",
       "14     48      1  \n",
       "39     36      1  \n",
       "40     36      1  \n",
       "41      8      1  \n",
       "63    216      2  \n",
       "64     90      2  \n",
       "65     16      2  \n",
       "105     0      3  \n",
       "106   225      3  \n",
       "107   476      3  \n",
       "114   120      1  \n",
       "115   108      1  \n",
       "116     8      1  "
      ]
     },
     "execution_count": 38,
     "metadata": {},
     "output_type": "execute_result"
    }
   ],
   "source": [
    "melted_df = diary_df_kcals.drop(\"calories_kcal\", axis=1).melt(['food', 'date'])\n",
    "melted_df = melted_df.rename({\"value\":\"kcal\"}, axis=1)\n",
    "melted_df['meals'] = 1\n",
    "\n",
    "melted_df = melted_df.groupby(['food', 'date', 'variable']).sum()\n",
    "melted_df= melted_df.reset_index()\n",
    "melted_df[melted_df['date']==datetime.date(2022,3,21)]"
   ]
  },
  {
   "cell_type": "code",
   "execution_count": 39,
   "metadata": {},
   "outputs": [
    {
     "name": "stderr",
     "output_type": "stream",
     "text": [
      "/root/.local/lib/python3.10/site-packages/plotly/express/_core.py:1637: FutureWarning:\n",
      "\n",
      "The frame.append method is deprecated and will be removed from pandas in a future version. Use pandas.concat instead.\n",
      "\n",
      "/root/.local/lib/python3.10/site-packages/plotly/express/_core.py:1637: FutureWarning:\n",
      "\n",
      "The frame.append method is deprecated and will be removed from pandas in a future version. Use pandas.concat instead.\n",
      "\n",
      "/root/.local/lib/python3.10/site-packages/plotly/express/_core.py:1637: FutureWarning:\n",
      "\n",
      "The frame.append method is deprecated and will be removed from pandas in a future version. Use pandas.concat instead.\n",
      "\n",
      "/root/.local/lib/python3.10/site-packages/plotly/express/_core.py:1637: FutureWarning:\n",
      "\n",
      "The frame.append method is deprecated and will be removed from pandas in a future version. Use pandas.concat instead.\n",
      "\n"
     ]
    },
    {
     "data": {
      "application/vnd.plotly.v1+json": {
       "config": {
        "plotlyServerURL": "https://plot.ly"
       },
       "data": [
        {
         "branchvalues": "total",
         "customdata": [
          [
           1
          ],
          [
           1
          ],
          [
           1
          ],
          [
           1
          ],
          [
           1
          ],
          [
           1
          ],
          [
           1
          ],
          [
           1
          ],
          [
           1
          ],
          [
           1
          ],
          [
           1
          ],
          [
           1
          ],
          [
           1
          ],
          [
           1
          ],
          [
           1
          ],
          [
           1
          ],
          [
           1
          ],
          [
           1
          ],
          [
           2
          ],
          [
           2
          ],
          [
           2
          ],
          [
           1
          ],
          [
           1
          ],
          [
           1
          ],
          [
           1
          ],
          [
           1
          ],
          [
           1
          ],
          [
           1
          ],
          [
           1
          ],
          [
           1
          ],
          [
           1
          ],
          [
           1
          ],
          [
           1
          ],
          [
           1
          ],
          [
           1
          ],
          [
           1
          ],
          [
           1
          ],
          [
           1
          ],
          [
           1
          ],
          [
           1
          ],
          [
           1
          ],
          [
           1
          ],
          [
           2
          ],
          [
           2
          ],
          [
           2
          ],
          [
           1
          ],
          [
           1
          ],
          [
           1
          ],
          [
           1
          ],
          [
           1
          ],
          [
           1
          ],
          [
           1
          ],
          [
           1
          ],
          [
           1
          ],
          [
           1
          ],
          [
           1
          ],
          [
           1
          ],
          [
           1
          ],
          [
           1
          ],
          [
           1
          ],
          [
           1
          ],
          [
           1
          ],
          [
           1
          ],
          [
           2
          ],
          [
           2
          ],
          [
           2
          ],
          [
           1
          ],
          [
           1
          ],
          [
           1
          ],
          [
           1
          ],
          [
           1
          ],
          [
           1
          ],
          [
           2
          ],
          [
           2
          ],
          [
           2
          ],
          [
           1
          ],
          [
           1
          ],
          [
           1
          ],
          [
           1
          ],
          [
           1
          ],
          [
           1
          ],
          [
           1
          ],
          [
           1
          ],
          [
           1
          ],
          [
           2
          ],
          [
           2
          ],
          [
           2
          ],
          [
           3
          ],
          [
           3
          ],
          [
           3
          ],
          [
           1
          ],
          [
           1
          ],
          [
           1
          ],
          [
           2
          ],
          [
           2
          ],
          [
           2
          ],
          [
           1
          ],
          [
           1
          ],
          [
           1
          ],
          [
           1
          ],
          [
           1
          ],
          [
           1
          ],
          [
           1
          ],
          [
           1
          ],
          [
           1
          ],
          [
           1
          ],
          [
           1
          ],
          [
           1
          ],
          [
           1
          ],
          [
           1
          ],
          [
           1
          ],
          [
           1
          ],
          [
           1
          ],
          [
           1
          ],
          [
           2
          ],
          [
           2
          ],
          [
           2
          ],
          [
           1
          ],
          [
           1
          ],
          [
           1
          ],
          [
           1
          ],
          [
           1
          ],
          [
           1
          ],
          [
           1
          ],
          [
           1
          ],
          [
           1
          ],
          [
           1
          ],
          [
           1
          ],
          [
           1
          ],
          [
           "(?)"
          ],
          [
           "(?)"
          ],
          [
           "(?)"
          ],
          [
           1
          ],
          [
           1
          ],
          [
           1
          ],
          [
           1
          ],
          [
           1
          ],
          [
           1
          ],
          [
           1
          ],
          [
           1
          ],
          [
           1
          ],
          [
           1
          ],
          [
           1
          ],
          [
           1
          ],
          [
           1
          ],
          [
           1
          ],
          [
           1
          ],
          [
           1
          ],
          [
           1
          ],
          [
           1
          ],
          [
           "(?)"
          ],
          [
           "(?)"
          ],
          [
           "(?)"
          ],
          [
           "(?)"
          ],
          [
           "(?)"
          ],
          [
           "(?)"
          ],
          [
           1
          ],
          [
           1
          ],
          [
           1
          ],
          [
           1
          ],
          [
           1
          ],
          [
           1
          ],
          [
           1
          ],
          [
           1
          ],
          [
           1
          ],
          [
           1
          ],
          [
           1
          ],
          [
           1
          ],
          [
           "(?)"
          ],
          [
           "(?)"
          ],
          [
           "(?)"
          ],
          [
           1
          ],
          [
           1
          ],
          [
           1
          ],
          [
           "(?)"
          ],
          [
           "(?)"
          ],
          [
           "(?)"
          ],
          [
           "(?)"
          ]
         ],
         "domain": {
          "x": [
           0,
           1
          ],
          "y": [
           0,
           1
          ]
         },
         "hovertemplate": "labels=%{label}<br>kcal=%{value}<br>parent=%{parent}<br>id=%{id}<br>meals=%{customdata[0]}<extra></extra>",
         "ids": [
          "all/carbs_kcal/Blueberries/2022-03-18",
          "all/fat_kcal/Blueberries/2022-03-18",
          "all/protein_kcal/Blueberries/2022-03-18",
          "all/carbs_kcal/Cereals - Oats instant fortified plain dry (instant oatmeal)/2022-03-18",
          "all/fat_kcal/Cereals - Oats instant fortified plain dry (instant oatmeal)/2022-03-18",
          "all/protein_kcal/Cereals - Oats instant fortified plain dry (instant oatmeal)/2022-03-18",
          "all/carbs_kcal/Hovis - 50/50 Bread/2022-03-18",
          "all/fat_kcal/Hovis - 50/50 Bread/2022-03-18",
          "all/protein_kcal/Hovis - 50/50 Bread/2022-03-18",
          "all/carbs_kcal/Ryvita - Thins - Sweet Chilli/2022-03-18",
          "all/fat_kcal/Ryvita - Thins - Sweet Chilli/2022-03-18",
          "all/protein_kcal/Ryvita - Thins - Sweet Chilli/2022-03-18",
          "all/carbs_kcal/The Cheese Emporium - Mature Lighter Cheese/2022-03-18",
          "all/fat_kcal/The Cheese Emporium - Mature Lighter Cheese/2022-03-18",
          "all/protein_kcal/The Cheese Emporium - Mature Lighter Cheese/2022-03-18",
          "all/carbs_kcal/asda - popcorn icecream/2022-03-18",
          "all/fat_kcal/asda - popcorn icecream/2022-03-18",
          "all/protein_kcal/asda - popcorn icecream/2022-03-18",
          "all/carbs_kcal/chicken thigh cooked/2022-03-18",
          "all/fat_kcal/chicken thigh cooked/2022-03-18",
          "all/protein_kcal/chicken thigh cooked/2022-03-18",
          "all/carbs_kcal/Arla Skyr - Strawberry/2022-03-19",
          "all/fat_kcal/Arla Skyr - Strawberry/2022-03-19",
          "all/protein_kcal/Arla Skyr - Strawberry/2022-03-19",
          "all/carbs_kcal/Babybel - Light/2022-03-19",
          "all/fat_kcal/Babybel - Light/2022-03-19",
          "all/protein_kcal/Babybel - Light/2022-03-19",
          "all/carbs_kcal/Banana - Bananas/2022-03-19",
          "all/fat_kcal/Banana - Bananas/2022-03-19",
          "all/protein_kcal/Banana - Bananas/2022-03-19",
          "all/carbs_kcal/Hovis - 50/50 Bread/2022-03-19",
          "all/fat_kcal/Hovis - 50/50 Bread/2022-03-19",
          "all/protein_kcal/Hovis - 50/50 Bread/2022-03-19",
          "all/carbs_kcal/Kellogs - Rice Krispies Square - Chocolate/2022-03-19",
          "all/fat_kcal/Kellogs - Rice Krispies Square - Chocolate/2022-03-19",
          "all/protein_kcal/Kellogs - Rice Krispies Square - Chocolate/2022-03-19",
          "all/carbs_kcal/Ryvita - Thins - Sweet Chilli/2022-03-19",
          "all/fat_kcal/Ryvita - Thins - Sweet Chilli/2022-03-19",
          "all/protein_kcal/Ryvita - Thins - Sweet Chilli/2022-03-19",
          "all/carbs_kcal/Sunpat - Smooth Peanut Butter 454grams/2022-03-19",
          "all/fat_kcal/Sunpat - Smooth Peanut Butter 454grams/2022-03-19",
          "all/protein_kcal/Sunpat - Smooth Peanut Butter 454grams/2022-03-19",
          "all/carbs_kcal/chicken thigh cooked/2022-03-19",
          "all/fat_kcal/chicken thigh cooked/2022-03-19",
          "all/protein_kcal/chicken thigh cooked/2022-03-19",
          "all/carbs_kcal/Arla Skyr - Strawberry/2022-03-20",
          "all/fat_kcal/Arla Skyr - Strawberry/2022-03-20",
          "all/protein_kcal/Arla Skyr - Strawberry/2022-03-20",
          "all/carbs_kcal/Babybel - Light/2022-03-20",
          "all/fat_kcal/Babybel - Light/2022-03-20",
          "all/protein_kcal/Babybel - Light/2022-03-20",
          "all/carbs_kcal/Costco - Kiwi/2022-03-20",
          "all/fat_kcal/Costco - Kiwi/2022-03-20",
          "all/protein_kcal/Costco - Kiwi/2022-03-20",
          "all/carbs_kcal/Fibre One - Peanut Butter Popcorn Bar/2022-03-20",
          "all/fat_kcal/Fibre One - Peanut Butter Popcorn Bar/2022-03-20",
          "all/protein_kcal/Fibre One - Peanut Butter Popcorn Bar/2022-03-20",
          "all/carbs_kcal/Hovis - 50/50 Bread/2022-03-20",
          "all/fat_kcal/Hovis - 50/50 Bread/2022-03-20",
          "all/protein_kcal/Hovis - 50/50 Bread/2022-03-20",
          "all/carbs_kcal/Kellogs - Rice Krispies Square - Chocolate/2022-03-20",
          "all/fat_kcal/Kellogs - Rice Krispies Square - Chocolate/2022-03-20",
          "all/protein_kcal/Kellogs - Rice Krispies Square - Chocolate/2022-03-20",
          "all/carbs_kcal/Ryvita - Thins - Sweet Chilli/2022-03-20",
          "all/fat_kcal/Ryvita - Thins - Sweet Chilli/2022-03-20",
          "all/protein_kcal/Ryvita - Thins - Sweet Chilli/2022-03-20",
          "all/carbs_kcal/String Cheese - 1 String Cheese/2022-03-20",
          "all/fat_kcal/String Cheese - 1 String Cheese/2022-03-20",
          "all/protein_kcal/String Cheese - 1 String Cheese/2022-03-20",
          "all/carbs_kcal/Sunpat - Smooth Peanut Butter 454grams/2022-03-20",
          "all/fat_kcal/Sunpat - Smooth Peanut Butter 454grams/2022-03-20",
          "all/protein_kcal/Sunpat - Smooth Peanut Butter 454grams/2022-03-20",
          "all/carbs_kcal/chicken thigh cooked/2022-03-20",
          "all/fat_kcal/chicken thigh cooked/2022-03-20",
          "all/protein_kcal/chicken thigh cooked/2022-03-20",
          "all/carbs_kcal/hula hoops - hula hoop crisps/2022-03-20",
          "all/fat_kcal/hula hoops - hula hoop crisps/2022-03-20",
          "all/protein_kcal/hula hoops - hula hoop crisps/2022-03-20",
          "all/carbs_kcal/Babybel - Light/2022-03-21",
          "all/fat_kcal/Babybel - Light/2022-03-21",
          "all/protein_kcal/Babybel - Light/2022-03-21",
          "all/carbs_kcal/Fibre One - Peanut Butter Popcorn Bar/2022-03-21",
          "all/fat_kcal/Fibre One - Peanut Butter Popcorn Bar/2022-03-21",
          "all/protein_kcal/Fibre One - Peanut Butter Popcorn Bar/2022-03-21",
          "all/carbs_kcal/Kellogs - Rice Krispies Square - Chocolate/2022-03-21",
          "all/fat_kcal/Kellogs - Rice Krispies Square - Chocolate/2022-03-21",
          "all/protein_kcal/Kellogs - Rice Krispies Square - Chocolate/2022-03-21",
          "all/carbs_kcal/chicken thigh cooked/2022-03-21",
          "all/fat_kcal/chicken thigh cooked/2022-03-21",
          "all/protein_kcal/chicken thigh cooked/2022-03-21",
          "all/carbs_kcal/hula hoops - hula hoop crisps/2022-03-21",
          "all/fat_kcal/hula hoops - hula hoop crisps/2022-03-21",
          "all/protein_kcal/hula hoops - hula hoop crisps/2022-03-21",
          "all/carbs_kcal/Blueberries/2022-03-22",
          "all/fat_kcal/Blueberries/2022-03-22",
          "all/protein_kcal/Blueberries/2022-03-22",
          "all/carbs_kcal/Cofresh - Balti Mix/2022-03-22",
          "all/fat_kcal/Cofresh - Balti Mix/2022-03-22",
          "all/protein_kcal/Cofresh - Balti Mix/2022-03-22",
          "all/carbs_kcal/Eggs - Whole raw/2022-03-22",
          "all/fat_kcal/Eggs - Whole raw/2022-03-22",
          "all/protein_kcal/Eggs - Whole raw/2022-03-22",
          "all/carbs_kcal/Fibre One - Peanut Butter Popcorn Bar/2022-03-22",
          "all/fat_kcal/Fibre One - Peanut Butter Popcorn Bar/2022-03-22",
          "all/protein_kcal/Fibre One - Peanut Butter Popcorn Bar/2022-03-22",
          "all/carbs_kcal/Hovis - 50/50 Bread/2022-03-22",
          "all/fat_kcal/Hovis - 50/50 Bread/2022-03-22",
          "all/protein_kcal/Hovis - 50/50 Bread/2022-03-22",
          "all/carbs_kcal/Kellogs - Rice Krispies Square - Chocolate/2022-03-22",
          "all/fat_kcal/Kellogs - Rice Krispies Square - Chocolate/2022-03-22",
          "all/protein_kcal/Kellogs - Rice Krispies Square - Chocolate/2022-03-22",
          "all/carbs_kcal/String Cheese - 1 String Cheese/2022-03-22",
          "all/fat_kcal/String Cheese - 1 String Cheese/2022-03-22",
          "all/protein_kcal/String Cheese - 1 String Cheese/2022-03-22",
          "all/carbs_kcal/chicken thigh cooked/2022-03-22",
          "all/fat_kcal/chicken thigh cooked/2022-03-22",
          "all/protein_kcal/chicken thigh cooked/2022-03-22",
          "all/carbs_kcal/hula hoops - hula hoop crisps/2022-03-22",
          "all/fat_kcal/hula hoops - hula hoop crisps/2022-03-22",
          "all/protein_kcal/hula hoops - hula hoop crisps/2022-03-22",
          "all/carbs_kcal/Arla Skyr - Strawberry",
          "all/fat_kcal/Arla Skyr - Strawberry",
          "all/protein_kcal/Arla Skyr - Strawberry",
          "all/carbs_kcal/Babybel - Light",
          "all/fat_kcal/Babybel - Light",
          "all/protein_kcal/Babybel - Light",
          "all/carbs_kcal/Banana - Bananas",
          "all/fat_kcal/Banana - Bananas",
          "all/protein_kcal/Banana - Bananas",
          "all/carbs_kcal/Blueberries",
          "all/fat_kcal/Blueberries",
          "all/protein_kcal/Blueberries",
          "all/carbs_kcal/Cereals - Oats instant fortified plain dry (instant oatmeal)",
          "all/fat_kcal/Cereals - Oats instant fortified plain dry (instant oatmeal)",
          "all/protein_kcal/Cereals - Oats instant fortified plain dry (instant oatmeal)",
          "all/carbs_kcal/Cofresh - Balti Mix",
          "all/fat_kcal/Cofresh - Balti Mix",
          "all/protein_kcal/Cofresh - Balti Mix",
          "all/carbs_kcal/Costco - Kiwi",
          "all/fat_kcal/Costco - Kiwi",
          "all/protein_kcal/Costco - Kiwi",
          "all/carbs_kcal/Eggs - Whole raw",
          "all/fat_kcal/Eggs - Whole raw",
          "all/protein_kcal/Eggs - Whole raw",
          "all/carbs_kcal/Fibre One - Peanut Butter Popcorn Bar",
          "all/fat_kcal/Fibre One - Peanut Butter Popcorn Bar",
          "all/protein_kcal/Fibre One - Peanut Butter Popcorn Bar",
          "all/carbs_kcal/Hovis - 50/50 Bread",
          "all/fat_kcal/Hovis - 50/50 Bread",
          "all/protein_kcal/Hovis - 50/50 Bread",
          "all/carbs_kcal/Kellogs - Rice Krispies Square - Chocolate",
          "all/fat_kcal/Kellogs - Rice Krispies Square - Chocolate",
          "all/protein_kcal/Kellogs - Rice Krispies Square - Chocolate",
          "all/carbs_kcal/Ryvita - Thins - Sweet Chilli",
          "all/fat_kcal/Ryvita - Thins - Sweet Chilli",
          "all/protein_kcal/Ryvita - Thins - Sweet Chilli",
          "all/carbs_kcal/String Cheese - 1 String Cheese",
          "all/fat_kcal/String Cheese - 1 String Cheese",
          "all/protein_kcal/String Cheese - 1 String Cheese",
          "all/carbs_kcal/Sunpat - Smooth Peanut Butter 454grams",
          "all/fat_kcal/Sunpat - Smooth Peanut Butter 454grams",
          "all/protein_kcal/Sunpat - Smooth Peanut Butter 454grams",
          "all/carbs_kcal/The Cheese Emporium - Mature Lighter Cheese",
          "all/fat_kcal/The Cheese Emporium - Mature Lighter Cheese",
          "all/protein_kcal/The Cheese Emporium - Mature Lighter Cheese",
          "all/carbs_kcal/asda - popcorn icecream",
          "all/fat_kcal/asda - popcorn icecream",
          "all/protein_kcal/asda - popcorn icecream",
          "all/carbs_kcal/chicken thigh cooked",
          "all/fat_kcal/chicken thigh cooked",
          "all/protein_kcal/chicken thigh cooked",
          "all/carbs_kcal/hula hoops - hula hoop crisps",
          "all/fat_kcal/hula hoops - hula hoop crisps",
          "all/protein_kcal/hula hoops - hula hoop crisps",
          "all/carbs_kcal",
          "all/fat_kcal",
          "all/protein_kcal",
          "all"
         ],
         "labels": [
          "2022-03-18",
          "2022-03-18",
          "2022-03-18",
          "2022-03-18",
          "2022-03-18",
          "2022-03-18",
          "2022-03-18",
          "2022-03-18",
          "2022-03-18",
          "2022-03-18",
          "2022-03-18",
          "2022-03-18",
          "2022-03-18",
          "2022-03-18",
          "2022-03-18",
          "2022-03-18",
          "2022-03-18",
          "2022-03-18",
          "2022-03-18",
          "2022-03-18",
          "2022-03-18",
          "2022-03-19",
          "2022-03-19",
          "2022-03-19",
          "2022-03-19",
          "2022-03-19",
          "2022-03-19",
          "2022-03-19",
          "2022-03-19",
          "2022-03-19",
          "2022-03-19",
          "2022-03-19",
          "2022-03-19",
          "2022-03-19",
          "2022-03-19",
          "2022-03-19",
          "2022-03-19",
          "2022-03-19",
          "2022-03-19",
          "2022-03-19",
          "2022-03-19",
          "2022-03-19",
          "2022-03-19",
          "2022-03-19",
          "2022-03-19",
          "2022-03-20",
          "2022-03-20",
          "2022-03-20",
          "2022-03-20",
          "2022-03-20",
          "2022-03-20",
          "2022-03-20",
          "2022-03-20",
          "2022-03-20",
          "2022-03-20",
          "2022-03-20",
          "2022-03-20",
          "2022-03-20",
          "2022-03-20",
          "2022-03-20",
          "2022-03-20",
          "2022-03-20",
          "2022-03-20",
          "2022-03-20",
          "2022-03-20",
          "2022-03-20",
          "2022-03-20",
          "2022-03-20",
          "2022-03-20",
          "2022-03-20",
          "2022-03-20",
          "2022-03-20",
          "2022-03-20",
          "2022-03-20",
          "2022-03-20",
          "2022-03-20",
          "2022-03-20",
          "2022-03-20",
          "2022-03-21",
          "2022-03-21",
          "2022-03-21",
          "2022-03-21",
          "2022-03-21",
          "2022-03-21",
          "2022-03-21",
          "2022-03-21",
          "2022-03-21",
          "2022-03-21",
          "2022-03-21",
          "2022-03-21",
          "2022-03-21",
          "2022-03-21",
          "2022-03-21",
          "2022-03-22",
          "2022-03-22",
          "2022-03-22",
          "2022-03-22",
          "2022-03-22",
          "2022-03-22",
          "2022-03-22",
          "2022-03-22",
          "2022-03-22",
          "2022-03-22",
          "2022-03-22",
          "2022-03-22",
          "2022-03-22",
          "2022-03-22",
          "2022-03-22",
          "2022-03-22",
          "2022-03-22",
          "2022-03-22",
          "2022-03-22",
          "2022-03-22",
          "2022-03-22",
          "2022-03-22",
          "2022-03-22",
          "2022-03-22",
          "2022-03-22",
          "2022-03-22",
          "2022-03-22",
          "Arla Skyr - Strawberry",
          "Arla Skyr - Strawberry",
          "Arla Skyr - Strawberry",
          "Babybel - Light",
          "Babybel - Light",
          "Babybel - Light",
          "Banana - Bananas",
          "Banana - Bananas",
          "Banana - Bananas",
          "Blueberries",
          "Blueberries",
          "Blueberries",
          "Cereals - Oats instant fortified plain dry (instant oatmeal)",
          "Cereals - Oats instant fortified plain dry (instant oatmeal)",
          "Cereals - Oats instant fortified plain dry (instant oatmeal)",
          "Cofresh - Balti Mix",
          "Cofresh - Balti Mix",
          "Cofresh - Balti Mix",
          "Costco - Kiwi",
          "Costco - Kiwi",
          "Costco - Kiwi",
          "Eggs - Whole raw",
          "Eggs - Whole raw",
          "Eggs - Whole raw",
          "Fibre One - Peanut Butter Popcorn Bar",
          "Fibre One - Peanut Butter Popcorn Bar",
          "Fibre One - Peanut Butter Popcorn Bar",
          "Hovis - 50/50 Bread",
          "Hovis - 50/50 Bread",
          "Hovis - 50/50 Bread",
          "Kellogs - Rice Krispies Square - Chocolate",
          "Kellogs - Rice Krispies Square - Chocolate",
          "Kellogs - Rice Krispies Square - Chocolate",
          "Ryvita - Thins - Sweet Chilli",
          "Ryvita - Thins - Sweet Chilli",
          "Ryvita - Thins - Sweet Chilli",
          "String Cheese - 1 String Cheese",
          "String Cheese - 1 String Cheese",
          "String Cheese - 1 String Cheese",
          "Sunpat - Smooth Peanut Butter 454grams",
          "Sunpat - Smooth Peanut Butter 454grams",
          "Sunpat - Smooth Peanut Butter 454grams",
          "The Cheese Emporium - Mature Lighter Cheese",
          "The Cheese Emporium - Mature Lighter Cheese",
          "The Cheese Emporium - Mature Lighter Cheese",
          "asda - popcorn icecream",
          "asda - popcorn icecream",
          "asda - popcorn icecream",
          "chicken thigh cooked",
          "chicken thigh cooked",
          "chicken thigh cooked",
          "hula hoops - hula hoop crisps",
          "hula hoops - hula hoop crisps",
          "hula hoops - hula hoop crisps",
          "carbs_kcal",
          "fat_kcal",
          "protein_kcal",
          "all"
         ],
         "name": "",
         "parents": [
          "all/carbs_kcal/Blueberries",
          "all/fat_kcal/Blueberries",
          "all/protein_kcal/Blueberries",
          "all/carbs_kcal/Cereals - Oats instant fortified plain dry (instant oatmeal)",
          "all/fat_kcal/Cereals - Oats instant fortified plain dry (instant oatmeal)",
          "all/protein_kcal/Cereals - Oats instant fortified plain dry (instant oatmeal)",
          "all/carbs_kcal/Hovis - 50/50 Bread",
          "all/fat_kcal/Hovis - 50/50 Bread",
          "all/protein_kcal/Hovis - 50/50 Bread",
          "all/carbs_kcal/Ryvita - Thins - Sweet Chilli",
          "all/fat_kcal/Ryvita - Thins - Sweet Chilli",
          "all/protein_kcal/Ryvita - Thins - Sweet Chilli",
          "all/carbs_kcal/The Cheese Emporium - Mature Lighter Cheese",
          "all/fat_kcal/The Cheese Emporium - Mature Lighter Cheese",
          "all/protein_kcal/The Cheese Emporium - Mature Lighter Cheese",
          "all/carbs_kcal/asda - popcorn icecream",
          "all/fat_kcal/asda - popcorn icecream",
          "all/protein_kcal/asda - popcorn icecream",
          "all/carbs_kcal/chicken thigh cooked",
          "all/fat_kcal/chicken thigh cooked",
          "all/protein_kcal/chicken thigh cooked",
          "all/carbs_kcal/Arla Skyr - Strawberry",
          "all/fat_kcal/Arla Skyr - Strawberry",
          "all/protein_kcal/Arla Skyr - Strawberry",
          "all/carbs_kcal/Babybel - Light",
          "all/fat_kcal/Babybel - Light",
          "all/protein_kcal/Babybel - Light",
          "all/carbs_kcal/Banana - Bananas",
          "all/fat_kcal/Banana - Bananas",
          "all/protein_kcal/Banana - Bananas",
          "all/carbs_kcal/Hovis - 50/50 Bread",
          "all/fat_kcal/Hovis - 50/50 Bread",
          "all/protein_kcal/Hovis - 50/50 Bread",
          "all/carbs_kcal/Kellogs - Rice Krispies Square - Chocolate",
          "all/fat_kcal/Kellogs - Rice Krispies Square - Chocolate",
          "all/protein_kcal/Kellogs - Rice Krispies Square - Chocolate",
          "all/carbs_kcal/Ryvita - Thins - Sweet Chilli",
          "all/fat_kcal/Ryvita - Thins - Sweet Chilli",
          "all/protein_kcal/Ryvita - Thins - Sweet Chilli",
          "all/carbs_kcal/Sunpat - Smooth Peanut Butter 454grams",
          "all/fat_kcal/Sunpat - Smooth Peanut Butter 454grams",
          "all/protein_kcal/Sunpat - Smooth Peanut Butter 454grams",
          "all/carbs_kcal/chicken thigh cooked",
          "all/fat_kcal/chicken thigh cooked",
          "all/protein_kcal/chicken thigh cooked",
          "all/carbs_kcal/Arla Skyr - Strawberry",
          "all/fat_kcal/Arla Skyr - Strawberry",
          "all/protein_kcal/Arla Skyr - Strawberry",
          "all/carbs_kcal/Babybel - Light",
          "all/fat_kcal/Babybel - Light",
          "all/protein_kcal/Babybel - Light",
          "all/carbs_kcal/Costco - Kiwi",
          "all/fat_kcal/Costco - Kiwi",
          "all/protein_kcal/Costco - Kiwi",
          "all/carbs_kcal/Fibre One - Peanut Butter Popcorn Bar",
          "all/fat_kcal/Fibre One - Peanut Butter Popcorn Bar",
          "all/protein_kcal/Fibre One - Peanut Butter Popcorn Bar",
          "all/carbs_kcal/Hovis - 50/50 Bread",
          "all/fat_kcal/Hovis - 50/50 Bread",
          "all/protein_kcal/Hovis - 50/50 Bread",
          "all/carbs_kcal/Kellogs - Rice Krispies Square - Chocolate",
          "all/fat_kcal/Kellogs - Rice Krispies Square - Chocolate",
          "all/protein_kcal/Kellogs - Rice Krispies Square - Chocolate",
          "all/carbs_kcal/Ryvita - Thins - Sweet Chilli",
          "all/fat_kcal/Ryvita - Thins - Sweet Chilli",
          "all/protein_kcal/Ryvita - Thins - Sweet Chilli",
          "all/carbs_kcal/String Cheese - 1 String Cheese",
          "all/fat_kcal/String Cheese - 1 String Cheese",
          "all/protein_kcal/String Cheese - 1 String Cheese",
          "all/carbs_kcal/Sunpat - Smooth Peanut Butter 454grams",
          "all/fat_kcal/Sunpat - Smooth Peanut Butter 454grams",
          "all/protein_kcal/Sunpat - Smooth Peanut Butter 454grams",
          "all/carbs_kcal/chicken thigh cooked",
          "all/fat_kcal/chicken thigh cooked",
          "all/protein_kcal/chicken thigh cooked",
          "all/carbs_kcal/hula hoops - hula hoop crisps",
          "all/fat_kcal/hula hoops - hula hoop crisps",
          "all/protein_kcal/hula hoops - hula hoop crisps",
          "all/carbs_kcal/Babybel - Light",
          "all/fat_kcal/Babybel - Light",
          "all/protein_kcal/Babybel - Light",
          "all/carbs_kcal/Fibre One - Peanut Butter Popcorn Bar",
          "all/fat_kcal/Fibre One - Peanut Butter Popcorn Bar",
          "all/protein_kcal/Fibre One - Peanut Butter Popcorn Bar",
          "all/carbs_kcal/Kellogs - Rice Krispies Square - Chocolate",
          "all/fat_kcal/Kellogs - Rice Krispies Square - Chocolate",
          "all/protein_kcal/Kellogs - Rice Krispies Square - Chocolate",
          "all/carbs_kcal/chicken thigh cooked",
          "all/fat_kcal/chicken thigh cooked",
          "all/protein_kcal/chicken thigh cooked",
          "all/carbs_kcal/hula hoops - hula hoop crisps",
          "all/fat_kcal/hula hoops - hula hoop crisps",
          "all/protein_kcal/hula hoops - hula hoop crisps",
          "all/carbs_kcal/Blueberries",
          "all/fat_kcal/Blueberries",
          "all/protein_kcal/Blueberries",
          "all/carbs_kcal/Cofresh - Balti Mix",
          "all/fat_kcal/Cofresh - Balti Mix",
          "all/protein_kcal/Cofresh - Balti Mix",
          "all/carbs_kcal/Eggs - Whole raw",
          "all/fat_kcal/Eggs - Whole raw",
          "all/protein_kcal/Eggs - Whole raw",
          "all/carbs_kcal/Fibre One - Peanut Butter Popcorn Bar",
          "all/fat_kcal/Fibre One - Peanut Butter Popcorn Bar",
          "all/protein_kcal/Fibre One - Peanut Butter Popcorn Bar",
          "all/carbs_kcal/Hovis - 50/50 Bread",
          "all/fat_kcal/Hovis - 50/50 Bread",
          "all/protein_kcal/Hovis - 50/50 Bread",
          "all/carbs_kcal/Kellogs - Rice Krispies Square - Chocolate",
          "all/fat_kcal/Kellogs - Rice Krispies Square - Chocolate",
          "all/protein_kcal/Kellogs - Rice Krispies Square - Chocolate",
          "all/carbs_kcal/String Cheese - 1 String Cheese",
          "all/fat_kcal/String Cheese - 1 String Cheese",
          "all/protein_kcal/String Cheese - 1 String Cheese",
          "all/carbs_kcal/chicken thigh cooked",
          "all/fat_kcal/chicken thigh cooked",
          "all/protein_kcal/chicken thigh cooked",
          "all/carbs_kcal/hula hoops - hula hoop crisps",
          "all/fat_kcal/hula hoops - hula hoop crisps",
          "all/protein_kcal/hula hoops - hula hoop crisps",
          "all/carbs_kcal",
          "all/fat_kcal",
          "all/protein_kcal",
          "all/carbs_kcal",
          "all/fat_kcal",
          "all/protein_kcal",
          "all/carbs_kcal",
          "all/fat_kcal",
          "all/protein_kcal",
          "all/carbs_kcal",
          "all/fat_kcal",
          "all/protein_kcal",
          "all/carbs_kcal",
          "all/fat_kcal",
          "all/protein_kcal",
          "all/carbs_kcal",
          "all/fat_kcal",
          "all/protein_kcal",
          "all/carbs_kcal",
          "all/fat_kcal",
          "all/protein_kcal",
          "all/carbs_kcal",
          "all/fat_kcal",
          "all/protein_kcal",
          "all/carbs_kcal",
          "all/fat_kcal",
          "all/protein_kcal",
          "all/carbs_kcal",
          "all/fat_kcal",
          "all/protein_kcal",
          "all/carbs_kcal",
          "all/fat_kcal",
          "all/protein_kcal",
          "all/carbs_kcal",
          "all/fat_kcal",
          "all/protein_kcal",
          "all/carbs_kcal",
          "all/fat_kcal",
          "all/protein_kcal",
          "all/carbs_kcal",
          "all/fat_kcal",
          "all/protein_kcal",
          "all/carbs_kcal",
          "all/fat_kcal",
          "all/protein_kcal",
          "all/carbs_kcal",
          "all/fat_kcal",
          "all/protein_kcal",
          "all/carbs_kcal",
          "all/fat_kcal",
          "all/protein_kcal",
          "all/carbs_kcal",
          "all/fat_kcal",
          "all/protein_kcal",
          "all",
          "all",
          "all",
          ""
         ],
         "type": "treemap",
         "values": [
          88,
          0,
          4,
          104,
          18,
          24,
          128,
          9,
          32,
          208,
          45,
          36,
          4,
          63,
          32,
          216,
          72,
          72,
          0,
          189,
          392,
          140,
          9,
          172,
          0,
          108,
          96,
          80,
          0,
          4,
          192,
          18,
          48,
          108,
          45,
          8,
          104,
          27,
          20,
          20,
          126,
          32,
          0,
          162,
          336,
          140,
          9,
          172,
          0,
          108,
          96,
          120,
          9,
          8,
          36,
          36,
          8,
          128,
          9,
          32,
          108,
          45,
          8,
          208,
          54,
          40,
          8,
          45,
          48,
          12,
          90,
          20,
          0,
          162,
          336,
          60,
          54,
          4,
          0,
          54,
          48,
          36,
          36,
          8,
          216,
          90,
          16,
          0,
          225,
          476,
          120,
          108,
          8,
          176,
          0,
          8,
          112,
          108,
          28,
          4,
          81,
          44,
          36,
          36,
          8,
          128,
          9,
          32,
          108,
          45,
          8,
          8,
          45,
          48,
          0,
          162,
          360,
          60,
          54,
          4,
          280,
          18,
          344,
          0,
          270,
          240,
          80,
          0,
          4,
          264,
          0,
          12,
          104,
          18,
          24,
          112,
          108,
          28,
          120,
          9,
          8,
          4,
          81,
          44,
          108,
          108,
          24,
          576,
          45,
          144,
          540,
          225,
          40,
          520,
          126,
          96,
          16,
          90,
          96,
          32,
          216,
          52,
          4,
          63,
          32,
          216,
          72,
          72,
          0,
          900,
          1900,
          240,
          216,
          16,
          3216,
          2565,
          3176,
          8957
         ]
        }
       ],
       "layout": {
        "legend": {
         "tracegroupgap": 0
        },
        "margin": {
         "t": 60
        },
        "template": {
         "data": {
          "bar": [
           {
            "error_x": {
             "color": "#2a3f5f"
            },
            "error_y": {
             "color": "#2a3f5f"
            },
            "marker": {
             "line": {
              "color": "#E5ECF6",
              "width": 0.5
             },
             "pattern": {
              "fillmode": "overlay",
              "size": 10,
              "solidity": 0.2
             }
            },
            "type": "bar"
           }
          ],
          "barpolar": [
           {
            "marker": {
             "line": {
              "color": "#E5ECF6",
              "width": 0.5
             },
             "pattern": {
              "fillmode": "overlay",
              "size": 10,
              "solidity": 0.2
             }
            },
            "type": "barpolar"
           }
          ],
          "carpet": [
           {
            "aaxis": {
             "endlinecolor": "#2a3f5f",
             "gridcolor": "white",
             "linecolor": "white",
             "minorgridcolor": "white",
             "startlinecolor": "#2a3f5f"
            },
            "baxis": {
             "endlinecolor": "#2a3f5f",
             "gridcolor": "white",
             "linecolor": "white",
             "minorgridcolor": "white",
             "startlinecolor": "#2a3f5f"
            },
            "type": "carpet"
           }
          ],
          "choropleth": [
           {
            "colorbar": {
             "outlinewidth": 0,
             "ticks": ""
            },
            "type": "choropleth"
           }
          ],
          "contour": [
           {
            "colorbar": {
             "outlinewidth": 0,
             "ticks": ""
            },
            "colorscale": [
             [
              0,
              "#0d0887"
             ],
             [
              0.1111111111111111,
              "#46039f"
             ],
             [
              0.2222222222222222,
              "#7201a8"
             ],
             [
              0.3333333333333333,
              "#9c179e"
             ],
             [
              0.4444444444444444,
              "#bd3786"
             ],
             [
              0.5555555555555556,
              "#d8576b"
             ],
             [
              0.6666666666666666,
              "#ed7953"
             ],
             [
              0.7777777777777778,
              "#fb9f3a"
             ],
             [
              0.8888888888888888,
              "#fdca26"
             ],
             [
              1,
              "#f0f921"
             ]
            ],
            "type": "contour"
           }
          ],
          "contourcarpet": [
           {
            "colorbar": {
             "outlinewidth": 0,
             "ticks": ""
            },
            "type": "contourcarpet"
           }
          ],
          "heatmap": [
           {
            "colorbar": {
             "outlinewidth": 0,
             "ticks": ""
            },
            "colorscale": [
             [
              0,
              "#0d0887"
             ],
             [
              0.1111111111111111,
              "#46039f"
             ],
             [
              0.2222222222222222,
              "#7201a8"
             ],
             [
              0.3333333333333333,
              "#9c179e"
             ],
             [
              0.4444444444444444,
              "#bd3786"
             ],
             [
              0.5555555555555556,
              "#d8576b"
             ],
             [
              0.6666666666666666,
              "#ed7953"
             ],
             [
              0.7777777777777778,
              "#fb9f3a"
             ],
             [
              0.8888888888888888,
              "#fdca26"
             ],
             [
              1,
              "#f0f921"
             ]
            ],
            "type": "heatmap"
           }
          ],
          "heatmapgl": [
           {
            "colorbar": {
             "outlinewidth": 0,
             "ticks": ""
            },
            "colorscale": [
             [
              0,
              "#0d0887"
             ],
             [
              0.1111111111111111,
              "#46039f"
             ],
             [
              0.2222222222222222,
              "#7201a8"
             ],
             [
              0.3333333333333333,
              "#9c179e"
             ],
             [
              0.4444444444444444,
              "#bd3786"
             ],
             [
              0.5555555555555556,
              "#d8576b"
             ],
             [
              0.6666666666666666,
              "#ed7953"
             ],
             [
              0.7777777777777778,
              "#fb9f3a"
             ],
             [
              0.8888888888888888,
              "#fdca26"
             ],
             [
              1,
              "#f0f921"
             ]
            ],
            "type": "heatmapgl"
           }
          ],
          "histogram": [
           {
            "marker": {
             "pattern": {
              "fillmode": "overlay",
              "size": 10,
              "solidity": 0.2
             }
            },
            "type": "histogram"
           }
          ],
          "histogram2d": [
           {
            "colorbar": {
             "outlinewidth": 0,
             "ticks": ""
            },
            "colorscale": [
             [
              0,
              "#0d0887"
             ],
             [
              0.1111111111111111,
              "#46039f"
             ],
             [
              0.2222222222222222,
              "#7201a8"
             ],
             [
              0.3333333333333333,
              "#9c179e"
             ],
             [
              0.4444444444444444,
              "#bd3786"
             ],
             [
              0.5555555555555556,
              "#d8576b"
             ],
             [
              0.6666666666666666,
              "#ed7953"
             ],
             [
              0.7777777777777778,
              "#fb9f3a"
             ],
             [
              0.8888888888888888,
              "#fdca26"
             ],
             [
              1,
              "#f0f921"
             ]
            ],
            "type": "histogram2d"
           }
          ],
          "histogram2dcontour": [
           {
            "colorbar": {
             "outlinewidth": 0,
             "ticks": ""
            },
            "colorscale": [
             [
              0,
              "#0d0887"
             ],
             [
              0.1111111111111111,
              "#46039f"
             ],
             [
              0.2222222222222222,
              "#7201a8"
             ],
             [
              0.3333333333333333,
              "#9c179e"
             ],
             [
              0.4444444444444444,
              "#bd3786"
             ],
             [
              0.5555555555555556,
              "#d8576b"
             ],
             [
              0.6666666666666666,
              "#ed7953"
             ],
             [
              0.7777777777777778,
              "#fb9f3a"
             ],
             [
              0.8888888888888888,
              "#fdca26"
             ],
             [
              1,
              "#f0f921"
             ]
            ],
            "type": "histogram2dcontour"
           }
          ],
          "mesh3d": [
           {
            "colorbar": {
             "outlinewidth": 0,
             "ticks": ""
            },
            "type": "mesh3d"
           }
          ],
          "parcoords": [
           {
            "line": {
             "colorbar": {
              "outlinewidth": 0,
              "ticks": ""
             }
            },
            "type": "parcoords"
           }
          ],
          "pie": [
           {
            "automargin": true,
            "type": "pie"
           }
          ],
          "scatter": [
           {
            "marker": {
             "colorbar": {
              "outlinewidth": 0,
              "ticks": ""
             }
            },
            "type": "scatter"
           }
          ],
          "scatter3d": [
           {
            "line": {
             "colorbar": {
              "outlinewidth": 0,
              "ticks": ""
             }
            },
            "marker": {
             "colorbar": {
              "outlinewidth": 0,
              "ticks": ""
             }
            },
            "type": "scatter3d"
           }
          ],
          "scattercarpet": [
           {
            "marker": {
             "colorbar": {
              "outlinewidth": 0,
              "ticks": ""
             }
            },
            "type": "scattercarpet"
           }
          ],
          "scattergeo": [
           {
            "marker": {
             "colorbar": {
              "outlinewidth": 0,
              "ticks": ""
             }
            },
            "type": "scattergeo"
           }
          ],
          "scattergl": [
           {
            "marker": {
             "colorbar": {
              "outlinewidth": 0,
              "ticks": ""
             }
            },
            "type": "scattergl"
           }
          ],
          "scattermapbox": [
           {
            "marker": {
             "colorbar": {
              "outlinewidth": 0,
              "ticks": ""
             }
            },
            "type": "scattermapbox"
           }
          ],
          "scatterpolar": [
           {
            "marker": {
             "colorbar": {
              "outlinewidth": 0,
              "ticks": ""
             }
            },
            "type": "scatterpolar"
           }
          ],
          "scatterpolargl": [
           {
            "marker": {
             "colorbar": {
              "outlinewidth": 0,
              "ticks": ""
             }
            },
            "type": "scatterpolargl"
           }
          ],
          "scatterternary": [
           {
            "marker": {
             "colorbar": {
              "outlinewidth": 0,
              "ticks": ""
             }
            },
            "type": "scatterternary"
           }
          ],
          "surface": [
           {
            "colorbar": {
             "outlinewidth": 0,
             "ticks": ""
            },
            "colorscale": [
             [
              0,
              "#0d0887"
             ],
             [
              0.1111111111111111,
              "#46039f"
             ],
             [
              0.2222222222222222,
              "#7201a8"
             ],
             [
              0.3333333333333333,
              "#9c179e"
             ],
             [
              0.4444444444444444,
              "#bd3786"
             ],
             [
              0.5555555555555556,
              "#d8576b"
             ],
             [
              0.6666666666666666,
              "#ed7953"
             ],
             [
              0.7777777777777778,
              "#fb9f3a"
             ],
             [
              0.8888888888888888,
              "#fdca26"
             ],
             [
              1,
              "#f0f921"
             ]
            ],
            "type": "surface"
           }
          ],
          "table": [
           {
            "cells": {
             "fill": {
              "color": "#EBF0F8"
             },
             "line": {
              "color": "white"
             }
            },
            "header": {
             "fill": {
              "color": "#C8D4E3"
             },
             "line": {
              "color": "white"
             }
            },
            "type": "table"
           }
          ]
         },
         "layout": {
          "annotationdefaults": {
           "arrowcolor": "#2a3f5f",
           "arrowhead": 0,
           "arrowwidth": 1
          },
          "autotypenumbers": "strict",
          "coloraxis": {
           "colorbar": {
            "outlinewidth": 0,
            "ticks": ""
           }
          },
          "colorscale": {
           "diverging": [
            [
             0,
             "#8e0152"
            ],
            [
             0.1,
             "#c51b7d"
            ],
            [
             0.2,
             "#de77ae"
            ],
            [
             0.3,
             "#f1b6da"
            ],
            [
             0.4,
             "#fde0ef"
            ],
            [
             0.5,
             "#f7f7f7"
            ],
            [
             0.6,
             "#e6f5d0"
            ],
            [
             0.7,
             "#b8e186"
            ],
            [
             0.8,
             "#7fbc41"
            ],
            [
             0.9,
             "#4d9221"
            ],
            [
             1,
             "#276419"
            ]
           ],
           "sequential": [
            [
             0,
             "#0d0887"
            ],
            [
             0.1111111111111111,
             "#46039f"
            ],
            [
             0.2222222222222222,
             "#7201a8"
            ],
            [
             0.3333333333333333,
             "#9c179e"
            ],
            [
             0.4444444444444444,
             "#bd3786"
            ],
            [
             0.5555555555555556,
             "#d8576b"
            ],
            [
             0.6666666666666666,
             "#ed7953"
            ],
            [
             0.7777777777777778,
             "#fb9f3a"
            ],
            [
             0.8888888888888888,
             "#fdca26"
            ],
            [
             1,
             "#f0f921"
            ]
           ],
           "sequentialminus": [
            [
             0,
             "#0d0887"
            ],
            [
             0.1111111111111111,
             "#46039f"
            ],
            [
             0.2222222222222222,
             "#7201a8"
            ],
            [
             0.3333333333333333,
             "#9c179e"
            ],
            [
             0.4444444444444444,
             "#bd3786"
            ],
            [
             0.5555555555555556,
             "#d8576b"
            ],
            [
             0.6666666666666666,
             "#ed7953"
            ],
            [
             0.7777777777777778,
             "#fb9f3a"
            ],
            [
             0.8888888888888888,
             "#fdca26"
            ],
            [
             1,
             "#f0f921"
            ]
           ]
          },
          "colorway": [
           "#636efa",
           "#EF553B",
           "#00cc96",
           "#ab63fa",
           "#FFA15A",
           "#19d3f3",
           "#FF6692",
           "#B6E880",
           "#FF97FF",
           "#FECB52"
          ],
          "font": {
           "color": "#2a3f5f"
          },
          "geo": {
           "bgcolor": "white",
           "lakecolor": "white",
           "landcolor": "#E5ECF6",
           "showlakes": true,
           "showland": true,
           "subunitcolor": "white"
          },
          "hoverlabel": {
           "align": "left"
          },
          "hovermode": "closest",
          "mapbox": {
           "style": "light"
          },
          "paper_bgcolor": "white",
          "plot_bgcolor": "#E5ECF6",
          "polar": {
           "angularaxis": {
            "gridcolor": "white",
            "linecolor": "white",
            "ticks": ""
           },
           "bgcolor": "#E5ECF6",
           "radialaxis": {
            "gridcolor": "white",
            "linecolor": "white",
            "ticks": ""
           }
          },
          "scene": {
           "xaxis": {
            "backgroundcolor": "#E5ECF6",
            "gridcolor": "white",
            "gridwidth": 2,
            "linecolor": "white",
            "showbackground": true,
            "ticks": "",
            "zerolinecolor": "white"
           },
           "yaxis": {
            "backgroundcolor": "#E5ECF6",
            "gridcolor": "white",
            "gridwidth": 2,
            "linecolor": "white",
            "showbackground": true,
            "ticks": "",
            "zerolinecolor": "white"
           },
           "zaxis": {
            "backgroundcolor": "#E5ECF6",
            "gridcolor": "white",
            "gridwidth": 2,
            "linecolor": "white",
            "showbackground": true,
            "ticks": "",
            "zerolinecolor": "white"
           }
          },
          "shapedefaults": {
           "line": {
            "color": "#2a3f5f"
           }
          },
          "ternary": {
           "aaxis": {
            "gridcolor": "white",
            "linecolor": "white",
            "ticks": ""
           },
           "baxis": {
            "gridcolor": "white",
            "linecolor": "white",
            "ticks": ""
           },
           "bgcolor": "#E5ECF6",
           "caxis": {
            "gridcolor": "white",
            "linecolor": "white",
            "ticks": ""
           }
          },
          "title": {
           "x": 0.05
          },
          "xaxis": {
           "automargin": true,
           "gridcolor": "white",
           "linecolor": "white",
           "ticks": "",
           "title": {
            "standoff": 15
           },
           "zerolinecolor": "white",
           "zerolinewidth": 2
          },
          "yaxis": {
           "automargin": true,
           "gridcolor": "white",
           "linecolor": "white",
           "ticks": "",
           "title": {
            "standoff": 15
           },
           "zerolinecolor": "white",
           "zerolinewidth": 2
          }
         }
        }
       }
      },
      "text/html": [
       "<div>                            <div id=\"b5c03f3d-04f4-4d0d-8d5c-aa9d54bd760f\" class=\"plotly-graph-div\" style=\"height:525px; width:100%;\"></div>            <script type=\"text/javascript\">                require([\"plotly\"], function(Plotly) {                    window.PLOTLYENV=window.PLOTLYENV || {};                                    if (document.getElementById(\"b5c03f3d-04f4-4d0d-8d5c-aa9d54bd760f\")) {                    Plotly.newPlot(                        \"b5c03f3d-04f4-4d0d-8d5c-aa9d54bd760f\",                        [{\"branchvalues\":\"total\",\"customdata\":[[1],[1],[1],[1],[1],[1],[1],[1],[1],[1],[1],[1],[1],[1],[1],[1],[1],[1],[2],[2],[2],[1],[1],[1],[1],[1],[1],[1],[1],[1],[1],[1],[1],[1],[1],[1],[1],[1],[1],[1],[1],[1],[2],[2],[2],[1],[1],[1],[1],[1],[1],[1],[1],[1],[1],[1],[1],[1],[1],[1],[1],[1],[1],[2],[2],[2],[1],[1],[1],[1],[1],[1],[2],[2],[2],[1],[1],[1],[1],[1],[1],[1],[1],[1],[2],[2],[2],[3],[3],[3],[1],[1],[1],[2],[2],[2],[1],[1],[1],[1],[1],[1],[1],[1],[1],[1],[1],[1],[1],[1],[1],[1],[1],[1],[2],[2],[2],[1],[1],[1],[1],[1],[1],[1],[1],[1],[1],[1],[1],[\"(?)\"],[\"(?)\"],[\"(?)\"],[1],[1],[1],[1],[1],[1],[1],[1],[1],[1],[1],[1],[1],[1],[1],[1],[1],[1],[\"(?)\"],[\"(?)\"],[\"(?)\"],[\"(?)\"],[\"(?)\"],[\"(?)\"],[1],[1],[1],[1],[1],[1],[1],[1],[1],[1],[1],[1],[\"(?)\"],[\"(?)\"],[\"(?)\"],[1],[1],[1],[\"(?)\"],[\"(?)\"],[\"(?)\"],[\"(?)\"]],\"domain\":{\"x\":[0.0,1.0],\"y\":[0.0,1.0]},\"hovertemplate\":\"labels=%{label}<br>kcal=%{value}<br>parent=%{parent}<br>id=%{id}<br>meals=%{customdata[0]}<extra></extra>\",\"ids\":[\"all/carbs_kcal/Blueberries/2022-03-18\",\"all/fat_kcal/Blueberries/2022-03-18\",\"all/protein_kcal/Blueberries/2022-03-18\",\"all/carbs_kcal/Cereals - Oats instant fortified plain dry (instant oatmeal)/2022-03-18\",\"all/fat_kcal/Cereals - Oats instant fortified plain dry (instant oatmeal)/2022-03-18\",\"all/protein_kcal/Cereals - Oats instant fortified plain dry (instant oatmeal)/2022-03-18\",\"all/carbs_kcal/Hovis - 50/50 Bread/2022-03-18\",\"all/fat_kcal/Hovis - 50/50 Bread/2022-03-18\",\"all/protein_kcal/Hovis - 50/50 Bread/2022-03-18\",\"all/carbs_kcal/Ryvita - Thins - Sweet Chilli/2022-03-18\",\"all/fat_kcal/Ryvita - Thins - Sweet Chilli/2022-03-18\",\"all/protein_kcal/Ryvita - Thins - Sweet Chilli/2022-03-18\",\"all/carbs_kcal/The Cheese Emporium - Mature Lighter Cheese/2022-03-18\",\"all/fat_kcal/The Cheese Emporium - Mature Lighter Cheese/2022-03-18\",\"all/protein_kcal/The Cheese Emporium - Mature Lighter Cheese/2022-03-18\",\"all/carbs_kcal/asda - popcorn icecream/2022-03-18\",\"all/fat_kcal/asda - popcorn icecream/2022-03-18\",\"all/protein_kcal/asda - popcorn icecream/2022-03-18\",\"all/carbs_kcal/chicken thigh cooked/2022-03-18\",\"all/fat_kcal/chicken thigh cooked/2022-03-18\",\"all/protein_kcal/chicken thigh cooked/2022-03-18\",\"all/carbs_kcal/Arla Skyr - Strawberry/2022-03-19\",\"all/fat_kcal/Arla Skyr - Strawberry/2022-03-19\",\"all/protein_kcal/Arla Skyr - Strawberry/2022-03-19\",\"all/carbs_kcal/Babybel - Light/2022-03-19\",\"all/fat_kcal/Babybel - Light/2022-03-19\",\"all/protein_kcal/Babybel - Light/2022-03-19\",\"all/carbs_kcal/Banana - Bananas/2022-03-19\",\"all/fat_kcal/Banana - Bananas/2022-03-19\",\"all/protein_kcal/Banana - Bananas/2022-03-19\",\"all/carbs_kcal/Hovis - 50/50 Bread/2022-03-19\",\"all/fat_kcal/Hovis - 50/50 Bread/2022-03-19\",\"all/protein_kcal/Hovis - 50/50 Bread/2022-03-19\",\"all/carbs_kcal/Kellogs - Rice Krispies Square - Chocolate/2022-03-19\",\"all/fat_kcal/Kellogs - Rice Krispies Square - Chocolate/2022-03-19\",\"all/protein_kcal/Kellogs - Rice Krispies Square - Chocolate/2022-03-19\",\"all/carbs_kcal/Ryvita - Thins - Sweet Chilli/2022-03-19\",\"all/fat_kcal/Ryvita - Thins - Sweet Chilli/2022-03-19\",\"all/protein_kcal/Ryvita - Thins - Sweet Chilli/2022-03-19\",\"all/carbs_kcal/Sunpat - Smooth Peanut Butter 454grams/2022-03-19\",\"all/fat_kcal/Sunpat - Smooth Peanut Butter 454grams/2022-03-19\",\"all/protein_kcal/Sunpat - Smooth Peanut Butter 454grams/2022-03-19\",\"all/carbs_kcal/chicken thigh cooked/2022-03-19\",\"all/fat_kcal/chicken thigh cooked/2022-03-19\",\"all/protein_kcal/chicken thigh cooked/2022-03-19\",\"all/carbs_kcal/Arla Skyr - Strawberry/2022-03-20\",\"all/fat_kcal/Arla Skyr - Strawberry/2022-03-20\",\"all/protein_kcal/Arla Skyr - Strawberry/2022-03-20\",\"all/carbs_kcal/Babybel - Light/2022-03-20\",\"all/fat_kcal/Babybel - Light/2022-03-20\",\"all/protein_kcal/Babybel - Light/2022-03-20\",\"all/carbs_kcal/Costco - Kiwi/2022-03-20\",\"all/fat_kcal/Costco - Kiwi/2022-03-20\",\"all/protein_kcal/Costco - Kiwi/2022-03-20\",\"all/carbs_kcal/Fibre One - Peanut Butter Popcorn Bar/2022-03-20\",\"all/fat_kcal/Fibre One - Peanut Butter Popcorn Bar/2022-03-20\",\"all/protein_kcal/Fibre One - Peanut Butter Popcorn Bar/2022-03-20\",\"all/carbs_kcal/Hovis - 50/50 Bread/2022-03-20\",\"all/fat_kcal/Hovis - 50/50 Bread/2022-03-20\",\"all/protein_kcal/Hovis - 50/50 Bread/2022-03-20\",\"all/carbs_kcal/Kellogs - Rice Krispies Square - Chocolate/2022-03-20\",\"all/fat_kcal/Kellogs - Rice Krispies Square - Chocolate/2022-03-20\",\"all/protein_kcal/Kellogs - Rice Krispies Square - Chocolate/2022-03-20\",\"all/carbs_kcal/Ryvita - Thins - Sweet Chilli/2022-03-20\",\"all/fat_kcal/Ryvita - Thins - Sweet Chilli/2022-03-20\",\"all/protein_kcal/Ryvita - Thins - Sweet Chilli/2022-03-20\",\"all/carbs_kcal/String Cheese - 1 String Cheese/2022-03-20\",\"all/fat_kcal/String Cheese - 1 String Cheese/2022-03-20\",\"all/protein_kcal/String Cheese - 1 String Cheese/2022-03-20\",\"all/carbs_kcal/Sunpat - Smooth Peanut Butter 454grams/2022-03-20\",\"all/fat_kcal/Sunpat - Smooth Peanut Butter 454grams/2022-03-20\",\"all/protein_kcal/Sunpat - Smooth Peanut Butter 454grams/2022-03-20\",\"all/carbs_kcal/chicken thigh cooked/2022-03-20\",\"all/fat_kcal/chicken thigh cooked/2022-03-20\",\"all/protein_kcal/chicken thigh cooked/2022-03-20\",\"all/carbs_kcal/hula hoops - hula hoop crisps/2022-03-20\",\"all/fat_kcal/hula hoops - hula hoop crisps/2022-03-20\",\"all/protein_kcal/hula hoops - hula hoop crisps/2022-03-20\",\"all/carbs_kcal/Babybel - Light/2022-03-21\",\"all/fat_kcal/Babybel - Light/2022-03-21\",\"all/protein_kcal/Babybel - Light/2022-03-21\",\"all/carbs_kcal/Fibre One - Peanut Butter Popcorn Bar/2022-03-21\",\"all/fat_kcal/Fibre One - Peanut Butter Popcorn Bar/2022-03-21\",\"all/protein_kcal/Fibre One - Peanut Butter Popcorn Bar/2022-03-21\",\"all/carbs_kcal/Kellogs - Rice Krispies Square - Chocolate/2022-03-21\",\"all/fat_kcal/Kellogs - Rice Krispies Square - Chocolate/2022-03-21\",\"all/protein_kcal/Kellogs - Rice Krispies Square - Chocolate/2022-03-21\",\"all/carbs_kcal/chicken thigh cooked/2022-03-21\",\"all/fat_kcal/chicken thigh cooked/2022-03-21\",\"all/protein_kcal/chicken thigh cooked/2022-03-21\",\"all/carbs_kcal/hula hoops - hula hoop crisps/2022-03-21\",\"all/fat_kcal/hula hoops - hula hoop crisps/2022-03-21\",\"all/protein_kcal/hula hoops - hula hoop crisps/2022-03-21\",\"all/carbs_kcal/Blueberries/2022-03-22\",\"all/fat_kcal/Blueberries/2022-03-22\",\"all/protein_kcal/Blueberries/2022-03-22\",\"all/carbs_kcal/Cofresh - Balti Mix/2022-03-22\",\"all/fat_kcal/Cofresh - Balti Mix/2022-03-22\",\"all/protein_kcal/Cofresh - Balti Mix/2022-03-22\",\"all/carbs_kcal/Eggs - Whole raw/2022-03-22\",\"all/fat_kcal/Eggs - Whole raw/2022-03-22\",\"all/protein_kcal/Eggs - Whole raw/2022-03-22\",\"all/carbs_kcal/Fibre One - Peanut Butter Popcorn Bar/2022-03-22\",\"all/fat_kcal/Fibre One - Peanut Butter Popcorn Bar/2022-03-22\",\"all/protein_kcal/Fibre One - Peanut Butter Popcorn Bar/2022-03-22\",\"all/carbs_kcal/Hovis - 50/50 Bread/2022-03-22\",\"all/fat_kcal/Hovis - 50/50 Bread/2022-03-22\",\"all/protein_kcal/Hovis - 50/50 Bread/2022-03-22\",\"all/carbs_kcal/Kellogs - Rice Krispies Square - Chocolate/2022-03-22\",\"all/fat_kcal/Kellogs - Rice Krispies Square - Chocolate/2022-03-22\",\"all/protein_kcal/Kellogs - Rice Krispies Square - Chocolate/2022-03-22\",\"all/carbs_kcal/String Cheese - 1 String Cheese/2022-03-22\",\"all/fat_kcal/String Cheese - 1 String Cheese/2022-03-22\",\"all/protein_kcal/String Cheese - 1 String Cheese/2022-03-22\",\"all/carbs_kcal/chicken thigh cooked/2022-03-22\",\"all/fat_kcal/chicken thigh cooked/2022-03-22\",\"all/protein_kcal/chicken thigh cooked/2022-03-22\",\"all/carbs_kcal/hula hoops - hula hoop crisps/2022-03-22\",\"all/fat_kcal/hula hoops - hula hoop crisps/2022-03-22\",\"all/protein_kcal/hula hoops - hula hoop crisps/2022-03-22\",\"all/carbs_kcal/Arla Skyr - Strawberry\",\"all/fat_kcal/Arla Skyr - Strawberry\",\"all/protein_kcal/Arla Skyr - Strawberry\",\"all/carbs_kcal/Babybel - Light\",\"all/fat_kcal/Babybel - Light\",\"all/protein_kcal/Babybel - Light\",\"all/carbs_kcal/Banana - Bananas\",\"all/fat_kcal/Banana - Bananas\",\"all/protein_kcal/Banana - Bananas\",\"all/carbs_kcal/Blueberries\",\"all/fat_kcal/Blueberries\",\"all/protein_kcal/Blueberries\",\"all/carbs_kcal/Cereals - Oats instant fortified plain dry (instant oatmeal)\",\"all/fat_kcal/Cereals - Oats instant fortified plain dry (instant oatmeal)\",\"all/protein_kcal/Cereals - Oats instant fortified plain dry (instant oatmeal)\",\"all/carbs_kcal/Cofresh - Balti Mix\",\"all/fat_kcal/Cofresh - Balti Mix\",\"all/protein_kcal/Cofresh - Balti Mix\",\"all/carbs_kcal/Costco - Kiwi\",\"all/fat_kcal/Costco - Kiwi\",\"all/protein_kcal/Costco - Kiwi\",\"all/carbs_kcal/Eggs - Whole raw\",\"all/fat_kcal/Eggs - Whole raw\",\"all/protein_kcal/Eggs - Whole raw\",\"all/carbs_kcal/Fibre One - Peanut Butter Popcorn Bar\",\"all/fat_kcal/Fibre One - Peanut Butter Popcorn Bar\",\"all/protein_kcal/Fibre One - Peanut Butter Popcorn Bar\",\"all/carbs_kcal/Hovis - 50/50 Bread\",\"all/fat_kcal/Hovis - 50/50 Bread\",\"all/protein_kcal/Hovis - 50/50 Bread\",\"all/carbs_kcal/Kellogs - Rice Krispies Square - Chocolate\",\"all/fat_kcal/Kellogs - Rice Krispies Square - Chocolate\",\"all/protein_kcal/Kellogs - Rice Krispies Square - Chocolate\",\"all/carbs_kcal/Ryvita - Thins - Sweet Chilli\",\"all/fat_kcal/Ryvita - Thins - Sweet Chilli\",\"all/protein_kcal/Ryvita - Thins - Sweet Chilli\",\"all/carbs_kcal/String Cheese - 1 String Cheese\",\"all/fat_kcal/String Cheese - 1 String Cheese\",\"all/protein_kcal/String Cheese - 1 String Cheese\",\"all/carbs_kcal/Sunpat - Smooth Peanut Butter 454grams\",\"all/fat_kcal/Sunpat - Smooth Peanut Butter 454grams\",\"all/protein_kcal/Sunpat - Smooth Peanut Butter 454grams\",\"all/carbs_kcal/The Cheese Emporium - Mature Lighter Cheese\",\"all/fat_kcal/The Cheese Emporium - Mature Lighter Cheese\",\"all/protein_kcal/The Cheese Emporium - Mature Lighter Cheese\",\"all/carbs_kcal/asda - popcorn icecream\",\"all/fat_kcal/asda - popcorn icecream\",\"all/protein_kcal/asda - popcorn icecream\",\"all/carbs_kcal/chicken thigh cooked\",\"all/fat_kcal/chicken thigh cooked\",\"all/protein_kcal/chicken thigh cooked\",\"all/carbs_kcal/hula hoops - hula hoop crisps\",\"all/fat_kcal/hula hoops - hula hoop crisps\",\"all/protein_kcal/hula hoops - hula hoop crisps\",\"all/carbs_kcal\",\"all/fat_kcal\",\"all/protein_kcal\",\"all\"],\"labels\":[\"2022-03-18\",\"2022-03-18\",\"2022-03-18\",\"2022-03-18\",\"2022-03-18\",\"2022-03-18\",\"2022-03-18\",\"2022-03-18\",\"2022-03-18\",\"2022-03-18\",\"2022-03-18\",\"2022-03-18\",\"2022-03-18\",\"2022-03-18\",\"2022-03-18\",\"2022-03-18\",\"2022-03-18\",\"2022-03-18\",\"2022-03-18\",\"2022-03-18\",\"2022-03-18\",\"2022-03-19\",\"2022-03-19\",\"2022-03-19\",\"2022-03-19\",\"2022-03-19\",\"2022-03-19\",\"2022-03-19\",\"2022-03-19\",\"2022-03-19\",\"2022-03-19\",\"2022-03-19\",\"2022-03-19\",\"2022-03-19\",\"2022-03-19\",\"2022-03-19\",\"2022-03-19\",\"2022-03-19\",\"2022-03-19\",\"2022-03-19\",\"2022-03-19\",\"2022-03-19\",\"2022-03-19\",\"2022-03-19\",\"2022-03-19\",\"2022-03-20\",\"2022-03-20\",\"2022-03-20\",\"2022-03-20\",\"2022-03-20\",\"2022-03-20\",\"2022-03-20\",\"2022-03-20\",\"2022-03-20\",\"2022-03-20\",\"2022-03-20\",\"2022-03-20\",\"2022-03-20\",\"2022-03-20\",\"2022-03-20\",\"2022-03-20\",\"2022-03-20\",\"2022-03-20\",\"2022-03-20\",\"2022-03-20\",\"2022-03-20\",\"2022-03-20\",\"2022-03-20\",\"2022-03-20\",\"2022-03-20\",\"2022-03-20\",\"2022-03-20\",\"2022-03-20\",\"2022-03-20\",\"2022-03-20\",\"2022-03-20\",\"2022-03-20\",\"2022-03-20\",\"2022-03-21\",\"2022-03-21\",\"2022-03-21\",\"2022-03-21\",\"2022-03-21\",\"2022-03-21\",\"2022-03-21\",\"2022-03-21\",\"2022-03-21\",\"2022-03-21\",\"2022-03-21\",\"2022-03-21\",\"2022-03-21\",\"2022-03-21\",\"2022-03-21\",\"2022-03-22\",\"2022-03-22\",\"2022-03-22\",\"2022-03-22\",\"2022-03-22\",\"2022-03-22\",\"2022-03-22\",\"2022-03-22\",\"2022-03-22\",\"2022-03-22\",\"2022-03-22\",\"2022-03-22\",\"2022-03-22\",\"2022-03-22\",\"2022-03-22\",\"2022-03-22\",\"2022-03-22\",\"2022-03-22\",\"2022-03-22\",\"2022-03-22\",\"2022-03-22\",\"2022-03-22\",\"2022-03-22\",\"2022-03-22\",\"2022-03-22\",\"2022-03-22\",\"2022-03-22\",\"Arla Skyr - Strawberry\",\"Arla Skyr - Strawberry\",\"Arla Skyr - Strawberry\",\"Babybel - Light\",\"Babybel - Light\",\"Babybel - Light\",\"Banana - Bananas\",\"Banana - Bananas\",\"Banana - Bananas\",\"Blueberries\",\"Blueberries\",\"Blueberries\",\"Cereals - Oats instant fortified plain dry (instant oatmeal)\",\"Cereals - Oats instant fortified plain dry (instant oatmeal)\",\"Cereals - Oats instant fortified plain dry (instant oatmeal)\",\"Cofresh - Balti Mix\",\"Cofresh - Balti Mix\",\"Cofresh - Balti Mix\",\"Costco - Kiwi\",\"Costco - Kiwi\",\"Costco - Kiwi\",\"Eggs - Whole raw\",\"Eggs - Whole raw\",\"Eggs - Whole raw\",\"Fibre One - Peanut Butter Popcorn Bar\",\"Fibre One - Peanut Butter Popcorn Bar\",\"Fibre One - Peanut Butter Popcorn Bar\",\"Hovis - 50/50 Bread\",\"Hovis - 50/50 Bread\",\"Hovis - 50/50 Bread\",\"Kellogs - Rice Krispies Square - Chocolate\",\"Kellogs - Rice Krispies Square - Chocolate\",\"Kellogs - Rice Krispies Square - Chocolate\",\"Ryvita - Thins - Sweet Chilli\",\"Ryvita - Thins - Sweet Chilli\",\"Ryvita - Thins - Sweet Chilli\",\"String Cheese - 1 String Cheese\",\"String Cheese - 1 String Cheese\",\"String Cheese - 1 String Cheese\",\"Sunpat - Smooth Peanut Butter 454grams\",\"Sunpat - Smooth Peanut Butter 454grams\",\"Sunpat - Smooth Peanut Butter 454grams\",\"The Cheese Emporium - Mature Lighter Cheese\",\"The Cheese Emporium - Mature Lighter Cheese\",\"The Cheese Emporium - Mature Lighter Cheese\",\"asda - popcorn icecream\",\"asda - popcorn icecream\",\"asda - popcorn icecream\",\"chicken thigh cooked\",\"chicken thigh cooked\",\"chicken thigh cooked\",\"hula hoops - hula hoop crisps\",\"hula hoops - hula hoop crisps\",\"hula hoops - hula hoop crisps\",\"carbs_kcal\",\"fat_kcal\",\"protein_kcal\",\"all\"],\"name\":\"\",\"parents\":[\"all/carbs_kcal/Blueberries\",\"all/fat_kcal/Blueberries\",\"all/protein_kcal/Blueberries\",\"all/carbs_kcal/Cereals - Oats instant fortified plain dry (instant oatmeal)\",\"all/fat_kcal/Cereals - Oats instant fortified plain dry (instant oatmeal)\",\"all/protein_kcal/Cereals - Oats instant fortified plain dry (instant oatmeal)\",\"all/carbs_kcal/Hovis - 50/50 Bread\",\"all/fat_kcal/Hovis - 50/50 Bread\",\"all/protein_kcal/Hovis - 50/50 Bread\",\"all/carbs_kcal/Ryvita - Thins - Sweet Chilli\",\"all/fat_kcal/Ryvita - Thins - Sweet Chilli\",\"all/protein_kcal/Ryvita - Thins - Sweet Chilli\",\"all/carbs_kcal/The Cheese Emporium - Mature Lighter Cheese\",\"all/fat_kcal/The Cheese Emporium - Mature Lighter Cheese\",\"all/protein_kcal/The Cheese Emporium - Mature Lighter Cheese\",\"all/carbs_kcal/asda - popcorn icecream\",\"all/fat_kcal/asda - popcorn icecream\",\"all/protein_kcal/asda - popcorn icecream\",\"all/carbs_kcal/chicken thigh cooked\",\"all/fat_kcal/chicken thigh cooked\",\"all/protein_kcal/chicken thigh cooked\",\"all/carbs_kcal/Arla Skyr - Strawberry\",\"all/fat_kcal/Arla Skyr - Strawberry\",\"all/protein_kcal/Arla Skyr - Strawberry\",\"all/carbs_kcal/Babybel - Light\",\"all/fat_kcal/Babybel - Light\",\"all/protein_kcal/Babybel - Light\",\"all/carbs_kcal/Banana - Bananas\",\"all/fat_kcal/Banana - Bananas\",\"all/protein_kcal/Banana - Bananas\",\"all/carbs_kcal/Hovis - 50/50 Bread\",\"all/fat_kcal/Hovis - 50/50 Bread\",\"all/protein_kcal/Hovis - 50/50 Bread\",\"all/carbs_kcal/Kellogs - Rice Krispies Square - Chocolate\",\"all/fat_kcal/Kellogs - Rice Krispies Square - Chocolate\",\"all/protein_kcal/Kellogs - Rice Krispies Square - Chocolate\",\"all/carbs_kcal/Ryvita - Thins - Sweet Chilli\",\"all/fat_kcal/Ryvita - Thins - Sweet Chilli\",\"all/protein_kcal/Ryvita - Thins - Sweet Chilli\",\"all/carbs_kcal/Sunpat - Smooth Peanut Butter 454grams\",\"all/fat_kcal/Sunpat - Smooth Peanut Butter 454grams\",\"all/protein_kcal/Sunpat - Smooth Peanut Butter 454grams\",\"all/carbs_kcal/chicken thigh cooked\",\"all/fat_kcal/chicken thigh cooked\",\"all/protein_kcal/chicken thigh cooked\",\"all/carbs_kcal/Arla Skyr - Strawberry\",\"all/fat_kcal/Arla Skyr - Strawberry\",\"all/protein_kcal/Arla Skyr - Strawberry\",\"all/carbs_kcal/Babybel - Light\",\"all/fat_kcal/Babybel - Light\",\"all/protein_kcal/Babybel - Light\",\"all/carbs_kcal/Costco - Kiwi\",\"all/fat_kcal/Costco - Kiwi\",\"all/protein_kcal/Costco - Kiwi\",\"all/carbs_kcal/Fibre One - Peanut Butter Popcorn Bar\",\"all/fat_kcal/Fibre One - Peanut Butter Popcorn Bar\",\"all/protein_kcal/Fibre One - Peanut Butter Popcorn Bar\",\"all/carbs_kcal/Hovis - 50/50 Bread\",\"all/fat_kcal/Hovis - 50/50 Bread\",\"all/protein_kcal/Hovis - 50/50 Bread\",\"all/carbs_kcal/Kellogs - Rice Krispies Square - Chocolate\",\"all/fat_kcal/Kellogs - Rice Krispies Square - Chocolate\",\"all/protein_kcal/Kellogs - Rice Krispies Square - Chocolate\",\"all/carbs_kcal/Ryvita - Thins - Sweet Chilli\",\"all/fat_kcal/Ryvita - Thins - Sweet Chilli\",\"all/protein_kcal/Ryvita - Thins - Sweet Chilli\",\"all/carbs_kcal/String Cheese - 1 String Cheese\",\"all/fat_kcal/String Cheese - 1 String Cheese\",\"all/protein_kcal/String Cheese - 1 String Cheese\",\"all/carbs_kcal/Sunpat - Smooth Peanut Butter 454grams\",\"all/fat_kcal/Sunpat - Smooth Peanut Butter 454grams\",\"all/protein_kcal/Sunpat - Smooth Peanut Butter 454grams\",\"all/carbs_kcal/chicken thigh cooked\",\"all/fat_kcal/chicken thigh cooked\",\"all/protein_kcal/chicken thigh cooked\",\"all/carbs_kcal/hula hoops - hula hoop crisps\",\"all/fat_kcal/hula hoops - hula hoop crisps\",\"all/protein_kcal/hula hoops - hula hoop crisps\",\"all/carbs_kcal/Babybel - Light\",\"all/fat_kcal/Babybel - Light\",\"all/protein_kcal/Babybel - Light\",\"all/carbs_kcal/Fibre One - Peanut Butter Popcorn Bar\",\"all/fat_kcal/Fibre One - Peanut Butter Popcorn Bar\",\"all/protein_kcal/Fibre One - Peanut Butter Popcorn Bar\",\"all/carbs_kcal/Kellogs - Rice Krispies Square - Chocolate\",\"all/fat_kcal/Kellogs - Rice Krispies Square - Chocolate\",\"all/protein_kcal/Kellogs - Rice Krispies Square - Chocolate\",\"all/carbs_kcal/chicken thigh cooked\",\"all/fat_kcal/chicken thigh cooked\",\"all/protein_kcal/chicken thigh cooked\",\"all/carbs_kcal/hula hoops - hula hoop crisps\",\"all/fat_kcal/hula hoops - hula hoop crisps\",\"all/protein_kcal/hula hoops - hula hoop crisps\",\"all/carbs_kcal/Blueberries\",\"all/fat_kcal/Blueberries\",\"all/protein_kcal/Blueberries\",\"all/carbs_kcal/Cofresh - Balti Mix\",\"all/fat_kcal/Cofresh - Balti Mix\",\"all/protein_kcal/Cofresh - Balti Mix\",\"all/carbs_kcal/Eggs - Whole raw\",\"all/fat_kcal/Eggs - Whole raw\",\"all/protein_kcal/Eggs - Whole raw\",\"all/carbs_kcal/Fibre One - Peanut Butter Popcorn Bar\",\"all/fat_kcal/Fibre One - Peanut Butter Popcorn Bar\",\"all/protein_kcal/Fibre One - Peanut Butter Popcorn Bar\",\"all/carbs_kcal/Hovis - 50/50 Bread\",\"all/fat_kcal/Hovis - 50/50 Bread\",\"all/protein_kcal/Hovis - 50/50 Bread\",\"all/carbs_kcal/Kellogs - Rice Krispies Square - Chocolate\",\"all/fat_kcal/Kellogs - Rice Krispies Square - Chocolate\",\"all/protein_kcal/Kellogs - Rice Krispies Square - Chocolate\",\"all/carbs_kcal/String Cheese - 1 String Cheese\",\"all/fat_kcal/String Cheese - 1 String Cheese\",\"all/protein_kcal/String Cheese - 1 String Cheese\",\"all/carbs_kcal/chicken thigh cooked\",\"all/fat_kcal/chicken thigh cooked\",\"all/protein_kcal/chicken thigh cooked\",\"all/carbs_kcal/hula hoops - hula hoop crisps\",\"all/fat_kcal/hula hoops - hula hoop crisps\",\"all/protein_kcal/hula hoops - hula hoop crisps\",\"all/carbs_kcal\",\"all/fat_kcal\",\"all/protein_kcal\",\"all/carbs_kcal\",\"all/fat_kcal\",\"all/protein_kcal\",\"all/carbs_kcal\",\"all/fat_kcal\",\"all/protein_kcal\",\"all/carbs_kcal\",\"all/fat_kcal\",\"all/protein_kcal\",\"all/carbs_kcal\",\"all/fat_kcal\",\"all/protein_kcal\",\"all/carbs_kcal\",\"all/fat_kcal\",\"all/protein_kcal\",\"all/carbs_kcal\",\"all/fat_kcal\",\"all/protein_kcal\",\"all/carbs_kcal\",\"all/fat_kcal\",\"all/protein_kcal\",\"all/carbs_kcal\",\"all/fat_kcal\",\"all/protein_kcal\",\"all/carbs_kcal\",\"all/fat_kcal\",\"all/protein_kcal\",\"all/carbs_kcal\",\"all/fat_kcal\",\"all/protein_kcal\",\"all/carbs_kcal\",\"all/fat_kcal\",\"all/protein_kcal\",\"all/carbs_kcal\",\"all/fat_kcal\",\"all/protein_kcal\",\"all/carbs_kcal\",\"all/fat_kcal\",\"all/protein_kcal\",\"all/carbs_kcal\",\"all/fat_kcal\",\"all/protein_kcal\",\"all/carbs_kcal\",\"all/fat_kcal\",\"all/protein_kcal\",\"all/carbs_kcal\",\"all/fat_kcal\",\"all/protein_kcal\",\"all/carbs_kcal\",\"all/fat_kcal\",\"all/protein_kcal\",\"all\",\"all\",\"all\",\"\"],\"values\":[88,0,4,104,18,24,128,9,32,208,45,36,4,63,32,216,72,72,0,189,392,140,9,172,0,108,96,80,0,4,192,18,48,108,45,8,104,27,20,20,126,32,0,162,336,140,9,172,0,108,96,120,9,8,36,36,8,128,9,32,108,45,8,208,54,40,8,45,48,12,90,20,0,162,336,60,54,4,0,54,48,36,36,8,216,90,16,0,225,476,120,108,8,176,0,8,112,108,28,4,81,44,36,36,8,128,9,32,108,45,8,8,45,48,0,162,360,60,54,4,280,18,344,0,270,240,80,0,4,264,0,12,104,18,24,112,108,28,120,9,8,4,81,44,108,108,24,576,45,144,540,225,40,520,126,96,16,90,96,32,216,52,4,63,32,216,72,72,0,900,1900,240,216,16,3216,2565,3176,8957],\"type\":\"treemap\"}],                        {\"template\":{\"data\":{\"bar\":[{\"error_x\":{\"color\":\"#2a3f5f\"},\"error_y\":{\"color\":\"#2a3f5f\"},\"marker\":{\"line\":{\"color\":\"#E5ECF6\",\"width\":0.5},\"pattern\":{\"fillmode\":\"overlay\",\"size\":10,\"solidity\":0.2}},\"type\":\"bar\"}],\"barpolar\":[{\"marker\":{\"line\":{\"color\":\"#E5ECF6\",\"width\":0.5},\"pattern\":{\"fillmode\":\"overlay\",\"size\":10,\"solidity\":0.2}},\"type\":\"barpolar\"}],\"carpet\":[{\"aaxis\":{\"endlinecolor\":\"#2a3f5f\",\"gridcolor\":\"white\",\"linecolor\":\"white\",\"minorgridcolor\":\"white\",\"startlinecolor\":\"#2a3f5f\"},\"baxis\":{\"endlinecolor\":\"#2a3f5f\",\"gridcolor\":\"white\",\"linecolor\":\"white\",\"minorgridcolor\":\"white\",\"startlinecolor\":\"#2a3f5f\"},\"type\":\"carpet\"}],\"choropleth\":[{\"colorbar\":{\"outlinewidth\":0,\"ticks\":\"\"},\"type\":\"choropleth\"}],\"contour\":[{\"colorbar\":{\"outlinewidth\":0,\"ticks\":\"\"},\"colorscale\":[[0.0,\"#0d0887\"],[0.1111111111111111,\"#46039f\"],[0.2222222222222222,\"#7201a8\"],[0.3333333333333333,\"#9c179e\"],[0.4444444444444444,\"#bd3786\"],[0.5555555555555556,\"#d8576b\"],[0.6666666666666666,\"#ed7953\"],[0.7777777777777778,\"#fb9f3a\"],[0.8888888888888888,\"#fdca26\"],[1.0,\"#f0f921\"]],\"type\":\"contour\"}],\"contourcarpet\":[{\"colorbar\":{\"outlinewidth\":0,\"ticks\":\"\"},\"type\":\"contourcarpet\"}],\"heatmap\":[{\"colorbar\":{\"outlinewidth\":0,\"ticks\":\"\"},\"colorscale\":[[0.0,\"#0d0887\"],[0.1111111111111111,\"#46039f\"],[0.2222222222222222,\"#7201a8\"],[0.3333333333333333,\"#9c179e\"],[0.4444444444444444,\"#bd3786\"],[0.5555555555555556,\"#d8576b\"],[0.6666666666666666,\"#ed7953\"],[0.7777777777777778,\"#fb9f3a\"],[0.8888888888888888,\"#fdca26\"],[1.0,\"#f0f921\"]],\"type\":\"heatmap\"}],\"heatmapgl\":[{\"colorbar\":{\"outlinewidth\":0,\"ticks\":\"\"},\"colorscale\":[[0.0,\"#0d0887\"],[0.1111111111111111,\"#46039f\"],[0.2222222222222222,\"#7201a8\"],[0.3333333333333333,\"#9c179e\"],[0.4444444444444444,\"#bd3786\"],[0.5555555555555556,\"#d8576b\"],[0.6666666666666666,\"#ed7953\"],[0.7777777777777778,\"#fb9f3a\"],[0.8888888888888888,\"#fdca26\"],[1.0,\"#f0f921\"]],\"type\":\"heatmapgl\"}],\"histogram\":[{\"marker\":{\"pattern\":{\"fillmode\":\"overlay\",\"size\":10,\"solidity\":0.2}},\"type\":\"histogram\"}],\"histogram2d\":[{\"colorbar\":{\"outlinewidth\":0,\"ticks\":\"\"},\"colorscale\":[[0.0,\"#0d0887\"],[0.1111111111111111,\"#46039f\"],[0.2222222222222222,\"#7201a8\"],[0.3333333333333333,\"#9c179e\"],[0.4444444444444444,\"#bd3786\"],[0.5555555555555556,\"#d8576b\"],[0.6666666666666666,\"#ed7953\"],[0.7777777777777778,\"#fb9f3a\"],[0.8888888888888888,\"#fdca26\"],[1.0,\"#f0f921\"]],\"type\":\"histogram2d\"}],\"histogram2dcontour\":[{\"colorbar\":{\"outlinewidth\":0,\"ticks\":\"\"},\"colorscale\":[[0.0,\"#0d0887\"],[0.1111111111111111,\"#46039f\"],[0.2222222222222222,\"#7201a8\"],[0.3333333333333333,\"#9c179e\"],[0.4444444444444444,\"#bd3786\"],[0.5555555555555556,\"#d8576b\"],[0.6666666666666666,\"#ed7953\"],[0.7777777777777778,\"#fb9f3a\"],[0.8888888888888888,\"#fdca26\"],[1.0,\"#f0f921\"]],\"type\":\"histogram2dcontour\"}],\"mesh3d\":[{\"colorbar\":{\"outlinewidth\":0,\"ticks\":\"\"},\"type\":\"mesh3d\"}],\"parcoords\":[{\"line\":{\"colorbar\":{\"outlinewidth\":0,\"ticks\":\"\"}},\"type\":\"parcoords\"}],\"pie\":[{\"automargin\":true,\"type\":\"pie\"}],\"scatter\":[{\"marker\":{\"colorbar\":{\"outlinewidth\":0,\"ticks\":\"\"}},\"type\":\"scatter\"}],\"scatter3d\":[{\"line\":{\"colorbar\":{\"outlinewidth\":0,\"ticks\":\"\"}},\"marker\":{\"colorbar\":{\"outlinewidth\":0,\"ticks\":\"\"}},\"type\":\"scatter3d\"}],\"scattercarpet\":[{\"marker\":{\"colorbar\":{\"outlinewidth\":0,\"ticks\":\"\"}},\"type\":\"scattercarpet\"}],\"scattergeo\":[{\"marker\":{\"colorbar\":{\"outlinewidth\":0,\"ticks\":\"\"}},\"type\":\"scattergeo\"}],\"scattergl\":[{\"marker\":{\"colorbar\":{\"outlinewidth\":0,\"ticks\":\"\"}},\"type\":\"scattergl\"}],\"scattermapbox\":[{\"marker\":{\"colorbar\":{\"outlinewidth\":0,\"ticks\":\"\"}},\"type\":\"scattermapbox\"}],\"scatterpolar\":[{\"marker\":{\"colorbar\":{\"outlinewidth\":0,\"ticks\":\"\"}},\"type\":\"scatterpolar\"}],\"scatterpolargl\":[{\"marker\":{\"colorbar\":{\"outlinewidth\":0,\"ticks\":\"\"}},\"type\":\"scatterpolargl\"}],\"scatterternary\":[{\"marker\":{\"colorbar\":{\"outlinewidth\":0,\"ticks\":\"\"}},\"type\":\"scatterternary\"}],\"surface\":[{\"colorbar\":{\"outlinewidth\":0,\"ticks\":\"\"},\"colorscale\":[[0.0,\"#0d0887\"],[0.1111111111111111,\"#46039f\"],[0.2222222222222222,\"#7201a8\"],[0.3333333333333333,\"#9c179e\"],[0.4444444444444444,\"#bd3786\"],[0.5555555555555556,\"#d8576b\"],[0.6666666666666666,\"#ed7953\"],[0.7777777777777778,\"#fb9f3a\"],[0.8888888888888888,\"#fdca26\"],[1.0,\"#f0f921\"]],\"type\":\"surface\"}],\"table\":[{\"cells\":{\"fill\":{\"color\":\"#EBF0F8\"},\"line\":{\"color\":\"white\"}},\"header\":{\"fill\":{\"color\":\"#C8D4E3\"},\"line\":{\"color\":\"white\"}},\"type\":\"table\"}]},\"layout\":{\"annotationdefaults\":{\"arrowcolor\":\"#2a3f5f\",\"arrowhead\":0,\"arrowwidth\":1},\"autotypenumbers\":\"strict\",\"coloraxis\":{\"colorbar\":{\"outlinewidth\":0,\"ticks\":\"\"}},\"colorscale\":{\"diverging\":[[0,\"#8e0152\"],[0.1,\"#c51b7d\"],[0.2,\"#de77ae\"],[0.3,\"#f1b6da\"],[0.4,\"#fde0ef\"],[0.5,\"#f7f7f7\"],[0.6,\"#e6f5d0\"],[0.7,\"#b8e186\"],[0.8,\"#7fbc41\"],[0.9,\"#4d9221\"],[1,\"#276419\"]],\"sequential\":[[0.0,\"#0d0887\"],[0.1111111111111111,\"#46039f\"],[0.2222222222222222,\"#7201a8\"],[0.3333333333333333,\"#9c179e\"],[0.4444444444444444,\"#bd3786\"],[0.5555555555555556,\"#d8576b\"],[0.6666666666666666,\"#ed7953\"],[0.7777777777777778,\"#fb9f3a\"],[0.8888888888888888,\"#fdca26\"],[1.0,\"#f0f921\"]],\"sequentialminus\":[[0.0,\"#0d0887\"],[0.1111111111111111,\"#46039f\"],[0.2222222222222222,\"#7201a8\"],[0.3333333333333333,\"#9c179e\"],[0.4444444444444444,\"#bd3786\"],[0.5555555555555556,\"#d8576b\"],[0.6666666666666666,\"#ed7953\"],[0.7777777777777778,\"#fb9f3a\"],[0.8888888888888888,\"#fdca26\"],[1.0,\"#f0f921\"]]},\"colorway\":[\"#636efa\",\"#EF553B\",\"#00cc96\",\"#ab63fa\",\"#FFA15A\",\"#19d3f3\",\"#FF6692\",\"#B6E880\",\"#FF97FF\",\"#FECB52\"],\"font\":{\"color\":\"#2a3f5f\"},\"geo\":{\"bgcolor\":\"white\",\"lakecolor\":\"white\",\"landcolor\":\"#E5ECF6\",\"showlakes\":true,\"showland\":true,\"subunitcolor\":\"white\"},\"hoverlabel\":{\"align\":\"left\"},\"hovermode\":\"closest\",\"mapbox\":{\"style\":\"light\"},\"paper_bgcolor\":\"white\",\"plot_bgcolor\":\"#E5ECF6\",\"polar\":{\"angularaxis\":{\"gridcolor\":\"white\",\"linecolor\":\"white\",\"ticks\":\"\"},\"bgcolor\":\"#E5ECF6\",\"radialaxis\":{\"gridcolor\":\"white\",\"linecolor\":\"white\",\"ticks\":\"\"}},\"scene\":{\"xaxis\":{\"backgroundcolor\":\"#E5ECF6\",\"gridcolor\":\"white\",\"gridwidth\":2,\"linecolor\":\"white\",\"showbackground\":true,\"ticks\":\"\",\"zerolinecolor\":\"white\"},\"yaxis\":{\"backgroundcolor\":\"#E5ECF6\",\"gridcolor\":\"white\",\"gridwidth\":2,\"linecolor\":\"white\",\"showbackground\":true,\"ticks\":\"\",\"zerolinecolor\":\"white\"},\"zaxis\":{\"backgroundcolor\":\"#E5ECF6\",\"gridcolor\":\"white\",\"gridwidth\":2,\"linecolor\":\"white\",\"showbackground\":true,\"ticks\":\"\",\"zerolinecolor\":\"white\"}},\"shapedefaults\":{\"line\":{\"color\":\"#2a3f5f\"}},\"ternary\":{\"aaxis\":{\"gridcolor\":\"white\",\"linecolor\":\"white\",\"ticks\":\"\"},\"baxis\":{\"gridcolor\":\"white\",\"linecolor\":\"white\",\"ticks\":\"\"},\"bgcolor\":\"#E5ECF6\",\"caxis\":{\"gridcolor\":\"white\",\"linecolor\":\"white\",\"ticks\":\"\"}},\"title\":{\"x\":0.05},\"xaxis\":{\"automargin\":true,\"gridcolor\":\"white\",\"linecolor\":\"white\",\"ticks\":\"\",\"title\":{\"standoff\":15},\"zerolinecolor\":\"white\",\"zerolinewidth\":2},\"yaxis\":{\"automargin\":true,\"gridcolor\":\"white\",\"linecolor\":\"white\",\"ticks\":\"\",\"title\":{\"standoff\":15},\"zerolinecolor\":\"white\",\"zerolinewidth\":2}}},\"legend\":{\"tracegroupgap\":0},\"margin\":{\"t\":60}},                        {\"responsive\": true}                    ).then(function(){\n",
       "                            \n",
       "var gd = document.getElementById('b5c03f3d-04f4-4d0d-8d5c-aa9d54bd760f');\n",
       "var x = new MutationObserver(function (mutations, observer) {{\n",
       "        var display = window.getComputedStyle(gd).display;\n",
       "        if (!display || display === 'none') {{\n",
       "            console.log([gd, 'removed!']);\n",
       "            Plotly.purge(gd);\n",
       "            observer.disconnect();\n",
       "        }}\n",
       "}});\n",
       "\n",
       "// Listen for the removal of the full notebook cells\n",
       "var notebookContainer = gd.closest('#notebook-container');\n",
       "if (notebookContainer) {{\n",
       "    x.observe(notebookContainer, {childList: true});\n",
       "}}\n",
       "\n",
       "// Listen for the clearing of the current output cell\n",
       "var outputEl = gd.closest('.output');\n",
       "if (outputEl) {{\n",
       "    x.observe(outputEl, {childList: true});\n",
       "}}\n",
       "\n",
       "                        })                };                });            </script>        </div>"
      ]
     },
     "metadata": {},
     "output_type": "display_data"
    }
   ],
   "source": [
    "\n",
    "fig = px.treemap(melted_df, path=[px.Constant(\"all\"),\n",
    "'variable','food', 'date'], values='kcal', hover_data=['meals'])\n",
    "\n",
    "fig.show()"
   ]
  },
  {
   "cell_type": "code",
   "execution_count": 40,
   "metadata": {},
   "outputs": [],
   "source": [
    "diary_df['date'] = pd.to_datetime(diary_df['date'])"
   ]
  },
  {
   "cell_type": "code",
   "execution_count": 73,
   "metadata": {},
   "outputs": [],
   "source": [
    "macro_kcals = {'carbs':4, 'fat':9, 'protein':4}\n",
    "macro_colours = {'carbs':\"darkturquoise\", 'fat':\"tomato\", 'protein':\"mediumorchid\"}\n",
    "#add kcal column for macros\n",
    "for key,val in macro_kcals.items():\n",
    "    diary_df[key+'_kcal'] = diary_df[key+\"_g\"] * val\n",
    "    diary_df[\"goal_\" + key+'_kcal'] = diary_df[\"goal_\" +key+\"_g\"] * val"
   ]
  },
  {
   "cell_type": "code",
   "execution_count": 74,
   "metadata": {},
   "outputs": [],
   "source": [
    "sum_cols = {col:'sum' for col in ['calories_kcal', 'carbs_g', 'fat_g', 'protein_g','carbs_kcal', 'fat_kcal', 'protein_kcal']}"
   ]
  },
  {
   "cell_type": "code",
   "execution_count": 75,
   "metadata": {},
   "outputs": [],
   "source": [
    "mean_cols = {col:'mean' for col in [ 'goal_calories_kcal', 'goal_carbs_g', 'goal_fat_g',\n",
    "       'goal_protein_g', 'goal_carbs_kcal', 'goal_fat_kcal',\n",
    "       'goal_protein_kcal']}"
   ]
  },
  {
   "cell_type": "code",
   "execution_count": 76,
   "metadata": {},
   "outputs": [],
   "source": [
    "agg_dict = {**sum_cols, **mean_cols}"
   ]
  },
  {
   "cell_type": "code",
   "execution_count": 77,
   "metadata": {},
   "outputs": [],
   "source": [
    "daily_data = diary_df.groupby('date').agg(agg_dict)"
   ]
  },
  {
   "cell_type": "code",
   "execution_count": 78,
   "metadata": {},
   "outputs": [],
   "source": [
    "kcal_macro_cols = [col for col in daily_data.columns if 'kcal' in col and 'calories' not in col]\n",
    "gram_macro_cols = [col for col in daily_data.columns if '_g' in col and 'calories' not in col]\n",
    "calorie_cols = [col for col in daily_data.columns if 'calories' in col]"
   ]
  },
  {
   "cell_type": "code",
   "execution_count": 109,
   "metadata": {},
   "outputs": [
    {
     "data": {
      "application/vnd.plotly.v1+json": {
       "config": {
        "plotlyServerURL": "https://plot.ly"
       },
       "data": [
        {
         "customdata": [
          187,
          161,
          205,
          93,
          158
         ],
         "hovertemplate": "%{customdata}",
         "legendgroup": "carbs",
         "marker": {
          "color": "darkturquoise"
         },
         "name": "carbs",
         "type": "bar",
         "x": [
          "2022-03-18T00:00:00",
          "2022-03-19T00:00:00",
          "2022-03-20T00:00:00",
          "2022-03-21T00:00:00",
          "2022-03-22T00:00:00"
         ],
         "y": [
          187,
          161,
          205,
          93,
          158
         ]
        },
        {
         "customdata": [
          44,
          55,
          69,
          57,
          60
         ],
         "hovertemplate": "%{customdata}",
         "legendgroup": "fat",
         "marker": {
          "color": "tomato"
         },
         "name": "fat",
         "type": "bar",
         "x": [
          "2022-03-18T00:00:00",
          "2022-03-19T00:00:00",
          "2022-03-20T00:00:00",
          "2022-03-21T00:00:00",
          "2022-03-22T00:00:00"
         ],
         "y": [
          44,
          55,
          69,
          57,
          60
         ]
        },
        {
         "customdata": [
          148,
          179,
          193,
          139,
          135
         ],
         "hovertemplate": "%{customdata}",
         "legendgroup": "protein",
         "marker": {
          "color": "mediumorchid"
         },
         "name": "protein",
         "type": "bar",
         "x": [
          "2022-03-18T00:00:00",
          "2022-03-19T00:00:00",
          "2022-03-20T00:00:00",
          "2022-03-21T00:00:00",
          "2022-03-22T00:00:00"
         ],
         "y": [
          148,
          179,
          193,
          139,
          135
         ]
        },
        {
         "legendgroup": "carbs",
         "line": {
          "color": "darkturquoise",
          "dash": "dash"
         },
         "mode": "lines",
         "name": "goal",
         "type": "scatter",
         "x": [
          "2022-03-18T00:00:00",
          "2022-03-19T00:00:00",
          "2022-03-20T00:00:00",
          "2022-03-21T00:00:00",
          "2022-03-22T00:00:00"
         ],
         "y": [
          180,
          180,
          180,
          180,
          180
         ]
        },
        {
         "legendgroup": "fat",
         "line": {
          "color": "tomato",
          "dash": "dash"
         },
         "mode": "lines",
         "name": "goal",
         "type": "scatter",
         "x": [
          "2022-03-18T00:00:00",
          "2022-03-19T00:00:00",
          "2022-03-20T00:00:00",
          "2022-03-21T00:00:00",
          "2022-03-22T00:00:00"
         ],
         "y": [
          50,
          50,
          50,
          50,
          50
         ]
        },
        {
         "legendgroup": "protein",
         "line": {
          "color": "mediumorchid",
          "dash": "dash"
         },
         "mode": "lines",
         "name": "goal",
         "type": "scatter",
         "x": [
          "2022-03-18T00:00:00",
          "2022-03-19T00:00:00",
          "2022-03-20T00:00:00",
          "2022-03-21T00:00:00",
          "2022-03-22T00:00:00"
         ],
         "y": [
          158,
          158,
          158,
          158,
          158
         ]
        }
       ],
       "layout": {
        "template": {
         "data": {
          "bar": [
           {
            "error_x": {
             "color": "#2a3f5f"
            },
            "error_y": {
             "color": "#2a3f5f"
            },
            "marker": {
             "line": {
              "color": "#E5ECF6",
              "width": 0.5
             },
             "pattern": {
              "fillmode": "overlay",
              "size": 10,
              "solidity": 0.2
             }
            },
            "type": "bar"
           }
          ],
          "barpolar": [
           {
            "marker": {
             "line": {
              "color": "#E5ECF6",
              "width": 0.5
             },
             "pattern": {
              "fillmode": "overlay",
              "size": 10,
              "solidity": 0.2
             }
            },
            "type": "barpolar"
           }
          ],
          "carpet": [
           {
            "aaxis": {
             "endlinecolor": "#2a3f5f",
             "gridcolor": "white",
             "linecolor": "white",
             "minorgridcolor": "white",
             "startlinecolor": "#2a3f5f"
            },
            "baxis": {
             "endlinecolor": "#2a3f5f",
             "gridcolor": "white",
             "linecolor": "white",
             "minorgridcolor": "white",
             "startlinecolor": "#2a3f5f"
            },
            "type": "carpet"
           }
          ],
          "choropleth": [
           {
            "colorbar": {
             "outlinewidth": 0,
             "ticks": ""
            },
            "type": "choropleth"
           }
          ],
          "contour": [
           {
            "colorbar": {
             "outlinewidth": 0,
             "ticks": ""
            },
            "colorscale": [
             [
              0,
              "#0d0887"
             ],
             [
              0.1111111111111111,
              "#46039f"
             ],
             [
              0.2222222222222222,
              "#7201a8"
             ],
             [
              0.3333333333333333,
              "#9c179e"
             ],
             [
              0.4444444444444444,
              "#bd3786"
             ],
             [
              0.5555555555555556,
              "#d8576b"
             ],
             [
              0.6666666666666666,
              "#ed7953"
             ],
             [
              0.7777777777777778,
              "#fb9f3a"
             ],
             [
              0.8888888888888888,
              "#fdca26"
             ],
             [
              1,
              "#f0f921"
             ]
            ],
            "type": "contour"
           }
          ],
          "contourcarpet": [
           {
            "colorbar": {
             "outlinewidth": 0,
             "ticks": ""
            },
            "type": "contourcarpet"
           }
          ],
          "heatmap": [
           {
            "colorbar": {
             "outlinewidth": 0,
             "ticks": ""
            },
            "colorscale": [
             [
              0,
              "#0d0887"
             ],
             [
              0.1111111111111111,
              "#46039f"
             ],
             [
              0.2222222222222222,
              "#7201a8"
             ],
             [
              0.3333333333333333,
              "#9c179e"
             ],
             [
              0.4444444444444444,
              "#bd3786"
             ],
             [
              0.5555555555555556,
              "#d8576b"
             ],
             [
              0.6666666666666666,
              "#ed7953"
             ],
             [
              0.7777777777777778,
              "#fb9f3a"
             ],
             [
              0.8888888888888888,
              "#fdca26"
             ],
             [
              1,
              "#f0f921"
             ]
            ],
            "type": "heatmap"
           }
          ],
          "heatmapgl": [
           {
            "colorbar": {
             "outlinewidth": 0,
             "ticks": ""
            },
            "colorscale": [
             [
              0,
              "#0d0887"
             ],
             [
              0.1111111111111111,
              "#46039f"
             ],
             [
              0.2222222222222222,
              "#7201a8"
             ],
             [
              0.3333333333333333,
              "#9c179e"
             ],
             [
              0.4444444444444444,
              "#bd3786"
             ],
             [
              0.5555555555555556,
              "#d8576b"
             ],
             [
              0.6666666666666666,
              "#ed7953"
             ],
             [
              0.7777777777777778,
              "#fb9f3a"
             ],
             [
              0.8888888888888888,
              "#fdca26"
             ],
             [
              1,
              "#f0f921"
             ]
            ],
            "type": "heatmapgl"
           }
          ],
          "histogram": [
           {
            "marker": {
             "pattern": {
              "fillmode": "overlay",
              "size": 10,
              "solidity": 0.2
             }
            },
            "type": "histogram"
           }
          ],
          "histogram2d": [
           {
            "colorbar": {
             "outlinewidth": 0,
             "ticks": ""
            },
            "colorscale": [
             [
              0,
              "#0d0887"
             ],
             [
              0.1111111111111111,
              "#46039f"
             ],
             [
              0.2222222222222222,
              "#7201a8"
             ],
             [
              0.3333333333333333,
              "#9c179e"
             ],
             [
              0.4444444444444444,
              "#bd3786"
             ],
             [
              0.5555555555555556,
              "#d8576b"
             ],
             [
              0.6666666666666666,
              "#ed7953"
             ],
             [
              0.7777777777777778,
              "#fb9f3a"
             ],
             [
              0.8888888888888888,
              "#fdca26"
             ],
             [
              1,
              "#f0f921"
             ]
            ],
            "type": "histogram2d"
           }
          ],
          "histogram2dcontour": [
           {
            "colorbar": {
             "outlinewidth": 0,
             "ticks": ""
            },
            "colorscale": [
             [
              0,
              "#0d0887"
             ],
             [
              0.1111111111111111,
              "#46039f"
             ],
             [
              0.2222222222222222,
              "#7201a8"
             ],
             [
              0.3333333333333333,
              "#9c179e"
             ],
             [
              0.4444444444444444,
              "#bd3786"
             ],
             [
              0.5555555555555556,
              "#d8576b"
             ],
             [
              0.6666666666666666,
              "#ed7953"
             ],
             [
              0.7777777777777778,
              "#fb9f3a"
             ],
             [
              0.8888888888888888,
              "#fdca26"
             ],
             [
              1,
              "#f0f921"
             ]
            ],
            "type": "histogram2dcontour"
           }
          ],
          "mesh3d": [
           {
            "colorbar": {
             "outlinewidth": 0,
             "ticks": ""
            },
            "type": "mesh3d"
           }
          ],
          "parcoords": [
           {
            "line": {
             "colorbar": {
              "outlinewidth": 0,
              "ticks": ""
             }
            },
            "type": "parcoords"
           }
          ],
          "pie": [
           {
            "automargin": true,
            "type": "pie"
           }
          ],
          "scatter": [
           {
            "marker": {
             "colorbar": {
              "outlinewidth": 0,
              "ticks": ""
             }
            },
            "type": "scatter"
           }
          ],
          "scatter3d": [
           {
            "line": {
             "colorbar": {
              "outlinewidth": 0,
              "ticks": ""
             }
            },
            "marker": {
             "colorbar": {
              "outlinewidth": 0,
              "ticks": ""
             }
            },
            "type": "scatter3d"
           }
          ],
          "scattercarpet": [
           {
            "marker": {
             "colorbar": {
              "outlinewidth": 0,
              "ticks": ""
             }
            },
            "type": "scattercarpet"
           }
          ],
          "scattergeo": [
           {
            "marker": {
             "colorbar": {
              "outlinewidth": 0,
              "ticks": ""
             }
            },
            "type": "scattergeo"
           }
          ],
          "scattergl": [
           {
            "marker": {
             "colorbar": {
              "outlinewidth": 0,
              "ticks": ""
             }
            },
            "type": "scattergl"
           }
          ],
          "scattermapbox": [
           {
            "marker": {
             "colorbar": {
              "outlinewidth": 0,
              "ticks": ""
             }
            },
            "type": "scattermapbox"
           }
          ],
          "scatterpolar": [
           {
            "marker": {
             "colorbar": {
              "outlinewidth": 0,
              "ticks": ""
             }
            },
            "type": "scatterpolar"
           }
          ],
          "scatterpolargl": [
           {
            "marker": {
             "colorbar": {
              "outlinewidth": 0,
              "ticks": ""
             }
            },
            "type": "scatterpolargl"
           }
          ],
          "scatterternary": [
           {
            "marker": {
             "colorbar": {
              "outlinewidth": 0,
              "ticks": ""
             }
            },
            "type": "scatterternary"
           }
          ],
          "surface": [
           {
            "colorbar": {
             "outlinewidth": 0,
             "ticks": ""
            },
            "colorscale": [
             [
              0,
              "#0d0887"
             ],
             [
              0.1111111111111111,
              "#46039f"
             ],
             [
              0.2222222222222222,
              "#7201a8"
             ],
             [
              0.3333333333333333,
              "#9c179e"
             ],
             [
              0.4444444444444444,
              "#bd3786"
             ],
             [
              0.5555555555555556,
              "#d8576b"
             ],
             [
              0.6666666666666666,
              "#ed7953"
             ],
             [
              0.7777777777777778,
              "#fb9f3a"
             ],
             [
              0.8888888888888888,
              "#fdca26"
             ],
             [
              1,
              "#f0f921"
             ]
            ],
            "type": "surface"
           }
          ],
          "table": [
           {
            "cells": {
             "fill": {
              "color": "#EBF0F8"
             },
             "line": {
              "color": "white"
             }
            },
            "header": {
             "fill": {
              "color": "#C8D4E3"
             },
             "line": {
              "color": "white"
             }
            },
            "type": "table"
           }
          ]
         },
         "layout": {
          "annotationdefaults": {
           "arrowcolor": "#2a3f5f",
           "arrowhead": 0,
           "arrowwidth": 1
          },
          "autotypenumbers": "strict",
          "coloraxis": {
           "colorbar": {
            "outlinewidth": 0,
            "ticks": ""
           }
          },
          "colorscale": {
           "diverging": [
            [
             0,
             "#8e0152"
            ],
            [
             0.1,
             "#c51b7d"
            ],
            [
             0.2,
             "#de77ae"
            ],
            [
             0.3,
             "#f1b6da"
            ],
            [
             0.4,
             "#fde0ef"
            ],
            [
             0.5,
             "#f7f7f7"
            ],
            [
             0.6,
             "#e6f5d0"
            ],
            [
             0.7,
             "#b8e186"
            ],
            [
             0.8,
             "#7fbc41"
            ],
            [
             0.9,
             "#4d9221"
            ],
            [
             1,
             "#276419"
            ]
           ],
           "sequential": [
            [
             0,
             "#0d0887"
            ],
            [
             0.1111111111111111,
             "#46039f"
            ],
            [
             0.2222222222222222,
             "#7201a8"
            ],
            [
             0.3333333333333333,
             "#9c179e"
            ],
            [
             0.4444444444444444,
             "#bd3786"
            ],
            [
             0.5555555555555556,
             "#d8576b"
            ],
            [
             0.6666666666666666,
             "#ed7953"
            ],
            [
             0.7777777777777778,
             "#fb9f3a"
            ],
            [
             0.8888888888888888,
             "#fdca26"
            ],
            [
             1,
             "#f0f921"
            ]
           ],
           "sequentialminus": [
            [
             0,
             "#0d0887"
            ],
            [
             0.1111111111111111,
             "#46039f"
            ],
            [
             0.2222222222222222,
             "#7201a8"
            ],
            [
             0.3333333333333333,
             "#9c179e"
            ],
            [
             0.4444444444444444,
             "#bd3786"
            ],
            [
             0.5555555555555556,
             "#d8576b"
            ],
            [
             0.6666666666666666,
             "#ed7953"
            ],
            [
             0.7777777777777778,
             "#fb9f3a"
            ],
            [
             0.8888888888888888,
             "#fdca26"
            ],
            [
             1,
             "#f0f921"
            ]
           ]
          },
          "colorway": [
           "#636efa",
           "#EF553B",
           "#00cc96",
           "#ab63fa",
           "#FFA15A",
           "#19d3f3",
           "#FF6692",
           "#B6E880",
           "#FF97FF",
           "#FECB52"
          ],
          "font": {
           "color": "#2a3f5f"
          },
          "geo": {
           "bgcolor": "white",
           "lakecolor": "white",
           "landcolor": "#E5ECF6",
           "showlakes": true,
           "showland": true,
           "subunitcolor": "white"
          },
          "hoverlabel": {
           "align": "left"
          },
          "hovermode": "closest",
          "mapbox": {
           "style": "light"
          },
          "paper_bgcolor": "white",
          "plot_bgcolor": "#E5ECF6",
          "polar": {
           "angularaxis": {
            "gridcolor": "white",
            "linecolor": "white",
            "ticks": ""
           },
           "bgcolor": "#E5ECF6",
           "radialaxis": {
            "gridcolor": "white",
            "linecolor": "white",
            "ticks": ""
           }
          },
          "scene": {
           "xaxis": {
            "backgroundcolor": "#E5ECF6",
            "gridcolor": "white",
            "gridwidth": 2,
            "linecolor": "white",
            "showbackground": true,
            "ticks": "",
            "zerolinecolor": "white"
           },
           "yaxis": {
            "backgroundcolor": "#E5ECF6",
            "gridcolor": "white",
            "gridwidth": 2,
            "linecolor": "white",
            "showbackground": true,
            "ticks": "",
            "zerolinecolor": "white"
           },
           "zaxis": {
            "backgroundcolor": "#E5ECF6",
            "gridcolor": "white",
            "gridwidth": 2,
            "linecolor": "white",
            "showbackground": true,
            "ticks": "",
            "zerolinecolor": "white"
           }
          },
          "shapedefaults": {
           "line": {
            "color": "#2a3f5f"
           }
          },
          "ternary": {
           "aaxis": {
            "gridcolor": "white",
            "linecolor": "white",
            "ticks": ""
           },
           "baxis": {
            "gridcolor": "white",
            "linecolor": "white",
            "ticks": ""
           },
           "bgcolor": "#E5ECF6",
           "caxis": {
            "gridcolor": "white",
            "linecolor": "white",
            "ticks": ""
           }
          },
          "title": {
           "x": 0.05
          },
          "xaxis": {
           "automargin": true,
           "gridcolor": "white",
           "linecolor": "white",
           "ticks": "",
           "title": {
            "standoff": 15
           },
           "zerolinecolor": "white",
           "zerolinewidth": 2
          },
          "yaxis": {
           "automargin": true,
           "gridcolor": "white",
           "linecolor": "white",
           "ticks": "",
           "title": {
            "standoff": 15
           },
           "zerolinecolor": "white",
           "zerolinewidth": 2
          }
         }
        },
        "title": {
         "text": "Actual Intake vs Goals"
        },
        "xaxis": {
         "title": {
          "text": "Date"
         }
        },
        "yaxis": {
         "title": {
          "text": "Calories"
         }
        }
       }
      },
      "text/html": [
       "<div>                            <div id=\"c5a472c9-cb19-468f-a350-f77700134960\" class=\"plotly-graph-div\" style=\"height:525px; width:100%;\"></div>            <script type=\"text/javascript\">                require([\"plotly\"], function(Plotly) {                    window.PLOTLYENV=window.PLOTLYENV || {};                                    if (document.getElementById(\"c5a472c9-cb19-468f-a350-f77700134960\")) {                    Plotly.newPlot(                        \"c5a472c9-cb19-468f-a350-f77700134960\",                        [{\"customdata\":[187,161,205,93,158],\"hovertemplate\":\"%{customdata}\",\"legendgroup\":\"carbs\",\"marker\":{\"color\":\"darkturquoise\"},\"name\":\"carbs\",\"x\":[\"2022-03-18T00:00:00\",\"2022-03-19T00:00:00\",\"2022-03-20T00:00:00\",\"2022-03-21T00:00:00\",\"2022-03-22T00:00:00\"],\"y\":[187,161,205,93,158],\"type\":\"bar\"},{\"customdata\":[44,55,69,57,60],\"hovertemplate\":\"%{customdata}\",\"legendgroup\":\"fat\",\"marker\":{\"color\":\"tomato\"},\"name\":\"fat\",\"x\":[\"2022-03-18T00:00:00\",\"2022-03-19T00:00:00\",\"2022-03-20T00:00:00\",\"2022-03-21T00:00:00\",\"2022-03-22T00:00:00\"],\"y\":[44,55,69,57,60],\"type\":\"bar\"},{\"customdata\":[148,179,193,139,135],\"hovertemplate\":\"%{customdata}\",\"legendgroup\":\"protein\",\"marker\":{\"color\":\"mediumorchid\"},\"name\":\"protein\",\"x\":[\"2022-03-18T00:00:00\",\"2022-03-19T00:00:00\",\"2022-03-20T00:00:00\",\"2022-03-21T00:00:00\",\"2022-03-22T00:00:00\"],\"y\":[148,179,193,139,135],\"type\":\"bar\"},{\"legendgroup\":\"carbs\",\"line\":{\"color\":\"darkturquoise\",\"dash\":\"dash\"},\"mode\":\"lines\",\"name\":\"goal\",\"x\":[\"2022-03-18T00:00:00\",\"2022-03-19T00:00:00\",\"2022-03-20T00:00:00\",\"2022-03-21T00:00:00\",\"2022-03-22T00:00:00\"],\"y\":[180.0,180.0,180.0,180.0,180.0],\"type\":\"scatter\"},{\"legendgroup\":\"fat\",\"line\":{\"color\":\"tomato\",\"dash\":\"dash\"},\"mode\":\"lines\",\"name\":\"goal\",\"x\":[\"2022-03-18T00:00:00\",\"2022-03-19T00:00:00\",\"2022-03-20T00:00:00\",\"2022-03-21T00:00:00\",\"2022-03-22T00:00:00\"],\"y\":[50.0,50.0,50.0,50.0,50.0],\"type\":\"scatter\"},{\"legendgroup\":\"protein\",\"line\":{\"color\":\"mediumorchid\",\"dash\":\"dash\"},\"mode\":\"lines\",\"name\":\"goal\",\"x\":[\"2022-03-18T00:00:00\",\"2022-03-19T00:00:00\",\"2022-03-20T00:00:00\",\"2022-03-21T00:00:00\",\"2022-03-22T00:00:00\"],\"y\":[158.0,158.0,158.0,158.0,158.0],\"type\":\"scatter\"}],                        {\"template\":{\"data\":{\"bar\":[{\"error_x\":{\"color\":\"#2a3f5f\"},\"error_y\":{\"color\":\"#2a3f5f\"},\"marker\":{\"line\":{\"color\":\"#E5ECF6\",\"width\":0.5},\"pattern\":{\"fillmode\":\"overlay\",\"size\":10,\"solidity\":0.2}},\"type\":\"bar\"}],\"barpolar\":[{\"marker\":{\"line\":{\"color\":\"#E5ECF6\",\"width\":0.5},\"pattern\":{\"fillmode\":\"overlay\",\"size\":10,\"solidity\":0.2}},\"type\":\"barpolar\"}],\"carpet\":[{\"aaxis\":{\"endlinecolor\":\"#2a3f5f\",\"gridcolor\":\"white\",\"linecolor\":\"white\",\"minorgridcolor\":\"white\",\"startlinecolor\":\"#2a3f5f\"},\"baxis\":{\"endlinecolor\":\"#2a3f5f\",\"gridcolor\":\"white\",\"linecolor\":\"white\",\"minorgridcolor\":\"white\",\"startlinecolor\":\"#2a3f5f\"},\"type\":\"carpet\"}],\"choropleth\":[{\"colorbar\":{\"outlinewidth\":0,\"ticks\":\"\"},\"type\":\"choropleth\"}],\"contour\":[{\"colorbar\":{\"outlinewidth\":0,\"ticks\":\"\"},\"colorscale\":[[0.0,\"#0d0887\"],[0.1111111111111111,\"#46039f\"],[0.2222222222222222,\"#7201a8\"],[0.3333333333333333,\"#9c179e\"],[0.4444444444444444,\"#bd3786\"],[0.5555555555555556,\"#d8576b\"],[0.6666666666666666,\"#ed7953\"],[0.7777777777777778,\"#fb9f3a\"],[0.8888888888888888,\"#fdca26\"],[1.0,\"#f0f921\"]],\"type\":\"contour\"}],\"contourcarpet\":[{\"colorbar\":{\"outlinewidth\":0,\"ticks\":\"\"},\"type\":\"contourcarpet\"}],\"heatmap\":[{\"colorbar\":{\"outlinewidth\":0,\"ticks\":\"\"},\"colorscale\":[[0.0,\"#0d0887\"],[0.1111111111111111,\"#46039f\"],[0.2222222222222222,\"#7201a8\"],[0.3333333333333333,\"#9c179e\"],[0.4444444444444444,\"#bd3786\"],[0.5555555555555556,\"#d8576b\"],[0.6666666666666666,\"#ed7953\"],[0.7777777777777778,\"#fb9f3a\"],[0.8888888888888888,\"#fdca26\"],[1.0,\"#f0f921\"]],\"type\":\"heatmap\"}],\"heatmapgl\":[{\"colorbar\":{\"outlinewidth\":0,\"ticks\":\"\"},\"colorscale\":[[0.0,\"#0d0887\"],[0.1111111111111111,\"#46039f\"],[0.2222222222222222,\"#7201a8\"],[0.3333333333333333,\"#9c179e\"],[0.4444444444444444,\"#bd3786\"],[0.5555555555555556,\"#d8576b\"],[0.6666666666666666,\"#ed7953\"],[0.7777777777777778,\"#fb9f3a\"],[0.8888888888888888,\"#fdca26\"],[1.0,\"#f0f921\"]],\"type\":\"heatmapgl\"}],\"histogram\":[{\"marker\":{\"pattern\":{\"fillmode\":\"overlay\",\"size\":10,\"solidity\":0.2}},\"type\":\"histogram\"}],\"histogram2d\":[{\"colorbar\":{\"outlinewidth\":0,\"ticks\":\"\"},\"colorscale\":[[0.0,\"#0d0887\"],[0.1111111111111111,\"#46039f\"],[0.2222222222222222,\"#7201a8\"],[0.3333333333333333,\"#9c179e\"],[0.4444444444444444,\"#bd3786\"],[0.5555555555555556,\"#d8576b\"],[0.6666666666666666,\"#ed7953\"],[0.7777777777777778,\"#fb9f3a\"],[0.8888888888888888,\"#fdca26\"],[1.0,\"#f0f921\"]],\"type\":\"histogram2d\"}],\"histogram2dcontour\":[{\"colorbar\":{\"outlinewidth\":0,\"ticks\":\"\"},\"colorscale\":[[0.0,\"#0d0887\"],[0.1111111111111111,\"#46039f\"],[0.2222222222222222,\"#7201a8\"],[0.3333333333333333,\"#9c179e\"],[0.4444444444444444,\"#bd3786\"],[0.5555555555555556,\"#d8576b\"],[0.6666666666666666,\"#ed7953\"],[0.7777777777777778,\"#fb9f3a\"],[0.8888888888888888,\"#fdca26\"],[1.0,\"#f0f921\"]],\"type\":\"histogram2dcontour\"}],\"mesh3d\":[{\"colorbar\":{\"outlinewidth\":0,\"ticks\":\"\"},\"type\":\"mesh3d\"}],\"parcoords\":[{\"line\":{\"colorbar\":{\"outlinewidth\":0,\"ticks\":\"\"}},\"type\":\"parcoords\"}],\"pie\":[{\"automargin\":true,\"type\":\"pie\"}],\"scatter\":[{\"marker\":{\"colorbar\":{\"outlinewidth\":0,\"ticks\":\"\"}},\"type\":\"scatter\"}],\"scatter3d\":[{\"line\":{\"colorbar\":{\"outlinewidth\":0,\"ticks\":\"\"}},\"marker\":{\"colorbar\":{\"outlinewidth\":0,\"ticks\":\"\"}},\"type\":\"scatter3d\"}],\"scattercarpet\":[{\"marker\":{\"colorbar\":{\"outlinewidth\":0,\"ticks\":\"\"}},\"type\":\"scattercarpet\"}],\"scattergeo\":[{\"marker\":{\"colorbar\":{\"outlinewidth\":0,\"ticks\":\"\"}},\"type\":\"scattergeo\"}],\"scattergl\":[{\"marker\":{\"colorbar\":{\"outlinewidth\":0,\"ticks\":\"\"}},\"type\":\"scattergl\"}],\"scattermapbox\":[{\"marker\":{\"colorbar\":{\"outlinewidth\":0,\"ticks\":\"\"}},\"type\":\"scattermapbox\"}],\"scatterpolar\":[{\"marker\":{\"colorbar\":{\"outlinewidth\":0,\"ticks\":\"\"}},\"type\":\"scatterpolar\"}],\"scatterpolargl\":[{\"marker\":{\"colorbar\":{\"outlinewidth\":0,\"ticks\":\"\"}},\"type\":\"scatterpolargl\"}],\"scatterternary\":[{\"marker\":{\"colorbar\":{\"outlinewidth\":0,\"ticks\":\"\"}},\"type\":\"scatterternary\"}],\"surface\":[{\"colorbar\":{\"outlinewidth\":0,\"ticks\":\"\"},\"colorscale\":[[0.0,\"#0d0887\"],[0.1111111111111111,\"#46039f\"],[0.2222222222222222,\"#7201a8\"],[0.3333333333333333,\"#9c179e\"],[0.4444444444444444,\"#bd3786\"],[0.5555555555555556,\"#d8576b\"],[0.6666666666666666,\"#ed7953\"],[0.7777777777777778,\"#fb9f3a\"],[0.8888888888888888,\"#fdca26\"],[1.0,\"#f0f921\"]],\"type\":\"surface\"}],\"table\":[{\"cells\":{\"fill\":{\"color\":\"#EBF0F8\"},\"line\":{\"color\":\"white\"}},\"header\":{\"fill\":{\"color\":\"#C8D4E3\"},\"line\":{\"color\":\"white\"}},\"type\":\"table\"}]},\"layout\":{\"annotationdefaults\":{\"arrowcolor\":\"#2a3f5f\",\"arrowhead\":0,\"arrowwidth\":1},\"autotypenumbers\":\"strict\",\"coloraxis\":{\"colorbar\":{\"outlinewidth\":0,\"ticks\":\"\"}},\"colorscale\":{\"diverging\":[[0,\"#8e0152\"],[0.1,\"#c51b7d\"],[0.2,\"#de77ae\"],[0.3,\"#f1b6da\"],[0.4,\"#fde0ef\"],[0.5,\"#f7f7f7\"],[0.6,\"#e6f5d0\"],[0.7,\"#b8e186\"],[0.8,\"#7fbc41\"],[0.9,\"#4d9221\"],[1,\"#276419\"]],\"sequential\":[[0.0,\"#0d0887\"],[0.1111111111111111,\"#46039f\"],[0.2222222222222222,\"#7201a8\"],[0.3333333333333333,\"#9c179e\"],[0.4444444444444444,\"#bd3786\"],[0.5555555555555556,\"#d8576b\"],[0.6666666666666666,\"#ed7953\"],[0.7777777777777778,\"#fb9f3a\"],[0.8888888888888888,\"#fdca26\"],[1.0,\"#f0f921\"]],\"sequentialminus\":[[0.0,\"#0d0887\"],[0.1111111111111111,\"#46039f\"],[0.2222222222222222,\"#7201a8\"],[0.3333333333333333,\"#9c179e\"],[0.4444444444444444,\"#bd3786\"],[0.5555555555555556,\"#d8576b\"],[0.6666666666666666,\"#ed7953\"],[0.7777777777777778,\"#fb9f3a\"],[0.8888888888888888,\"#fdca26\"],[1.0,\"#f0f921\"]]},\"colorway\":[\"#636efa\",\"#EF553B\",\"#00cc96\",\"#ab63fa\",\"#FFA15A\",\"#19d3f3\",\"#FF6692\",\"#B6E880\",\"#FF97FF\",\"#FECB52\"],\"font\":{\"color\":\"#2a3f5f\"},\"geo\":{\"bgcolor\":\"white\",\"lakecolor\":\"white\",\"landcolor\":\"#E5ECF6\",\"showlakes\":true,\"showland\":true,\"subunitcolor\":\"white\"},\"hoverlabel\":{\"align\":\"left\"},\"hovermode\":\"closest\",\"mapbox\":{\"style\":\"light\"},\"paper_bgcolor\":\"white\",\"plot_bgcolor\":\"#E5ECF6\",\"polar\":{\"angularaxis\":{\"gridcolor\":\"white\",\"linecolor\":\"white\",\"ticks\":\"\"},\"bgcolor\":\"#E5ECF6\",\"radialaxis\":{\"gridcolor\":\"white\",\"linecolor\":\"white\",\"ticks\":\"\"}},\"scene\":{\"xaxis\":{\"backgroundcolor\":\"#E5ECF6\",\"gridcolor\":\"white\",\"gridwidth\":2,\"linecolor\":\"white\",\"showbackground\":true,\"ticks\":\"\",\"zerolinecolor\":\"white\"},\"yaxis\":{\"backgroundcolor\":\"#E5ECF6\",\"gridcolor\":\"white\",\"gridwidth\":2,\"linecolor\":\"white\",\"showbackground\":true,\"ticks\":\"\",\"zerolinecolor\":\"white\"},\"zaxis\":{\"backgroundcolor\":\"#E5ECF6\",\"gridcolor\":\"white\",\"gridwidth\":2,\"linecolor\":\"white\",\"showbackground\":true,\"ticks\":\"\",\"zerolinecolor\":\"white\"}},\"shapedefaults\":{\"line\":{\"color\":\"#2a3f5f\"}},\"ternary\":{\"aaxis\":{\"gridcolor\":\"white\",\"linecolor\":\"white\",\"ticks\":\"\"},\"baxis\":{\"gridcolor\":\"white\",\"linecolor\":\"white\",\"ticks\":\"\"},\"bgcolor\":\"#E5ECF6\",\"caxis\":{\"gridcolor\":\"white\",\"linecolor\":\"white\",\"ticks\":\"\"}},\"title\":{\"x\":0.05},\"xaxis\":{\"automargin\":true,\"gridcolor\":\"white\",\"linecolor\":\"white\",\"ticks\":\"\",\"title\":{\"standoff\":15},\"zerolinecolor\":\"white\",\"zerolinewidth\":2},\"yaxis\":{\"automargin\":true,\"gridcolor\":\"white\",\"linecolor\":\"white\",\"ticks\":\"\",\"title\":{\"standoff\":15},\"zerolinecolor\":\"white\",\"zerolinewidth\":2}}},\"title\":{\"text\":\"Actual Intake vs Goals\"},\"xaxis\":{\"title\":{\"text\":\"Date\"}},\"yaxis\":{\"title\":{\"text\":\"Calories\"}}},                        {\"responsive\": true}                    ).then(function(){\n",
       "                            \n",
       "var gd = document.getElementById('c5a472c9-cb19-468f-a350-f77700134960');\n",
       "var x = new MutationObserver(function (mutations, observer) {{\n",
       "        var display = window.getComputedStyle(gd).display;\n",
       "        if (!display || display === 'none') {{\n",
       "            console.log([gd, 'removed!']);\n",
       "            Plotly.purge(gd);\n",
       "            observer.disconnect();\n",
       "        }}\n",
       "}});\n",
       "\n",
       "// Listen for the removal of the full notebook cells\n",
       "var notebookContainer = gd.closest('#notebook-container');\n",
       "if (notebookContainer) {{\n",
       "    x.observe(notebookContainer, {childList: true});\n",
       "}}\n",
       "\n",
       "// Listen for the clearing of the current output cell\n",
       "var outputEl = gd.closest('.output');\n",
       "if (outputEl) {{\n",
       "    x.observe(outputEl, {childList: true});\n",
       "}}\n",
       "\n",
       "                        })                };                });            </script>        </div>"
      ]
     },
     "metadata": {},
     "output_type": "display_data"
    }
   ],
   "source": [
    "import plotly.graph_objects as go\n",
    "fig = go.Figure()\n",
    "\n",
    "\n",
    "for col in gram_macro_cols:\n",
    "    macro = col.split(\"_\")[-2]\n",
    "    color = macro_colours[macro]\n",
    "    if 'goal' in col:\n",
    "        line={\"dash\":\"dash\", \"color\": color}\n",
    "        fig.add_trace(go.Scatter(x=daily_data.index, \n",
    "        y=daily_data[col], \n",
    "        mode='lines', \n",
    "        name=\"goal\", \n",
    "        line=line,        \n",
    "        legendgroup=macro))\n",
    "    else:\n",
    "        fig.add_trace(go.Bar(x=daily_data.index, \n",
    "        y=daily_data[col], \n",
    "        name=macro,\n",
    "        marker_color= color,\n",
    "        legendgroup=macro,\n",
    "        customdata =daily_data[macro+\"_g\"],\n",
    "        hovertemplate='%{customdata}'))\n",
    "fig.update_layout(title='Actual Intake vs Goals', xaxis_title =\"Date\", yaxis_title=\"Calories\")\n",
    "fig.show()"
   ]
  },
  {
   "cell_type": "code",
   "execution_count": 106,
   "metadata": {},
   "outputs": [
    {
     "data": {
      "text/plain": [
       "['calories_kcal', 'goal_calories_kcal']"
      ]
     },
     "execution_count": 106,
     "metadata": {},
     "output_type": "execute_result"
    }
   ],
   "source": [
    "calorie_cols"
   ]
  },
  {
   "cell_type": "code",
   "execution_count": 110,
   "metadata": {},
   "outputs": [],
   "source": [
    "import numpy as np"
   ]
  },
  {
   "cell_type": "code",
   "execution_count": 143,
   "metadata": {},
   "outputs": [
    {
     "data": {
      "text/html": [
       "<div>\n",
       "<style scoped>\n",
       "    .dataframe tbody tr th:only-of-type {\n",
       "        vertical-align: middle;\n",
       "    }\n",
       "\n",
       "    .dataframe tbody tr th {\n",
       "        vertical-align: top;\n",
       "    }\n",
       "\n",
       "    .dataframe thead th {\n",
       "        text-align: right;\n",
       "    }\n",
       "</style>\n",
       "<table border=\"1\" class=\"dataframe\">\n",
       "  <thead>\n",
       "    <tr style=\"text-align: right;\">\n",
       "      <th></th>\n",
       "      <th>date</th>\n",
       "      <th>calories_kcal</th>\n",
       "      <th>goal_calories_kcal</th>\n",
       "    </tr>\n",
       "  </thead>\n",
       "  <tbody>\n",
       "    <tr>\n",
       "      <th>0</th>\n",
       "      <td>2022-03-18</td>\n",
       "      <td>1779</td>\n",
       "      <td>1800.0</td>\n",
       "    </tr>\n",
       "    <tr>\n",
       "      <th>1</th>\n",
       "      <td>2022-03-19</td>\n",
       "      <td>1897</td>\n",
       "      <td>1800.0</td>\n",
       "    </tr>\n",
       "    <tr>\n",
       "      <th>2</th>\n",
       "      <td>2022-03-20</td>\n",
       "      <td>2235</td>\n",
       "      <td>1800.0</td>\n",
       "    </tr>\n",
       "    <tr>\n",
       "      <th>3</th>\n",
       "      <td>2022-03-21</td>\n",
       "      <td>1480</td>\n",
       "      <td>1800.0</td>\n",
       "    </tr>\n",
       "    <tr>\n",
       "      <th>4</th>\n",
       "      <td>2022-03-22</td>\n",
       "      <td>1745</td>\n",
       "      <td>1800.0</td>\n",
       "    </tr>\n",
       "  </tbody>\n",
       "</table>\n",
       "</div>"
      ],
      "text/plain": [
       "        date  calories_kcal  goal_calories_kcal\n",
       "0 2022-03-18           1779              1800.0\n",
       "1 2022-03-19           1897              1800.0\n",
       "2 2022-03-20           2235              1800.0\n",
       "3 2022-03-21           1480              1800.0\n",
       "4 2022-03-22           1745              1800.0"
      ]
     },
     "execution_count": 143,
     "metadata": {},
     "output_type": "execute_result"
    }
   ],
   "source": [
    "daily_data[calorie_cols].reset_index()"
   ]
  },
  {
   "cell_type": "code",
   "execution_count": 155,
   "metadata": {},
   "outputs": [
    {
     "ename": "TypeError",
     "evalue": "'int' object is not iterable",
     "output_type": "error",
     "traceback": [
      "\u001b[0;31m---------------------------------------------------------------------------\u001b[0m",
      "\u001b[0;31mTypeError\u001b[0m                                 Traceback (most recent call last)",
      "\u001b[1;32m/workspaces/fit-analytics/notebooks/mfp_plotting.ipynb Cell 20'\u001b[0m in \u001b[0;36m<cell line: 1>\u001b[0;34m()\u001b[0m\n\u001b[0;32m----> <a href='vscode-notebook-cell://dev-container%2B5c5c77736c245c5562756e74755c686f6d655c69736d61696c5c6669742d616e616c7974696373/workspaces/fit-analytics/notebooks/mfp_plotting.ipynb#ch0000028vscode-remote?line=0'>1</a>\u001b[0m daily_data[\u001b[39m'\u001b[39;49m\u001b[39mcalories_kcal\u001b[39;49m\u001b[39m'\u001b[39;49m]\u001b[39m.\u001b[39;49mapply(\u001b[39mlambda\u001b[39;49;00m x:\u001b[39mlist\u001b[39;49m(\u001b[39mzip\u001b[39;49m(x,daily_data[\u001b[39m'\u001b[39;49m\u001b[39mcalories_kcal\u001b[39;49m\u001b[39m'\u001b[39;49m])))\n",
      "File \u001b[0;32m~/.local/lib/python3.10/site-packages/pandas/core/series.py:4433\u001b[0m, in \u001b[0;36mSeries.apply\u001b[0;34m(self, func, convert_dtype, args, **kwargs)\u001b[0m\n\u001b[1;32m   <a href='file:///root/.local/lib/python3.10/site-packages/pandas/core/series.py?line=4322'>4323</a>\u001b[0m \u001b[39mdef\u001b[39;00m \u001b[39mapply\u001b[39m(\n\u001b[1;32m   <a href='file:///root/.local/lib/python3.10/site-packages/pandas/core/series.py?line=4323'>4324</a>\u001b[0m     \u001b[39mself\u001b[39m,\n\u001b[1;32m   <a href='file:///root/.local/lib/python3.10/site-packages/pandas/core/series.py?line=4324'>4325</a>\u001b[0m     func: AggFuncType,\n\u001b[0;32m   (...)\u001b[0m\n\u001b[1;32m   <a href='file:///root/.local/lib/python3.10/site-packages/pandas/core/series.py?line=4327'>4328</a>\u001b[0m     \u001b[39m*\u001b[39m\u001b[39m*\u001b[39mkwargs,\n\u001b[1;32m   <a href='file:///root/.local/lib/python3.10/site-packages/pandas/core/series.py?line=4328'>4329</a>\u001b[0m ) \u001b[39m-\u001b[39m\u001b[39m>\u001b[39m DataFrame \u001b[39m|\u001b[39m Series:\n\u001b[1;32m   <a href='file:///root/.local/lib/python3.10/site-packages/pandas/core/series.py?line=4329'>4330</a>\u001b[0m     \u001b[39m\"\"\"\u001b[39;00m\n\u001b[1;32m   <a href='file:///root/.local/lib/python3.10/site-packages/pandas/core/series.py?line=4330'>4331</a>\u001b[0m \u001b[39m    Invoke function on values of Series.\u001b[39;00m\n\u001b[1;32m   <a href='file:///root/.local/lib/python3.10/site-packages/pandas/core/series.py?line=4331'>4332</a>\u001b[0m \n\u001b[0;32m   (...)\u001b[0m\n\u001b[1;32m   <a href='file:///root/.local/lib/python3.10/site-packages/pandas/core/series.py?line=4430'>4431</a>\u001b[0m \u001b[39m    dtype: float64\u001b[39;00m\n\u001b[1;32m   <a href='file:///root/.local/lib/python3.10/site-packages/pandas/core/series.py?line=4431'>4432</a>\u001b[0m \u001b[39m    \"\"\"\u001b[39;00m\n\u001b[0;32m-> <a href='file:///root/.local/lib/python3.10/site-packages/pandas/core/series.py?line=4432'>4433</a>\u001b[0m     \u001b[39mreturn\u001b[39;00m SeriesApply(\u001b[39mself\u001b[39;49m, func, convert_dtype, args, kwargs)\u001b[39m.\u001b[39;49mapply()\n",
      "File \u001b[0;32m~/.local/lib/python3.10/site-packages/pandas/core/apply.py:1082\u001b[0m, in \u001b[0;36mSeriesApply.apply\u001b[0;34m(self)\u001b[0m\n\u001b[1;32m   <a href='file:///root/.local/lib/python3.10/site-packages/pandas/core/apply.py?line=1077'>1078</a>\u001b[0m \u001b[39mif\u001b[39;00m \u001b[39misinstance\u001b[39m(\u001b[39mself\u001b[39m\u001b[39m.\u001b[39mf, \u001b[39mstr\u001b[39m):\n\u001b[1;32m   <a href='file:///root/.local/lib/python3.10/site-packages/pandas/core/apply.py?line=1078'>1079</a>\u001b[0m     \u001b[39m# if we are a string, try to dispatch\u001b[39;00m\n\u001b[1;32m   <a href='file:///root/.local/lib/python3.10/site-packages/pandas/core/apply.py?line=1079'>1080</a>\u001b[0m     \u001b[39mreturn\u001b[39;00m \u001b[39mself\u001b[39m\u001b[39m.\u001b[39mapply_str()\n\u001b[0;32m-> <a href='file:///root/.local/lib/python3.10/site-packages/pandas/core/apply.py?line=1081'>1082</a>\u001b[0m \u001b[39mreturn\u001b[39;00m \u001b[39mself\u001b[39;49m\u001b[39m.\u001b[39;49mapply_standard()\n",
      "File \u001b[0;32m~/.local/lib/python3.10/site-packages/pandas/core/apply.py:1137\u001b[0m, in \u001b[0;36mSeriesApply.apply_standard\u001b[0;34m(self)\u001b[0m\n\u001b[1;32m   <a href='file:///root/.local/lib/python3.10/site-packages/pandas/core/apply.py?line=1130'>1131</a>\u001b[0m         values \u001b[39m=\u001b[39m obj\u001b[39m.\u001b[39mastype(\u001b[39mobject\u001b[39m)\u001b[39m.\u001b[39m_values\n\u001b[1;32m   <a href='file:///root/.local/lib/python3.10/site-packages/pandas/core/apply.py?line=1131'>1132</a>\u001b[0m         \u001b[39m# error: Argument 2 to \"map_infer\" has incompatible type\u001b[39;00m\n\u001b[1;32m   <a href='file:///root/.local/lib/python3.10/site-packages/pandas/core/apply.py?line=1132'>1133</a>\u001b[0m         \u001b[39m# \"Union[Callable[..., Any], str, List[Union[Callable[..., Any], str]],\u001b[39;00m\n\u001b[1;32m   <a href='file:///root/.local/lib/python3.10/site-packages/pandas/core/apply.py?line=1133'>1134</a>\u001b[0m         \u001b[39m# Dict[Hashable, Union[Union[Callable[..., Any], str],\u001b[39;00m\n\u001b[1;32m   <a href='file:///root/.local/lib/python3.10/site-packages/pandas/core/apply.py?line=1134'>1135</a>\u001b[0m         \u001b[39m# List[Union[Callable[..., Any], str]]]]]\"; expected\u001b[39;00m\n\u001b[1;32m   <a href='file:///root/.local/lib/python3.10/site-packages/pandas/core/apply.py?line=1135'>1136</a>\u001b[0m         \u001b[39m# \"Callable[[Any], Any]\"\u001b[39;00m\n\u001b[0;32m-> <a href='file:///root/.local/lib/python3.10/site-packages/pandas/core/apply.py?line=1136'>1137</a>\u001b[0m         mapped \u001b[39m=\u001b[39m lib\u001b[39m.\u001b[39;49mmap_infer(\n\u001b[1;32m   <a href='file:///root/.local/lib/python3.10/site-packages/pandas/core/apply.py?line=1137'>1138</a>\u001b[0m             values,\n\u001b[1;32m   <a href='file:///root/.local/lib/python3.10/site-packages/pandas/core/apply.py?line=1138'>1139</a>\u001b[0m             f,  \u001b[39m# type: ignore[arg-type]\u001b[39;49;00m\n\u001b[1;32m   <a href='file:///root/.local/lib/python3.10/site-packages/pandas/core/apply.py?line=1139'>1140</a>\u001b[0m             convert\u001b[39m=\u001b[39;49m\u001b[39mself\u001b[39;49m\u001b[39m.\u001b[39;49mconvert_dtype,\n\u001b[1;32m   <a href='file:///root/.local/lib/python3.10/site-packages/pandas/core/apply.py?line=1140'>1141</a>\u001b[0m         )\n\u001b[1;32m   <a href='file:///root/.local/lib/python3.10/site-packages/pandas/core/apply.py?line=1142'>1143</a>\u001b[0m \u001b[39mif\u001b[39;00m \u001b[39mlen\u001b[39m(mapped) \u001b[39mand\u001b[39;00m \u001b[39misinstance\u001b[39m(mapped[\u001b[39m0\u001b[39m], ABCSeries):\n\u001b[1;32m   <a href='file:///root/.local/lib/python3.10/site-packages/pandas/core/apply.py?line=1143'>1144</a>\u001b[0m     \u001b[39m# GH#43986 Need to do list(mapped) in order to get treated as nested\u001b[39;00m\n\u001b[1;32m   <a href='file:///root/.local/lib/python3.10/site-packages/pandas/core/apply.py?line=1144'>1145</a>\u001b[0m     \u001b[39m#  See also GH#25959 regarding EA support\u001b[39;00m\n\u001b[1;32m   <a href='file:///root/.local/lib/python3.10/site-packages/pandas/core/apply.py?line=1145'>1146</a>\u001b[0m     \u001b[39mreturn\u001b[39;00m obj\u001b[39m.\u001b[39m_constructor_expanddim(\u001b[39mlist\u001b[39m(mapped), index\u001b[39m=\u001b[39mobj\u001b[39m.\u001b[39mindex)\n",
      "File \u001b[0;32m~/.local/lib/python3.10/site-packages/pandas/_libs/lib.pyx:2870\u001b[0m, in \u001b[0;36mpandas._libs.lib.map_infer\u001b[0;34m()\u001b[0m\n",
      "\u001b[1;32m/workspaces/fit-analytics/notebooks/mfp_plotting.ipynb Cell 20'\u001b[0m in \u001b[0;36m<lambda>\u001b[0;34m(x)\u001b[0m\n\u001b[0;32m----> <a href='vscode-notebook-cell://dev-container%2B5c5c77736c245c5562756e74755c686f6d655c69736d61696c5c6669742d616e616c7974696373/workspaces/fit-analytics/notebooks/mfp_plotting.ipynb#ch0000028vscode-remote?line=0'>1</a>\u001b[0m daily_data[\u001b[39m'\u001b[39m\u001b[39mcalories_kcal\u001b[39m\u001b[39m'\u001b[39m]\u001b[39m.\u001b[39mapply(\u001b[39mlambda\u001b[39;00m x:\u001b[39mlist\u001b[39m(\u001b[39mzip\u001b[39;49m(x,daily_data[\u001b[39m'\u001b[39;49m\u001b[39mcalories_kcal\u001b[39;49m\u001b[39m'\u001b[39;49m])))\n",
      "\u001b[0;31mTypeError\u001b[0m: 'int' object is not iterable"
     ]
    }
   ],
   "source": [
    "daily_data['calories_kcal'].apply(lambda x:list(zip(x,daily_data['calories_kcal'])))"
   ]
  },
  {
   "cell_type": "code",
   "execution_count": 157,
   "metadata": {},
   "outputs": [
    {
     "data": {
      "text/plain": [
       "0    (1779, 1779)\n",
       "1    (1897, 1897)\n",
       "2    (2235, 2235)\n",
       "3    (1480, 1480)\n",
       "4    (1745, 1745)\n",
       "dtype: object"
      ]
     },
     "execution_count": 157,
     "metadata": {},
     "output_type": "execute_result"
    }
   ],
   "source": [
    "pd.Series((zip(daily_data['calories_kcal'],daily_data['calories_kcal'])))"
   ]
  },
  {
   "cell_type": "code",
   "execution_count": 164,
   "metadata": {},
   "outputs": [
    {
     "data": {
      "text/plain": [
       "array([[1779, 1897, 2235, 1480, 1745],\n",
       "       [1779, 1897, 2235, 1480, 1745]])"
      ]
     },
     "execution_count": 164,
     "metadata": {},
     "output_type": "execute_result"
    }
   ],
   "source": [
    "np.vstack([daily_data['calories_kcal'],daily_data['calories_kcal']])"
   ]
  },
  {
   "cell_type": "code",
   "execution_count": null,
   "metadata": {},
   "outputs": [],
   "source": []
  },
  {
   "cell_type": "code",
   "execution_count": null,
   "metadata": {},
   "outputs": [],
   "source": []
  }
 ],
 "metadata": {
  "interpreter": {
   "hash": "9f71aa1aa37e13f4fa4ac14b638e32e5f3ffcd829defd36c0006bab9c5c3f18a"
  },
  "kernelspec": {
   "display_name": "Python 3.8.10 ('venv': venv)",
   "language": "python",
   "name": "python3"
  },
  "language_info": {
   "codemirror_mode": {
    "name": "ipython",
    "version": 3
   },
   "file_extension": ".py",
   "mimetype": "text/x-python",
   "name": "python",
   "nbconvert_exporter": "python",
   "pygments_lexer": "ipython3",
   "version": "3.10.2"
  },
  "orig_nbformat": 4
 },
 "nbformat": 4,
 "nbformat_minor": 2
}
