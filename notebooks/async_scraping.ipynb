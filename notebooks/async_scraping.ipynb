{
 "cells": [
  {
   "cell_type": "code",
   "execution_count": 6,
   "metadata": {},
   "outputs": [
    {
     "data": {
      "text/html": [
       "        <script type=\"text/javascript\">\n",
       "        window.PlotlyConfig = {MathJaxConfig: 'local'};\n",
       "        if (window.MathJax) {MathJax.Hub.Config({SVG: {font: \"STIX-Web\"}});}\n",
       "        if (typeof require !== 'undefined') {\n",
       "        require.undef(\"plotly\");\n",
       "        requirejs.config({\n",
       "            paths: {\n",
       "                'plotly': ['https://cdn.plot.ly/plotly-2.9.0.min']\n",
       "            }\n",
       "        });\n",
       "        require(['plotly'], function(Plotly) {\n",
       "            window._Plotly = Plotly;\n",
       "        });\n",
       "        }\n",
       "        </script>\n",
       "        "
      ]
     },
     "metadata": {},
     "output_type": "display_data"
    }
   ],
   "source": [
    "import pandas as pd\n",
    "import sys\n",
    "import warnings\n",
    "from plotly.offline import init_notebook_mode\n",
    "import asyncio\n",
    "import time\n",
    "warnings.filterwarnings('ignore')\n",
    "init_notebook_mode(connected=True)\n",
    "\n",
    "#hacky way to use sibling module \n",
    "# add ` \"python.analysis.extraPaths\": [\"app/\"] ` to .vscode/settings.json for pylance\n",
    "sys.path.append('../app')"
   ]
  },
  {
   "cell_type": "markdown",
   "metadata": {},
   "source": [
    "Define a 2 month date range to give us enough requests to benchmark on "
   ]
  },
  {
   "cell_type": "code",
   "execution_count": 7,
   "metadata": {},
   "outputs": [],
   "source": [
    "dates = pd.date_range(\"2022-10-01\", \"2022-11-29\")"
   ]
  },
  {
   "cell_type": "markdown",
   "metadata": {},
   "source": [
    "Try the standard way of one request at a time"
   ]
  },
  {
   "cell_type": "code",
   "execution_count": 8,
   "metadata": {},
   "outputs": [
    {
     "name": "stdout",
     "output_type": "stream",
     "text": [
      "time to scrape data: 24.75 seconds\n"
     ]
    }
   ],
   "source": [
    "import requests\n",
    "\n",
    "start_time = time.perf_counter()\n",
    "\n",
    "sesh = requests.Session()\n",
    "\n",
    "def scrape_diary(user, date, client):\n",
    "    url = f\"https://www.myfitnesspal.com/food/diary/{user}?date={date}\"\n",
    "    res = client.get(url)\n",
    "    return res.text\n",
    "diaries =[]\n",
    "for date in dates:\n",
    "    diaries.append(scrape_diary(\"ismailmo\", date, sesh))\n",
    "\n",
    "kcals = []\n",
    "for diary in diaries:\n",
    "    kcals.append(pd.read_html(diary, flavor=\"lxml\")[0].iloc[-4,1])\n",
    "\n",
    "elapsed = time.perf_counter() - start_time\n",
    "\n",
    "print(f\"time to scrape data: {elapsed:.2f} seconds\")"
   ]
  },
  {
   "cell_type": "code",
   "execution_count": 10,
   "metadata": {},
   "outputs": [
    {
     "name": "stdout",
     "output_type": "stream",
     "text": [
      "time to scrape data: 3.04 seconds\n"
     ]
    }
   ],
   "source": [
    "from httpx import AsyncClient\n",
    "\n",
    "start_time = time.perf_counter()\n",
    "\n",
    "async_client = AsyncClient()\n",
    "date_param = \"2022-11-29\"\n",
    "user = \"ismailmo\"\n",
    "\n",
    "async def async_scrape_diary(user, date, client):\n",
    "    url = f\"https://www.myfitnesspal.com/food/diary/{user}?date={date}\"\n",
    "    res = await client.get(url)\n",
    "    return date, res.text\n",
    "coros = []\n",
    "async_diaries =[]\n",
    "for date in dates:\n",
    "    coros.append(async_scrape_diary(\"ismailmo\", date, async_client))\n",
    "\n",
    "async_diaries = await asyncio.gather(*coros)\n",
    "\n",
    "async_kcals = []\n",
    "for date, diary in async_diaries:\n",
    "    async_kcals.append(pd.read_html(diary, flavor=\"lxml\")[0].iloc[-4,1])\n",
    "\n",
    "async_elapsed = time.perf_counter() - start_time\n",
    "\n",
    "print(f\"time to scrape data: {async_elapsed:.2f} seconds\")\n"
   ]
  },
  {
   "cell_type": "code",
   "execution_count": 15,
   "metadata": {},
   "outputs": [
    {
     "name": "stdout",
     "output_type": "stream",
     "text": [
      "Speed up of 87.72%\n"
     ]
    }
   ],
   "source": [
    "print(f\"Speed up of {((elapsed - async_elapsed)/ elapsed) * 100:.2f}%\")"
   ]
  },
  {
   "cell_type": "markdown",
   "metadata": {},
   "source": [
    "This is a huge increase in speed and it's more significant as the size of the date range is greater (more pages scraped and more requests made), lets make sure the data we get back is the same:"
   ]
  },
  {
   "cell_type": "code",
   "execution_count": 16,
   "metadata": {},
   "outputs": [
    {
     "data": {
      "text/plain": [
       "True"
      ]
     },
     "execution_count": 16,
     "metadata": {},
     "output_type": "execute_result"
    }
   ],
   "source": [
    "async_kcals == kcals"
   ]
  }
 ],
 "metadata": {
  "kernelspec": {
   "display_name": "Python 3.10.6 ('venv': venv)",
   "language": "python",
   "name": "python3"
  },
  "language_info": {
   "codemirror_mode": {
    "name": "ipython",
    "version": 3
   },
   "file_extension": ".py",
   "mimetype": "text/x-python",
   "name": "python",
   "nbconvert_exporter": "python",
   "pygments_lexer": "ipython3",
   "version": "3.10.6"
  },
  "orig_nbformat": 4,
  "vscode": {
   "interpreter": {
    "hash": "ea068c134c2909464fcc90b62f2818130ac80a4cb2bbdea0696436eccd047a75"
   }
  }
 },
 "nbformat": 4,
 "nbformat_minor": 2
}
